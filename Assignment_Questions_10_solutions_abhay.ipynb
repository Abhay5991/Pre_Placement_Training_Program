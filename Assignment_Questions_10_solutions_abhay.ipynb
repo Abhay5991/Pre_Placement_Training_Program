{
 "cells": [
  {
   "cell_type": "markdown",
   "id": "7b4a0962",
   "metadata": {},
   "source": [
    "# Question_1"
   ]
  },
  {
   "cell_type": "markdown",
   "id": "2f1a85a5",
   "metadata": {},
   "source": [
    "Given an integer `n`, return *`true` if it is a power of three. Otherwise, return `false`*.\n",
    "\n",
    "An integer `n` is a power of three, if there exists an integer `x` such that `n == 3x`.\n",
    "\n",
    "**Example 1:**\n",
    "\n",
    "```\n",
    "Input: n = 27\n",
    "Output: true\n",
    "Explanation: 27 = 33\n",
    "```\n",
    "\n",
    "**Example 2:**\n",
    "\n",
    "```\n",
    "Input: n = 0\n",
    "Output: false\n",
    "Explanation: There is no x where 3x = 0.\n",
    "\n",
    "```\n",
    "\n",
    "**Example 3:**\n",
    "    \n",
    "Input: n = -1\n",
    "Output: false\n",
    "Explanation: There is no x where 3x = (-1)."
   ]
  },
  {
   "cell_type": "markdown",
   "id": "a78273d2",
   "metadata": {},
   "source": [
    "# Algo"
   ]
  },
  {
   "cell_type": "markdown",
   "id": "a2d294d0",
   "metadata": {},
   "source": [
    "- If n is less than or equal to 0, return False.\n",
    "- Compute the base-3 logarithm of n using the log() function in the math module and round the result to the nearest integer using the round() function. Let's call this rounded value log_n.\n",
    "- Compute 3 ** log_n and compare it with n.\n",
    "- If the computed value is equal to n, return True; otherwise, return False."
   ]
  },
  {
   "cell_type": "code",
   "execution_count": 2,
   "id": "7e322f90",
   "metadata": {},
   "outputs": [
    {
     "name": "stdout",
     "output_type": "stream",
     "text": [
      "True\n",
      "False\n",
      "False\n"
     ]
    }
   ],
   "source": [
    "import math\n",
    "\n",
    "def isPowerOfThree(n):\n",
    "    if n <= 0:\n",
    "        return False\n",
    "    log_n = round(math.log(n, 3))\n",
    "    return 3 ** log_n == n\n",
    "\n",
    "# Example usage\n",
    "print(isPowerOfThree(27))  # Output: True\n",
    "print(isPowerOfThree(0))   # Output: False\n",
    "print(isPowerOfThree(-1))  # Output: False\n"
   ]
  },
  {
   "cell_type": "markdown",
   "id": "398361a0",
   "metadata": {},
   "source": [
    "- Time Complexity: O(1)\n",
    "\n",
    "The function performs a constant number of operations, regardless of the value of the input n. It involves computing the logarithm and exponentiation, which are typically efficient operations with a constant time complexity.\n",
    "\n",
    "- Space Complexity: O(1)\n",
    "\n",
    "The function uses a constant amount of additional space to store the rounded logarithm value and perform the exponentiation. The space complexity does not depend on the size of the input n.\n",
    "\n",
    "In summary, the isPowerOfThree() function has a time complexity of O(1) and a space complexity of O(1). It provides a constant-time solution for checking if a given integer n is a power of three."
   ]
  },
  {
   "cell_type": "markdown",
   "id": "75e81841",
   "metadata": {},
   "source": [
    "# Question_2"
   ]
  },
  {
   "cell_type": "markdown",
   "id": "26d3c453",
   "metadata": {},
   "source": [
    "You have a list `arr` of all integers in the range `[1, n]` sorted in a strictly increasing order. Apply the following algorithm on `arr`:\n",
    "\n",
    "- Starting from left to right, remove the first number and every other number afterward until you reach the end of the list.\n",
    "- Repeat the previous step again, but this time from right to left, remove the rightmost number and every other number from the remaining numbers.\n",
    "- Keep repeating the steps again, alternating left to right and right to left, until a single number remains.\n",
    "\n",
    "Given the integer `n`, return *the last number that remains in* `arr`.\n",
    "**Example 1:**\n",
    "\n",
    "```\n",
    "Input: n = 9\n",
    "Output: 6\n",
    "Explanation:\n",
    "arr = [1, 2,3, 4,5, 6,7, 8,9]\n",
    "arr = [2,4, 6,8]\n",
    "arr = [2, 6]\n",
    "arr = [6]\n",
    "\n",
    "```\n",
    "\n",
    "**Example 2:**\n",
    "Input: n = 1\n",
    "Output: 1"
   ]
  },
  {
   "cell_type": "markdown",
   "id": "e4a595c3",
   "metadata": {},
   "source": [
    "# Algo"
   ]
  },
  {
   "cell_type": "markdown",
   "id": "e367491e",
   "metadata": {},
   "source": [
    "- Create a list nums containing all the integers from 1 to n.\n",
    "- Create a boolean variable left_to_right and set it to True. This variable will help us determine the direction of removal.\n",
    "- While the length of nums is greater than 1, repeat the following steps:\n",
    "    - If left_to_right is True, remove every second element from nums by slicing the list with a step of 2. Assign the result back to nums.\n",
    "    - If left_to_right is False, remove every second element from the reversed nums by slicing with a step of 2. Reverse the resulting list and assign it back to nums.\n",
    "    - Toggle the value of left_to_right by assigning it the negation of its current value.\n",
    "- Return the single element remaining in nums."
   ]
  },
  {
   "cell_type": "code",
   "execution_count": 3,
   "id": "b877c384",
   "metadata": {},
   "outputs": [
    {
     "name": "stdout",
     "output_type": "stream",
     "text": [
      "6\n",
      "1\n"
     ]
    }
   ],
   "source": [
    "def lastRemaining(n):\n",
    "    nums = list(range(1, n + 1))\n",
    "    left_to_right = True\n",
    "\n",
    "    while len(nums) > 1:\n",
    "        if left_to_right:\n",
    "            nums = nums[1::2]\n",
    "        else:\n",
    "            nums = nums[::-1][1::2][::-1]\n",
    "        left_to_right = not left_to_right\n",
    "\n",
    "    return nums[0]\n",
    "\n",
    "# Example usage\n",
    "print(lastRemaining(9))  # Output: 6\n",
    "print(lastRemaining(1))  # Output: 1\n"
   ]
  },
  {
   "cell_type": "markdown",
   "id": "a38af4d7",
   "metadata": {},
   "source": [
    "- Time Complexity: O(log N)\n",
    "\n",
    "The number of steps required to reach the last remaining number is proportional to the number of times we can divide the input n by 2 until we reach 1. This can be represented as log base 2 of n. Therefore, the time complexity of the algorithm is O(log N), where N is the input number n.\n",
    "\n",
    "- Space Complexity: O(1)\n",
    "\n",
    "The function uses a constant amount of additional space to store the intermediate list nums, which represents the current state of numbers at each step. The space complexity does not depend on the size of the input n.\n",
    "\n",
    "In summary, the lastRemaining() function has a time complexity of O(log N) and a space complexity of O(1). It provides an efficient solution for finding the last number that remains after performing the given removal algorithm on a list of integers from 1 to n."
   ]
  },
  {
   "cell_type": "markdown",
   "id": "32660730",
   "metadata": {},
   "source": [
    "# Question_3"
   ]
  },
  {
   "cell_type": "markdown",
   "id": "2344b700",
   "metadata": {},
   "source": [
    "Given a set represented as a string, write a recursive code to print all subsets of it. The subsets can be printed in any order.\n",
    "\n",
    "**Example 1:**\n",
    "\n",
    "Input :  set = “abc”\n",
    "\n",
    "Output : { “”, “a”, “b”, “c”, “ab”, “ac”, “bc”, “abc”}\n",
    "\n",
    "**Example 2:**\n",
    "\n",
    "Input : set = “abcd”\n",
    "\n",
    "Output : { “”, “a” ,”ab” ,”abc” ,”abcd”, “abd” ,”ac” ,”acd”, “ad” ,”b”, “bc” ,”bcd” ,”bd” ,”c” ,”cd” ,”d” }"
   ]
  },
  {
   "cell_type": "markdown",
   "id": "28daf35e",
   "metadata": {},
   "source": [
    "# Algo"
   ]
  },
  {
   "cell_type": "markdown",
   "id": "bf993155",
   "metadata": {},
   "source": [
    "- Initialize an empty list to store the subsets.\n",
    "- Define a recursive helper function, generateSubsets, which takes the following parameters:\n",
    "    - set: The original set represented as a string.\n",
    "    - currentSubset: The current subset being generated.\n",
    "    - index: The index of the current element in the set.\n",
    "- In the generateSubsets function:\n",
    "    - If index is equal to the length of the set:\n",
    "        - Append currentSubset to the list of subsets.\n",
    "        - Return from the function.\n",
    "    - Include the element at index in currentSubset and recursively call generateSubsets with the next index.\n",
    "    - Exclude the element at index from currentSubset and recursively call generateSubsets with the next index.\n",
    "- Call the generateSubsets function with the initial parameters: set, an empty string as currentSubset, and index = 0.\n",
    "- Return the list of subsets."
   ]
  },
  {
   "cell_type": "code",
   "execution_count": 7,
   "id": "824b12b0",
   "metadata": {},
   "outputs": [
    {
     "name": "stdout",
     "output_type": "stream",
     "text": [
      "['', 'a', 'ab', 'abc', 'ac', 'b', 'bc', 'c']\n",
      "['', 'a', 'ab', 'abc', 'abcd', 'abd', 'ac', 'acd', 'ad', 'b', 'bc', 'bcd', 'bd', 'c', 'cd', 'd']\n"
     ]
    }
   ],
   "source": [
    "def printSubsets(set):\n",
    "    subsets = []\n",
    "\n",
    "    def generateSubsets(set, currentSubset, index):\n",
    "        if index == len(set):\n",
    "            subsets.append(currentSubset)\n",
    "            return\n",
    "\n",
    "        generateSubsets(set, currentSubset + set[index], index + 1)\n",
    "        generateSubsets(set, currentSubset, index + 1)\n",
    "\n",
    "    generateSubsets(set, \"\", 0)\n",
    "    subsets.sort()  # Sort the subsets in lexicographical order\n",
    "    return subsets\n",
    "\n",
    "# Example usage\n",
    "print(printSubsets(\"abc\"))   # Output: ['', 'a', 'ab', 'abc', 'ac', 'b', 'bc', 'c']\n",
    "print(printSubsets(\"abcd\"))  # Output: ['', 'a', 'ab', 'abc', 'abcd', 'abd', 'ac', 'acd', 'ad', 'b', 'bc', 'bcd', 'bd', 'c', 'cd', 'd']\n"
   ]
  },
  {
   "cell_type": "markdown",
   "id": "4892d1ab",
   "metadata": {},
   "source": [
    "The time complexity of the printSubsets function is O(2^n), where n is the length of the input set. This is because for each element in the set, we have two choices: include it in the current subset or exclude it. Since we have to generate all possible combinations, the number of subsets is exponential in the length of the set.\n",
    "\n",
    "The space complexity of the function is also O(2^n) because we need to store all the subsets in the subsets list. The number of subsets is exponential in the length of the set, so the space required to store them also grows exponentially.\n",
    "\n",
    "In terms of the recursive calls, the maximum depth of the recursion is equal to the length of the set. Therefore, the space complexity due to the recursive stack is O(n), where n is the length of the set.\n",
    "\n",
    "Overall, the time and space complexity of the algorithm is O(2^n)."
   ]
  },
  {
   "cell_type": "markdown",
   "id": "593003c2",
   "metadata": {},
   "source": [
    "# Question_4"
   ]
  },
  {
   "cell_type": "markdown",
   "id": "4fb906ef",
   "metadata": {},
   "source": [
    "Given a string calculate length of the string using recursion.\n",
    "\n",
    "**Examples:**\n",
    "\n",
    "Input : str = \"abcd\"\n",
    "Output :4\n",
    "\n",
    "Input : str = \"GEEKSFORGEEKS\"\n",
    "Output :13"
   ]
  },
  {
   "cell_type": "markdown",
   "id": "baff87ad",
   "metadata": {},
   "source": [
    "# Algo"
   ]
  },
  {
   "cell_type": "markdown",
   "id": "96f8769a",
   "metadata": {},
   "source": [
    "- Define a function calculateLength that takes a string string as input.\n",
    "- Check if the string is empty. If it is, return 0 as the length.\n",
    "- If the string is not empty, remove the first character from the string using slicing and recursively call calculateLength with the remaining string (string[1:]).\n",
    "- Add 1 to the result of the recursive call to account for the current character.\n",
    "- Return the sum obtained from step 4 as the final length of the string."
   ]
  },
  {
   "cell_type": "code",
   "execution_count": 9,
   "id": "3e7c5deb",
   "metadata": {},
   "outputs": [],
   "source": [
    "def calculateLength(string):\n",
    "    # Base case: if the string is empty, return 0\n",
    "    if string == \"\":\n",
    "        return 0\n",
    "    # Recursive case: add 1 for the current character and calculate length of the remaining string\n",
    "    return 1 + calculateLength(string[1:])"
   ]
  },
  {
   "cell_type": "code",
   "execution_count": 11,
   "id": "974c072c",
   "metadata": {},
   "outputs": [
    {
     "name": "stdout",
     "output_type": "stream",
     "text": [
      "4\n",
      "13\n"
     ]
    }
   ],
   "source": [
    "# Example usage\n",
    "print(calculateLength(\"abcd\"))  # Output: 4\n",
    "print(calculateLength(\"GEEKSFORGEEKS\"))  # Output: 13"
   ]
  },
  {
   "cell_type": "markdown",
   "id": "defdb2d8",
   "metadata": {},
   "source": [
    "The time complexity of the calculateLength function is O(n), where n is the length of the input string. This is because in each recursive call, we reduce the size of the string by one character until we reach the base case where the string is empty. Therefore, the number of recursive calls is equal to the length of the string.\n",
    "\n",
    "The space complexity of the function is O(n) as well. This is because in each recursive call, a new substring is created by slicing the original string. However, the space required to store these substrings is proportional to the length of the string, which is n. Additionally, the recursion uses stack space to keep track of the recursive calls. The maximum depth of the recursion is equal to the length of the string, so the space required for the recursive stack is also O(n).\n",
    "\n",
    "Overall, both the time and space complexity of the algorithm are O(n), where n is the length of the input string.\n"
   ]
  },
  {
   "cell_type": "markdown",
   "id": "cb8f5953",
   "metadata": {},
   "source": [
    "# Question_5"
   ]
  },
  {
   "cell_type": "markdown",
   "id": "359476b4",
   "metadata": {},
   "source": [
    "We are given a string S, we need to find count of all contiguous substrings starting and ending with same character.\n",
    "\n",
    "**Examples :**\n",
    "Input  : S = \"abcab\"\n",
    "Output : 7\n",
    "There are 15 substrings of \"abcab\"\n",
    "a, ab, abc, abca, abcab, b, bc, bca\n",
    "bcab, c, ca, cab, a, ab, b\n",
    "Out of the above substrings, there\n",
    "are 7 substrings : a, abca, b, bcab,\n",
    "c, a and b.\n",
    "\n",
    "Input  : S = \"aba\"\n",
    "Output : 4\n",
    "The substrings are a, b, a and aba"
   ]
  },
  {
   "cell_type": "markdown",
   "id": "503140a7",
   "metadata": {},
   "source": [
    "# Algo"
   ]
  },
  {
   "cell_type": "markdown",
   "id": "ec653721",
   "metadata": {},
   "source": [
    "- Initialize a variable count to 0.\n",
    "- Iterate over each character in the string S.\n",
    "- For each character S[i], iterate over the remaining characters from S[i] to the end of the string.\n",
    "- If S[i] is equal to S[j], increment count by 1.\n",
    "- Return the final value of count"
   ]
  },
  {
   "cell_type": "code",
   "execution_count": 19,
   "id": "d3521238",
   "metadata": {},
   "outputs": [
    {
     "name": "stdout",
     "output_type": "stream",
     "text": [
      "7\n",
      "4\n"
     ]
    }
   ],
   "source": [
    "def countContiguousSubstrings(S):\n",
    "    count = 0\n",
    "    n = len(S)\n",
    "    for i in range(n):\n",
    "        for j in range(i, n):\n",
    "            if S[i] == S[j]:\n",
    "                count += 1\n",
    "    return count\n",
    "\n",
    "# Example usage\n",
    "S = \"abcab\"\n",
    "print(countContiguousSubstrings(S))  # Output: 7\n",
    "\n",
    "S = \"aba\"\n",
    "print(countContiguousSubstrings(S))  # Output: 4\n"
   ]
  },
  {
   "cell_type": "markdown",
   "id": "75625f01",
   "metadata": {},
   "source": [
    "The time complexity of the algorithm is O(n^2), where n is the length of the string S. This is because the algorithm uses two nested loops that iterate over all possible substrings of S, resulting in a quadratic time complexity.\n",
    "\n",
    "The space complexity of the algorithm is O(1), meaning it uses a constant amount of extra space. The space required by the algorithm does not depend on the input size. It only uses a single variable count to store the count of substrings, regardless of the length of the string S.\n",
    "\n",
    "In summary:\n",
    "\n",
    "Time complexity: O(n^2)\n",
    "Space complexity: O(1)"
   ]
  },
  {
   "cell_type": "markdown",
   "id": "dd18e0f2",
   "metadata": {},
   "source": [
    "# Question_6"
   ]
  },
  {
   "cell_type": "markdown",
   "id": "900f1e9a",
   "metadata": {},
   "source": [
    "The tower of Hanoi is a famous puzzle where we have three rods and N disks. The objective of the puzzle is to move the entire stack to another rod. You are given the number of discs N. Initially, these discs are in the rod 1. You need to print all the steps of discs movement so that all the discs reach the 3rd rod. Also, you need to find the total moves.Note: The discs are arranged such that the top disc is numbered 1 and the bottom-most disc is numbered N. Also, all the discs have different sizes and a bigger disc cannot be put on the top of a smaller disc. Refer the provided link to get a better clarity about the puzzle.\n",
    "Example 1:\n",
    "Input:\n",
    "N = 2\n",
    "Output:\n",
    "move disk 1 from rod 1 to rod 2\n",
    "move disk 2 from rod 1 to rod 3\n",
    "move disk 1 from rod 2 to rod 3\n",
    "3\n",
    "Explanation:For N=2 , steps will be\n",
    "as follows in the example and total\n",
    "3 steps will be taken.\n",
    "\n",
    "Example 2:\n",
    "Input:\n",
    "N = 3\n",
    "Output:\n",
    "move disk 1 from rod 1 to rod 3\n",
    "move disk 2 from rod 1 to rod 2\n",
    "move disk 1 from rod 3 to rod 2\n",
    "move disk 3 from rod 1 to rod 3\n",
    "move disk 1 from rod 2 to rod 1\n",
    "move disk 2 from rod 2 to rod 3\n",
    "move disk 1 from rod 1 to rod 3\n",
    "7\n",
    "Explanation:For N=3 , steps will be\n",
    "as follows in the example and total\n",
    "7 steps will be taken."
   ]
  },
  {
   "cell_type": "markdown",
   "id": "7def5dbb",
   "metadata": {},
   "source": [
    "# Algo"
   ]
  },
  {
   "cell_type": "markdown",
   "id": "0904e6a3",
   "metadata": {},
   "source": [
    "- Define a function towerOfHanoi(n, source, destination, auxiliary) that takes the number of disks n, source rod, destination rod, and auxiliary rod as parameters.\n",
    "- If n is equal to 1, print the step to move the disk directly from the source rod to the destination rod and return 1.\n",
    "- Otherwise, perform the following steps recursively:\n",
    "    - Move n-1 disks from the source rod to the auxiliary rod using the destination rod as the auxiliary rod. Increment a counter variable to keep track of the total number of moves.\n",
    "    - Print the step to move the nth disk from the source rod to the destination rod.\n",
    "    - Move the n-1 disks from the auxiliary rod to the destination rod using the source rod as the auxiliary rod. Increment the counter variable.\n",
    "- Return the total number of moves."
   ]
  },
  {
   "cell_type": "code",
   "execution_count": 20,
   "id": "b42fbec0",
   "metadata": {},
   "outputs": [
    {
     "name": "stdout",
     "output_type": "stream",
     "text": [
      "move disk 1 from rod 1 to rod 2\n",
      "move disk 2 from rod 1 to rod 3\n",
      "move disk 1 from rod 2 to rod 3\n",
      "Total moves: 3\n",
      "move disk 1 from rod 1 to rod 3\n",
      "move disk 2 from rod 1 to rod 2\n",
      "move disk 1 from rod 3 to rod 2\n",
      "move disk 3 from rod 1 to rod 3\n",
      "move disk 1 from rod 2 to rod 1\n",
      "move disk 2 from rod 2 to rod 3\n",
      "move disk 1 from rod 1 to rod 3\n",
      "Total moves: 7\n"
     ]
    }
   ],
   "source": [
    "def towerOfHanoi(n, source, destination, auxiliary):\n",
    "    if n == 1:\n",
    "        print(\"move disk 1 from rod\", source, \"to rod\", destination)\n",
    "        return 1\n",
    "    \n",
    "    moves = 0\n",
    "    moves += towerOfHanoi(n-1, source, auxiliary, destination)\n",
    "    print(\"move disk\", n, \"from rod\", source, \"to rod\", destination)\n",
    "    moves += 1\n",
    "    moves += towerOfHanoi(n-1, auxiliary, destination, source)\n",
    "    \n",
    "    return moves\n",
    "\n",
    "# Example usage\n",
    "N = 2\n",
    "total_moves = towerOfHanoi(N, 1, 3, 2)\n",
    "print(\"Total moves:\", total_moves)\n",
    "\n",
    "N = 3\n",
    "total_moves = towerOfHanoi(N, 1, 3, 2)\n",
    "print(\"Total moves:\", total_moves)\n"
   ]
  },
  {
   "cell_type": "markdown",
   "id": "5a977243",
   "metadata": {},
   "source": [
    "The time complexity of the Tower of Hanoi algorithm is O(2^N), where N is the number of disks. This is because for each disk, the algorithm performs two recursive calls, resulting in exponential growth as the number of disks increases.\n",
    "\n",
    "The space complexity of the algorithm is O(N), where N is the number of disks. This is because the algorithm uses the call stack to store the recursive calls for each disk. The maximum depth of the call stack is equal to the number of disks."
   ]
  },
  {
   "cell_type": "markdown",
   "id": "2d39e126",
   "metadata": {},
   "source": [
    "# Question_7"
   ]
  },
  {
   "cell_type": "markdown",
   "id": "9f98d087",
   "metadata": {},
   "source": [
    "Given a string **str**, the task is to print all the permutations of **str**. A **permutation** is an arrangement of all or part of a set of objects, with regard to the order of the arrangement. For instance, the words ‘bat’ and ‘tab’ represents two distinct permutation (or arrangements) of a similar three letter word.\n",
    "\n",
    "**Examples:**\n",
    "> Input: str = “cd”\n",
    "> \n",
    "> \n",
    "> **Output:** cd dc\n",
    "> \n",
    "> **Input:** str = “abb”\n",
    "> \n",
    "> **Output:** abb abb bab bba bab bba\n",
    ">"
   ]
  },
  {
   "cell_type": "markdown",
   "id": "56e91d50",
   "metadata": {},
   "source": [
    "# Algo"
   ]
  },
  {
   "cell_type": "markdown",
   "id": "b13fb652",
   "metadata": {},
   "source": [
    "- Convert the input string into a list of characters for easier manipulation.\n",
    "- Define a recursive function permute that takes three parameters: the list of characters s, the starting index l, and the ending index r.\n",
    "- If l is equal to r, it means we have reached the end of a permutation. Print the current permutation by joining the characters in the list s and return.\n",
    "- Iterate through the range from l to r (inclusive).\n",
    "- Swap the characters at indices l and i in the list s to generate a new permutation.\n",
    "- Recursively call permute with the updated list s, l + 1, and r.\n",
    "- After the recursive call, swap the characters back to restore the original order. This is known as backtracking.\n",
    "- Call the permute function initially with the list of characters s, 0 as the starting index, and n - 1 as the ending index, where n is the length of the input string.\n",
    "- Print all the permutations generated by the permute function."
   ]
  },
  {
   "cell_type": "code",
   "execution_count": 22,
   "id": "19be08b0",
   "metadata": {},
   "outputs": [
    {
     "name": "stdout",
     "output_type": "stream",
     "text": [
      "cd\n",
      "dc\n",
      "abb\n",
      "abb\n",
      "bab\n",
      "bba\n",
      "bba\n",
      "bab\n"
     ]
    }
   ],
   "source": [
    "def permute(s, l, r):\n",
    "    if l == r:\n",
    "        print(\"\".join(s))\n",
    "    else:\n",
    "        for i in range(l, r + 1):\n",
    "            s[l], s[i] = s[i], s[l]  # swap\n",
    "            permute(s, l + 1, r)\n",
    "            s[l], s[i] = s[i], s[l]  # backtrack\n",
    "\n",
    "# Function to print all permutations of a string\n",
    "def printPermutations(str):\n",
    "    n = len(str)\n",
    "    s = list(str)\n",
    "    permute(s, 0, n - 1)\n",
    "\n",
    "# Example usage\n",
    "printPermutations(\"cd\")\n",
    "printPermutations(\"abb\")\n"
   ]
  },
  {
   "cell_type": "markdown",
   "id": "a51f6587",
   "metadata": {},
   "source": [
    "The time complexity of this algorithm is O(N!), where N is the length of the input string. This is because there are N! possible permutations of an N-character string.\n",
    "\n",
    "The space complexity is O(N), as we are using an additional list of characters to store the current permutation."
   ]
  },
  {
   "cell_type": "markdown",
   "id": "e4d363c4",
   "metadata": {},
   "source": [
    "# Question_8"
   ]
  },
  {
   "cell_type": "markdown",
   "id": "ccbb352d",
   "metadata": {},
   "source": [
    "Given a string, count total number of consonants in it. A consonant is an English alphabet character that is not vowel (a, e, i, o and u). Examples of constants are b, c, d, f, and g.\n",
    "\n",
    "**Examples :**\n",
    "Input : abc de\n",
    "Output : 3\n",
    "There are three consonants b, c and d.\n",
    "\n",
    "Input : geeksforgeeks portal\n",
    "Output : 12"
   ]
  },
  {
   "cell_type": "markdown",
   "id": "829677e9",
   "metadata": {},
   "source": [
    "# Algo"
   ]
  },
  {
   "cell_type": "markdown",
   "id": "97ef3e3b",
   "metadata": {},
   "source": [
    "- Initialize a variable count to 0 to keep track of the number of consonants.\n",
    "- Convert the input string to lowercase to handle both uppercase and lowercase characters uniformly.\n",
    "- Iterate over each character in the string.\n",
    "- Check if the character is an alphabet and not a vowel. If it satisfies both conditions, increment the count variable by 1.\n",
    "- After iterating through all the characters, the value of count will represent the total number of consonants in the string.\n",
    "- Return the value of count as the output."
   ]
  },
  {
   "cell_type": "code",
   "execution_count": 23,
   "id": "f6047534",
   "metadata": {},
   "outputs": [],
   "source": [
    "def countConsonants(s):\n",
    "    vowels = ['a', 'e', 'i', 'o', 'u']\n",
    "    count = 0\n",
    "    s = s.lower()\n",
    "\n",
    "    for char in s:\n",
    "        if char.isalpha() and char not in vowels:\n",
    "            count += 1\n",
    "\n",
    "    return count\n"
   ]
  },
  {
   "cell_type": "code",
   "execution_count": 24,
   "id": "0534b70a",
   "metadata": {},
   "outputs": [
    {
     "name": "stdout",
     "output_type": "stream",
     "text": [
      "3\n",
      "12\n"
     ]
    }
   ],
   "source": [
    "print(countConsonants(\"abc de\"))  # Output: 3\n",
    "print(countConsonants(\"geeksforgeeks portal\"))  # Output: 12\n"
   ]
  },
  {
   "cell_type": "markdown",
   "id": "ffe63fd5",
   "metadata": {},
   "source": [
    "- The time complexity of this solution is O(n), where n is the length of the input string, as we need to iterate through each character once. \n",
    "- The space complexity is O(1), as we are using a fixed amount of additional space regardless of the input size."
   ]
  },
  {
   "cell_type": "code",
   "execution_count": null,
   "id": "145fc104",
   "metadata": {},
   "outputs": [],
   "source": []
  }
 ],
 "metadata": {
  "kernelspec": {
   "display_name": "Python 3 (ipykernel)",
   "language": "python",
   "name": "python3"
  },
  "language_info": {
   "codemirror_mode": {
    "name": "ipython",
    "version": 3
   },
   "file_extension": ".py",
   "mimetype": "text/x-python",
   "name": "python",
   "nbconvert_exporter": "python",
   "pygments_lexer": "ipython3",
   "version": "3.11.3"
  }
 },
 "nbformat": 4,
 "nbformat_minor": 5
}
