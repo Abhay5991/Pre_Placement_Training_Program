{
 "cells": [
  {
   "cell_type": "markdown",
   "id": "a0610f66",
   "metadata": {},
   "source": [
    "## Assignment_2"
   ]
  },
  {
   "cell_type": "markdown",
   "id": "a622b129",
   "metadata": {},
   "source": [
    "## Questions_1"
   ]
  },
  {
   "cell_type": "raw",
   "id": "bc89d5e3",
   "metadata": {},
   "source": [
    "\n",
    "Given an integer array nums of 2n integers, group these integers into n pairs (a1, b1), (a2, b2),..., (an, bn) such that the sum of min(ai, bi) for all i is maximized. Return the maximized sum.\n",
    "\n",
    "**Example 1:**\n",
    "Input: nums = [1,4,3,2]\n",
    "Output: 4\n",
    "\n",
    "**Explanation:** All possible pairings (ignoring the ordering of elements) are:\n",
    "\n",
    "1. (1, 4), (2, 3) -> min(1, 4) + min(2, 3) = 1 + 2 = 3\n",
    "2. (1, 3), (2, 4) -> min(1, 3) + min(2, 4) = 1 + 2 = 3\n",
    "3. (1, 2), (3, 4) -> min(1, 2) + min(3, 4) = 1 + 3 = 4\n",
    "So the maximum possible sum is 4\n"
   ]
  },
  {
   "cell_type": "markdown",
   "id": "3e46f4bc",
   "metadata": {},
   "source": [
    "# Algo"
   ]
  },
  {
   "cell_type": "markdown",
   "id": "46bd215f",
   "metadata": {},
   "source": [
    "- Sort the array nums in ascending order.\n",
    "- Initialize a variable max_sum to 0.\n",
    "- Iterate over the sorted array nums with a step size of 2.\n",
    "    - For each iteration, add the current element to max_sum.\n",
    "- Return max_sum."
   ]
  },
  {
   "cell_type": "code",
   "execution_count": 1,
   "id": "59bef928",
   "metadata": {},
   "outputs": [],
   "source": [
    "def arrayPairSum(nums):\n",
    "    nums.sort()  # Sort the array in ascending order\n",
    "    max_sum = 0\n",
    "\n",
    "    for i in range(0, len(nums), 2):\n",
    "        max_sum += nums[i]\n",
    "\n",
    "    return max_sum\n"
   ]
  },
  {
   "cell_type": "code",
   "execution_count": 2,
   "id": "57032ba3",
   "metadata": {},
   "outputs": [
    {
     "name": "stdout",
     "output_type": "stream",
     "text": [
      "4\n"
     ]
    }
   ],
   "source": [
    "nums = [1, 4, 3, 2]\n",
    "result = arrayPairSum(nums)\n",
    "print(result)\n"
   ]
  },
  {
   "cell_type": "raw",
   "id": "5acc391d",
   "metadata": {},
   "source": [
    "Sorting the array using an efficient algorithm like quicksort or mergesort has a time complexity of O(n log n), where n is the size of the input array.\n",
    "Iterating over the sorted array takes O(n/2) time, which simplifies to O(n).\n",
    "Therefore, the overall time complexity of the algorithm is O(n log n) + O(n), which can be simplified to O(n log n) since the dominating term is the sorting operation.\n",
    "\n",
    "As for the space complexity, the algorithm doesn't use any additional data structures that grow with the input size. It only requires a constant amount of extra space for variables such as max_sum and loop counters. Hence, the space complexity is O(1), indicating constant space usage regardless of the input size.\n",
    "\n",
    "In summary:\n",
    "\n",
    "Time complexity: O(n log n)\n",
    "Space complexity: O(1)|"
   ]
  },
  {
   "cell_type": "markdown",
   "id": "b8ab8337",
   "metadata": {},
   "source": [
    "## Questions_2"
   ]
  },
  {
   "cell_type": "raw",
   "id": "cf52e7bd",
   "metadata": {},
   "source": [
    "Alice has n candies, where the ith candy is of type candyType[i]. Alice noticed that she started to gain weight, so she visited a doctor. \n",
    "\n",
    "The doctor advised Alice to only eat n / 2 of the candies she has (n is always even). Alice likes her candies very much, and she wants to eat the maximum number of different types of candies while still following the doctor's advice. \n",
    "\n",
    "Given the integer array candyType of length n, return the maximum number of different types of candies she can eat if she only eats n / 2 of them.\n",
    "\n",
    "Example 1:\n",
    "Input: candyType = [1,1,2,2,3,3]\n",
    "Output: 3\n",
    "\n",
    "Explanation: Alice can only eat 6 / 2 = 3 candies. Since there are only 3 types, she can eat one of each type."
   ]
  },
  {
   "cell_type": "markdown",
   "id": "f37731bc",
   "metadata": {},
   "source": [
    "# Algo"
   ]
  },
  {
   "cell_type": "markdown",
   "id": "e3a4c21c",
   "metadata": {},
   "source": [
    "- Calculate the maximum number of unique candies Alice can eat, which is min(n/2, the number of unique candies in the array).\n",
    "- Return the maximum number of unique candies as the result."
   ]
  },
  {
   "cell_type": "code",
   "execution_count": 3,
   "id": "0b1f55ff",
   "metadata": {},
   "outputs": [],
   "source": [
    "def maxCandies(candyType):\n",
    "    max_candies = min(len(candyType) // 2, len(set(candyType)))\n",
    "    return max_candies\n"
   ]
  },
  {
   "cell_type": "code",
   "execution_count": 4,
   "id": "1682a290",
   "metadata": {},
   "outputs": [
    {
     "name": "stdout",
     "output_type": "stream",
     "text": [
      "3\n"
     ]
    }
   ],
   "source": [
    "candyType = [1, 1, 2, 2, 3, 3]\n",
    "result = maxCandies(candyType)\n",
    "print(result)"
   ]
  },
  {
   "cell_type": "raw",
   "id": "aa002a64",
   "metadata": {},
   "source": [
    "Finding the number of unique candies: The algorithm uses the set() function to create a set from the candyType array, which removes duplicates and retains only unique elements. The time complexity of creating a set from an array is O(n), where n is the length of the array.\n",
    "\n",
    "Calculating the minimum value: The algorithm calculates the minimum between len(candyType) // 2 and the number of unique candies. Both operations have constant time complexity, so they don't significantly affect the overall time complexity.\n",
    "\n",
    "Therefore, the overall time complexity of the algorithm is O(n), where n is the length of the candyType array.\n",
    "\n",
    "As for the space complexity:\n",
    "\n",
    "Creating the set of unique candies using set(candyType) requires additional space to store the unique elements. The space complexity for this operation is O(k), where k is the number of unique candies in the array.\n",
    "Other variables used in the algorithm, such as max_candies, require a constant amount of space.\n",
    "Therefore, the space complexity of the algorithm is O(k), where k is the number of unique candies.\n",
    "\n",
    "In summary:\n",
    "\n",
    "Time complexity: O(n)\n",
    "Space complexity: O(k)"
   ]
  },
  {
   "cell_type": "markdown",
   "id": "9560f07f",
   "metadata": {},
   "source": [
    "## Questions_3"
   ]
  },
  {
   "cell_type": "raw",
   "id": "12b3062a",
   "metadata": {},
   "source": [
    "We define a harmonious array as an array where the difference between its maximum value\n",
    "and its minimum value is exactly 1.\n",
    "\n",
    "Given an integer array nums, return the length of its longest harmonious subsequence\n",
    "among all its possible subsequences.\n",
    "\n",
    "A subsequence of an array is a sequence that can be derived from the array by deleting some or no elements without changing the order of the remaining elements.\n",
    "\n",
    "Example 1:\n",
    "Input: nums = [1,3,2,2,5,2,3,7]\n",
    "Output: 5\n",
    "\n",
    "Explanation: The longest harmonious subsequence is [3,2,2,2,3]."
   ]
  },
  {
   "cell_type": "markdown",
   "id": "a7629e81",
   "metadata": {},
   "source": [
    "# Algo"
   ]
  },
  {
   "cell_type": "raw",
   "id": "aaa44b2b",
   "metadata": {},
   "source": [
    "- Initialize an empty dictionary, frequency, to store the frequency of each element in the array.\n",
    "- Iterate over the elements of the array and update their frequency in the frequency dictionary.\n",
    "- Initialize a variable, max_length, to 0.\n",
    "- Iterate over the keys in the frequency dictionary.\n",
    "    - If the current key plus 1 exists in the frequency dictionary, calculate the length of the harmonious subsequence starting with the current key. Update max_length if necessary.\n",
    "- Return max_length as the length of the longest harmonious subsequence."
   ]
  },
  {
   "cell_type": "code",
   "execution_count": 6,
   "id": "055ddda7",
   "metadata": {},
   "outputs": [],
   "source": [
    "def findLHS(nums):\n",
    "    frequency = {}\n",
    "    max_length = 0\n",
    "\n",
    "    for num in nums:\n",
    "        frequency[num] = frequency.get(num, 0) + 1\n",
    "\n",
    "    for key in frequency:\n",
    "        if key + 1 in frequency:\n",
    "            length = frequency[key] + frequency[key + 1]\n",
    "            max_length = max(max_length, length)\n",
    "\n",
    "    return max_length\n"
   ]
  },
  {
   "cell_type": "code",
   "execution_count": 7,
   "id": "56d858fb",
   "metadata": {},
   "outputs": [
    {
     "name": "stdout",
     "output_type": "stream",
     "text": [
      "5\n"
     ]
    }
   ],
   "source": [
    "nums = [1, 3, 2, 2, 5, 2, 3, 7]\n",
    "result = findLHS(nums)\n",
    "print(result)\n"
   ]
  },
  {
   "cell_type": "raw",
   "id": "b338b496",
   "metadata": {},
   "source": [
    "Constructing the frequency dictionary: Iterating over the elements of the array and updating the frequency in the frequency dictionary takes O(n) time, where n is the length of the input array nums.\n",
    "\n",
    "Finding the longest harmonious subsequence: Iterating over the keys in the frequency dictionary and performing constant-time operations to check if the current key plus 1 exists in the dictionary takes O(k) time, where k is the number of unique elements in the array.\n",
    "\n",
    "Therefore, the overall time complexity of the algorithm is O(n + k).\n",
    "\n",
    "As for the space complexity:\n",
    "\n",
    "The frequency dictionary stores the frequency of each element in the array. In the worst case, if all elements in the array are unique, the dictionary will have a size of O(n) to store all elements. Hence, the space complexity of the frequency dictionary is O(n).\n",
    "\n",
    "Other variables used in the algorithm, such as max_length and loop counters, require a constant amount of space.\n",
    "\n",
    "Therefore, the overall space complexity of the algorithm is O(n).\n",
    "\n",
    "In summary:\n",
    "\n",
    "Time complexity: O(n + k)\n",
    "Space complexity: O(n)\n",
    "The algorithm has a linear time complexity and linear space complexity, where n is the length of the input array nums, and k is the number of unique elements in the array."
   ]
  },
  {
   "cell_type": "markdown",
   "id": "0d35b33a",
   "metadata": {},
   "source": [
    "## Questions_4"
   ]
  },
  {
   "cell_type": "raw",
   "id": "78b6d194",
   "metadata": {},
   "source": [
    "You have a long flowerbed in which some of the plots are planted, and some are not.\n",
    "However, flowers cannot be planted in adjacent plots.\n",
    "Given an integer array flowerbed containing 0's and 1's, where 0 means empty and 1 means not empty, and an integer n, return true if n new flowers can be planted in the flowerbed without violating the no-adjacent-flowers rule and false otherwise.\n",
    "\n",
    "Example 1:\n",
    "Input: flowerbed = [1,0,0,0,1], n = 1\n",
    "Output: true"
   ]
  },
  {
   "cell_type": "markdown",
   "id": "5db1c9b6",
   "metadata": {},
   "source": [
    "# Algo"
   ]
  },
  {
   "cell_type": "markdown",
   "id": "e3497b6c",
   "metadata": {},
   "source": [
    "- Initialize a variable count to keep track of the number of available spots to plant flowers.\n",
    "- Iterate over the flowerbed array.\n",
    "    - Check if the current plot is empty (0) and its adjacent plots are also empty or out of bounds.\n",
    "    - If all conditions are met, increment count by 1 and mark the current plot as planted (1).\n",
    "    - If count reaches the value of n, return True as we have successfully planted all the required flowers.\n",
    "- Return False if we have not planted n flowers."
   ]
  },
  {
   "cell_type": "code",
   "execution_count": 10,
   "id": "0415cb68",
   "metadata": {},
   "outputs": [],
   "source": [
    "def canPlaceFlowers(flowerbed, n):\n",
    "    count = 0\n",
    "    i = 0\n",
    "    while i < len(flowerbed):\n",
    "        if flowerbed[i] == 0 and (i == 0 or flowerbed[i-1] == 0) and (i == len(flowerbed) - 1 or flowerbed[i+1] == 0):\n",
    "            flowerbed[i] = 1  # plant a flower\n",
    "            n -= 1\n",
    "            i += 1  # skip the next plot as it cannot be planted\n",
    "        i += 1\n",
    "\n",
    "    return n <= 0\n"
   ]
  },
  {
   "cell_type": "code",
   "execution_count": 11,
   "id": "ce81f923",
   "metadata": {},
   "outputs": [
    {
     "name": "stdout",
     "output_type": "stream",
     "text": [
      "True\n"
     ]
    }
   ],
   "source": [
    "flowerbed = [1, 0, 0, 0, 1]\n",
    "n = 1\n",
    "result = canPlaceFlowers(flowerbed, n)\n",
    "print(result)\n"
   ]
  },
  {
   "cell_type": "raw",
   "id": "0464a02e",
   "metadata": {},
   "source": [
    "The time complexity of the updated algorithm is O(n), where n is the length of the flowerbed array. This is because we iterate over the entire array once in the worst case.\n",
    "\n",
    "The space complexity of the algorithm is O(1) since we are using a constant amount of extra space. We only need a few variables (count, i) to keep track of the state of the algorithm, and their space requirements do not depend on the size of the input.\n",
    "\n",
    "In summary:\n",
    "\n",
    "Time complexity: O(n)\n",
    "Space complexity: O(1)\n",
    "The algorithm has a linear time complexity and constant space complexity, making it efficient for solving the \"Can Place Flowers\" problem."
   ]
  },
  {
   "cell_type": "markdown",
   "id": "e31ac184",
   "metadata": {},
   "source": [
    "# Question_5"
   ]
  },
  {
   "cell_type": "raw",
   "id": "241beed5",
   "metadata": {},
   "source": [
    "Given an integer array nums, find three numbers whose product is maximum and return the maximum product.\n",
    "\n",
    "Example 1:\n",
    "Input: nums = [1,2,3]\n",
    "Output: 6"
   ]
  },
  {
   "cell_type": "markdown",
   "id": "b6aa173d",
   "metadata": {},
   "source": [
    "# Algo"
   ]
  },
  {
   "cell_type": "markdown",
   "id": "1dc14ed3",
   "metadata": {},
   "source": [
    "- Sort the array nums in ascending order.\n",
    "- Calculate two possible products:\n",
    "    - Product of the three largest elements: nums[-1] * nums[-2] * nums[-3]\n",
    "    - Product of the two smallest elements (if there are negative numbers in the array) and the largest element: nums[0] * nums[1] * nums[-1]\n",
    "- Return the maximum of the two products calculated in step 2.\n",
    "\n",
    "# - Here's the algorithm in more detail:\n",
    "\n",
    "- Sort the array nums in ascending order.\n",
    "- Calculate two possible products:\n",
    "    - Initialize product1 as nums[-1] * nums[-2] * nums[-3].\n",
    "    - Initialize product2 as nums[0] * nums[1] * nums[-1].\n",
    "- Return the maximum of product1 and product2."
   ]
  },
  {
   "cell_type": "code",
   "execution_count": 12,
   "id": "4da42656",
   "metadata": {},
   "outputs": [],
   "source": [
    "def maximumProduct(nums):\n",
    "    nums.sort()\n",
    "    product1 = nums[-1] * nums[-2] * nums[-3]\n",
    "    product2 = nums[0] * nums[1] * nums[-1]\n",
    "    return max(product1, product2)\n"
   ]
  },
  {
   "cell_type": "code",
   "execution_count": 13,
   "id": "39a4432c",
   "metadata": {},
   "outputs": [
    {
     "name": "stdout",
     "output_type": "stream",
     "text": [
      "6\n"
     ]
    }
   ],
   "source": [
    "nums = [1, 2, 3]\n",
    "result = maximumProduct(nums)\n",
    "print(result)\n"
   ]
  },
  {
   "cell_type": "raw",
   "id": "26746617",
   "metadata": {},
   "source": [
    "The time complexity of the algorithm is determined by the sorting operation, which has a time complexity of O(n log n), where n is the length of the input array nums. After sorting, we perform a constant number of operations to calculate the two possible products, which is negligible compared to the sorting operation. Therefore, the overall time complexity is O(n log n).\n",
    "\n",
    "The space complexity of the algorithm is O(1) since we are using a constant amount of extra space. We don't use any additional data structures that depend on the size of the input array. The sorting operation may modify the input array in-place, but it doesn't require any additional memory proportional to the size of the array.\n",
    "\n",
    "In summary:\n",
    "\n",
    "Time complexity: O(n log n)\n",
    "Space complexity: O(1)"
   ]
  },
  {
   "cell_type": "markdown",
   "id": "b3bc9683",
   "metadata": {},
   "source": [
    "# Question_6"
   ]
  },
  {
   "cell_type": "raw",
   "id": "f35bdb92",
   "metadata": {},
   "source": [
    "Given an array of integers nums which is sorted in ascending order, and an integer target,\n",
    "write a function to search target in nums. If target exists, then return its index. Otherwise,\n",
    "return -1.\n",
    "\n",
    "You must write an algorithm with O(log n) runtime complexity.\n",
    "\n",
    "Input: nums = [-1,0,3,5,9,12], target = 9\n",
    "Output: 4\n",
    "\n",
    "Explanation: 9 exists in nums and its index is 4"
   ]
  },
  {
   "cell_type": "markdown",
   "id": "4c204318",
   "metadata": {},
   "source": [
    "# Algo"
   ]
  },
  {
   "cell_type": "markdown",
   "id": "4a4b3a3c",
   "metadata": {},
   "source": [
    "- Initialize two pointers, left and right, pointing to the start and end of the array, respectively.\n",
    "- Perform binary search iterations while left < right:\n",
    "    - Calculate the middle index as mid = left + (right - left) // 2.\n",
    "    - If nums[mid] is equal to the target, return mid as the index of the target.\n",
    "    - If nums[mid] is greater than or equal to the target, update right = mid to search in the left half of the array.\n",
    "    - If nums[mid] is less than the target, update left = mid + 1 to search in the right half of the array.\n",
    "- After the binary search iterations, check if nums[left] is equal to the target. If it is, return left as the index of the target.\n",
    "- If the target is not found, return -1."
   ]
  },
  {
   "cell_type": "code",
   "execution_count": 15,
   "id": "d402f5f0",
   "metadata": {},
   "outputs": [],
   "source": [
    "def search(nums, target):\n",
    "    left = 0\n",
    "    right = len(nums)\n",
    "\n",
    "    while left < right:\n",
    "        mid = left + (right - left) // 2\n",
    "\n",
    "        if nums[mid] == target:\n",
    "            return mid\n",
    "        elif nums[mid] >= target:\n",
    "            right = mid\n",
    "        else:\n",
    "            left = mid + 1\n",
    "\n",
    "    if left < len(nums) and nums[left] == target:\n",
    "        return left\n",
    "\n",
    "    return -1\n"
   ]
  },
  {
   "cell_type": "code",
   "execution_count": 16,
   "id": "f608019e",
   "metadata": {},
   "outputs": [
    {
     "name": "stdout",
     "output_type": "stream",
     "text": [
      "4\n"
     ]
    }
   ],
   "source": [
    "nums = [-1, 0, 3, 5, 9, 12]\n",
    "target = 9\n",
    "result = search(nums, target)\n",
    "print(result)\n"
   ]
  },
  {
   "cell_type": "raw",
   "id": "a5b8661c",
   "metadata": {},
   "source": [
    "The time complexity of the binary search variant algorithm is O(log n), where n is the length of the input array nums. In each iteration, the search space is effectively halved, which leads to a logarithmic time complexity.\n",
    "\n",
    "The space complexity of the algorithm is O(1) since it uses a constant amount of extra space. The algorithm performs the search iteratively and does not require any additional data structures that depend on the size of the input array.\n",
    "\n",
    "In summary:\n",
    "\n",
    "Time complexity: O(log n)\n",
    "Space complexity: O(1)\n",
    "The algorithm achieves the desired O(log n) runtime complexity and has a space complexity of O(1), making it efficient in terms of both time and space."
   ]
  },
  {
   "cell_type": "markdown",
   "id": "cb5865c4",
   "metadata": {},
   "source": [
    "# Question_7"
   ]
  },
  {
   "cell_type": "raw",
   "id": "ac6aba2d",
   "metadata": {},
   "source": [
    "An array is monotonic if it is either monotone increasing or monotone decreasing.\n",
    "\n",
    "An array nums is monotone increasing if for all i <= j, nums[i] <= nums[j]. An array nums is\n",
    "monotone decreasing if for all i <= j, nums[i] >= nums[j].\n",
    "\n",
    "Given an integer array nums, return true if the given array is monotonic, or false otherwise.\n",
    "\n",
    "Example 1:\n",
    "Input: nums = [1,2,2,3]\n",
    "Output: true"
   ]
  },
  {
   "cell_type": "markdown",
   "id": "692b408b",
   "metadata": {},
   "source": [
    "# Algo"
   ]
  },
  {
   "cell_type": "markdown",
   "id": "2ec20865",
   "metadata": {},
   "source": [
    "- Initialize two boolean variables, isIncreasing and isDecreasing, as true.\n",
    "- Iterate through the array starting from the second element:\n",
    "    - If the current element nums[i] is less than the previous element nums[i-1], set isIncreasing to false.\n",
    "    - If the current element nums[i] is greater than the previous element nums[i-1], set isDecreasing to false.\n",
    "    - If both isIncreasing and isDecreasing are false, return false since the array is neither monotone increasing nor monotone decreasing.\n",
    "- If the loop completes without returning false, return true."
   ]
  },
  {
   "cell_type": "code",
   "execution_count": 17,
   "id": "c809593e",
   "metadata": {},
   "outputs": [],
   "source": [
    "def isMonotonic(nums):\n",
    "    isIncreasing = True\n",
    "    isDecreasing = True\n",
    "\n",
    "    for i in range(1, len(nums)):\n",
    "        if nums[i] < nums[i - 1]:\n",
    "            isIncreasing = False\n",
    "        if nums[i] > nums[i - 1]:\n",
    "            isDecreasing = False\n",
    "        if not isIncreasing and not isDecreasing:\n",
    "            return False\n",
    "\n",
    "    return True\n"
   ]
  },
  {
   "cell_type": "code",
   "execution_count": 18,
   "id": "befd447f",
   "metadata": {},
   "outputs": [
    {
     "name": "stdout",
     "output_type": "stream",
     "text": [
      "True\n"
     ]
    }
   ],
   "source": [
    "nums = [1, 2, 2, 3]\n",
    "result = isMonotonic(nums)\n",
    "print(result)\n"
   ]
  },
  {
   "cell_type": "raw",
   "id": "39dff728",
   "metadata": {},
   "source": [
    "The time complexity of the algorithm is O(n), where n is the length of the input array nums. This is because we need to iterate through each element of the array once.\n",
    "\n",
    "The space complexity of the algorithm is O(1) since it uses a constant amount of extra space."
   ]
  },
  {
   "cell_type": "markdown",
   "id": "a166b9ef",
   "metadata": {},
   "source": [
    "# Question_8"
   ]
  },
  {
   "cell_type": "raw",
   "id": "8aef583d",
   "metadata": {},
   "source": [
    "You are given an integer array nums and an integer k.\n",
    "\n",
    "In one operation, you can choose any index i where 0 <= i < nums.length and change nums[i] to nums[i] + x where x is an integer from the range [-k, k]. You can apply this operation at most once for each index i.\n",
    "\n",
    "The score of nums is the difference between the maximum and minimum elements in nums.\n",
    "\n",
    "Return the minimum score of nums after applying the mentioned operation at most once for each index in it.\n",
    "\n",
    "Example 1:\n",
    "Input: nums = [1], k = 0\n",
    "Output: 0\n",
    "\n",
    "Explanation: The score is max(nums) - min(nums) = 1 - 1 = 0."
   ]
  },
  {
   "cell_type": "markdown",
   "id": "28defdc7",
   "metadata": {},
   "source": [
    "# Algo"
   ]
  },
  {
   "cell_type": "markdown",
   "id": "0dcf9897",
   "metadata": {},
   "source": [
    "- Find the minimum and maximum elements in the array nums.\n",
    "- If the difference between the minimum and maximum elements is already less than or equal to 2k, return 0 since no operations are needed. Otherwise, proceed to the next steps.\n",
    "- Calculate the midpoint value as (minimum + maximum) // 2.\n",
    "- Iterate through each element in the array:\n",
    "    - If the current element nums[i] is less than or equal to the midpoint, update it to minimum + k.\n",
    "    - If the current element nums[i] is greater than the midpoint, update it to maximum - k.\n",
    "- Calculate the new minimum and maximum values in the modified array.\n",
    "- Return the difference between the new maximum and minimum values."
   ]
  },
  {
   "cell_type": "code",
   "execution_count": 19,
   "id": "9ff96d21",
   "metadata": {},
   "outputs": [],
   "source": [
    "def minimumScore(nums, k):\n",
    "    minimum = min(nums)\n",
    "    maximum = max(nums)\n",
    "\n",
    "    if maximum - minimum <= 2 * k:\n",
    "        return 0\n",
    "\n",
    "    midpoint = (minimum + maximum) // 2\n",
    "\n",
    "    for i in range(len(nums)):\n",
    "        if nums[i] <= midpoint:\n",
    "            nums[i] = minimum + k\n",
    "        else:\n",
    "            nums[i] = maximum - k\n",
    "\n",
    "    new_minimum = min(nums)\n",
    "    new_maximum = max(nums)\n",
    "\n",
    "    return new_maximum - new_minimum\n"
   ]
  },
  {
   "cell_type": "code",
   "execution_count": 20,
   "id": "c3a5925a",
   "metadata": {},
   "outputs": [
    {
     "name": "stdout",
     "output_type": "stream",
     "text": [
      "0\n"
     ]
    }
   ],
   "source": [
    "nums = [1]\n",
    "k = 0\n",
    "result = minimumScore(nums, k)\n",
    "print(result)\n"
   ]
  },
  {
   "cell_type": "raw",
   "id": "eacb8618",
   "metadata": {},
   "source": [
    "The time complexity of the algorithm is O(n), where n is the length of the input array nums. This is because we need to iterate through each element of the array once.\n",
    "\n",
    "The space complexity of the algorithm is O(1) since it uses a constant amount of extra space."
   ]
  },
  {
   "cell_type": "code",
   "execution_count": null,
   "id": "d662cf40",
   "metadata": {},
   "outputs": [],
   "source": []
  }
 ],
 "metadata": {
  "kernelspec": {
   "display_name": "Python 3 (ipykernel)",
   "language": "python",
   "name": "python3"
  },
  "language_info": {
   "codemirror_mode": {
    "name": "ipython",
    "version": 3
   },
   "file_extension": ".py",
   "mimetype": "text/x-python",
   "name": "python",
   "nbconvert_exporter": "python",
   "pygments_lexer": "ipython3",
   "version": "3.11.3"
  }
 },
 "nbformat": 4,
 "nbformat_minor": 5
}
