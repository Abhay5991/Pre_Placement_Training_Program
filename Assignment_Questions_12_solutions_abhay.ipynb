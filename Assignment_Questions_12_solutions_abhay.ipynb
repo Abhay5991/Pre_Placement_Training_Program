{
 "cells": [
  {
   "cell_type": "markdown",
   "id": "f2bcac83",
   "metadata": {},
   "source": [
    "# Question 1"
   ]
  },
  {
   "cell_type": "markdown",
   "id": "0471934e",
   "metadata": {},
   "source": [
    "Given a singly linked list, delete **middle** of the linked list. For example, if given linked list is 1->2->**3**->4->5 then linked list should be modified to 1->2->4->5.If there are **even** nodes, then there would be **two middle** nodes, we need to delete the second middle element. For example, if given linked list is 1->2->3->4->5->6 then it should be modified to 1->2->3->5->6.If the input linked list is NULL or has 1 node, then it should return NULL\n",
    "\n",
    "**Example 1:**\n",
    "\n",
    "```\n",
    "Input:\n",
    "LinkedList: 1->2->3->4->5\n",
    "Output:1 2 4 5\n",
    "\n",
    "```\n",
    "\n",
    "**Example 2:**\n",
    "Input:\n",
    "LinkedList: 2->4->6->7->5->1\n",
    "Output:2 4 6 5 1"
   ]
  },
  {
   "cell_type": "markdown",
   "id": "99bc66e7",
   "metadata": {},
   "source": [
    "# Algo"
   ]
  },
  {
   "cell_type": "markdown",
   "id": "295d74f8",
   "metadata": {},
   "source": [
    "- Initialize two pointers, slow_ptr and fast_ptr, to the head of the linked list.\n",
    "- Traverse the linked list with the fast_ptr, moving two steps at a time, and the slow_ptr, moving one step at a time. This way, when the fast_ptr reaches the end of the linked list, the slow_ptr will be pointing to the middle (or second middle) element.\n",
    "- To delete the middle node(s), you need to update the next pointer of the previous node to skip over the middle node(s).\n",
    "- Handle special cases:\n",
    "    - If the linked list is empty or has only one node, return NULL since there is no middle node to delete.\n",
    "    - If the middle node(s) is/are the first node(s) of the linked list, update the head pointer to the next node(s).\n",
    "- Return the updated linked list."
   ]
  },
  {
   "cell_type": "code",
   "execution_count": 1,
   "id": "09990e63",
   "metadata": {},
   "outputs": [],
   "source": [
    "class Node:\n",
    "    def __init__(self, data=None):\n",
    "        self.data = data\n",
    "        self.next = None\n",
    "\n",
    "def delete_middle_node(head):\n",
    "    # Check if linked list is empty or has only one node\n",
    "    if not head or not head.next:\n",
    "        return None\n",
    "\n",
    "    slow_ptr = head\n",
    "    fast_ptr = head\n",
    "    prev_ptr = None\n",
    "\n",
    "    while fast_ptr and fast_ptr.next:\n",
    "        fast_ptr = fast_ptr.next.next\n",
    "        prev_ptr = slow_ptr\n",
    "        slow_ptr = slow_ptr.next\n",
    "\n",
    "    # Update previous node's next pointer to skip the middle node(s)\n",
    "    prev_ptr.next = slow_ptr.next\n",
    "\n",
    "    return head\n"
   ]
  },
  {
   "cell_type": "code",
   "execution_count": 3,
   "id": "b577d6b0",
   "metadata": {},
   "outputs": [
    {
     "name": "stdout",
     "output_type": "stream",
     "text": [
      "1 2 4 5 "
     ]
    }
   ],
   "source": [
    "# Example 1\n",
    "head1 = Node(1)\n",
    "head1.next = Node(2)\n",
    "head1.next.next = Node(3)\n",
    "head1.next.next.next = Node(4)\n",
    "head1.next.next.next.next = Node(5)\n",
    "\n",
    "head1 = delete_middle_node(head1)\n",
    "\n",
    "current = head1\n",
    "while current:\n",
    "    print(current.data, end=\" \")\n",
    "    current = current.next\n",
    "# Output: 1 2 4 5\n",
    "\n",
    "\n"
   ]
  },
  {
   "cell_type": "code",
   "execution_count": 4,
   "id": "11a8183d",
   "metadata": {},
   "outputs": [
    {
     "name": "stdout",
     "output_type": "stream",
     "text": [
      "2 4 6 5 1 "
     ]
    }
   ],
   "source": [
    "# Example 2\n",
    "head2 = Node(2)\n",
    "head2.next = Node(4)\n",
    "head2.next.next = Node(6)\n",
    "head2.next.next.next = Node(7)\n",
    "head2.next.next.next.next = Node(5)\n",
    "head2.next.next.next.next.next = Node(1)\n",
    "\n",
    "head2 = delete_middle_node(head2)\n",
    "\n",
    "current = head2\n",
    "while current:\n",
    "    print(current.data, end=\" \")\n",
    "    current = current.next\n",
    "# Output: 2 4 6 5 1\n"
   ]
  },
  {
   "cell_type": "markdown",
   "id": "2e93edac",
   "metadata": {},
   "source": [
    "The time complexity of the algorithm is O(n), where n is the number of nodes in the linked list. This is because in the worst case, we need to traverse the entire linked list once to find the middle node(s).\n",
    "\n",
    "The space complexity of the algorithm is O(1), which means it uses a constant amount of additional space. The space required does not grow with the size of the input linked list. We are only using a few pointers to keep track of the nodes during traversal and update the pointers, so the space usage remains constant regardless of the size of the linked list.\n",
    "\n",
    "Overall, this algorithm is efficient and has a linear time complexity, making it suitable for solving the given problem."
   ]
  },
  {
   "cell_type": "markdown",
   "id": "fd7b149d",
   "metadata": {},
   "source": [
    "# Question_2"
   ]
  },
  {
   "cell_type": "markdown",
   "id": "9e653da8",
   "metadata": {},
   "source": [
    "Given a linked list of **N** nodes. The task is to check if the linked list has a loop. Linked list can contain self loop.\n",
    "\n",
    "**Example 1:**\n",
    "\n",
    "```\n",
    "Input:\n",
    "N = 3\n",
    "value[] = {1,3,4}\n",
    "x(position at which tail is connected) = 2\n",
    "Output:True\n",
    "Explanation:In above test case N = 3.\n",
    "The linked list with nodes N = 3 is\n",
    "given. Then value of x=2 is given which\n",
    "means last node is connected with xth\n",
    "node of linked list. Therefore, there\n",
    "exists a loop.\n",
    "```\n",
    "\n",
    "**Example 2:**\n",
    "Input:\n",
    "N = 4\n",
    "value[] = {1,8,3,4}\n",
    "x = 0\n",
    "Output:False\n",
    "Explanation:For N = 4 ,x = 0 means\n",
    "then lastNode->next = NULL, then\n",
    "the Linked list does not contains\n",
    "any loop."
   ]
  },
  {
   "cell_type": "markdown",
   "id": "7053f97f",
   "metadata": {},
   "source": [
    "# Algo"
   ]
  },
  {
   "cell_type": "markdown",
   "id": "4aa5ee1c",
   "metadata": {},
   "source": [
    "- Initialize two pointers, slow_ptr and fast_ptr, to the head of the linked list.\n",
    "- Iterate through the linked list with the fast_ptr moving two steps at a time and the slow_ptr moving one step at a time.\n",
    "- Check if the fast_ptr or its next node becomes None. If either of them becomes None, it means the linked list does not have a loop, so return False.\n",
    "- If the fast_ptr and slow_ptr meet (i.e., their references are equal), it indicates the presence of a loop in the linked list. Return True.\n",
    "- Repeat steps 2-4 until a loop is found or the end of the linked list is reached."
   ]
  },
  {
   "cell_type": "code",
   "execution_count": 5,
   "id": "1cd574ae",
   "metadata": {},
   "outputs": [],
   "source": [
    "class Node:\n",
    "    def __init__(self, data=None):\n",
    "        self.data = data\n",
    "        self.next = None\n",
    "\n",
    "def has_loop(head):\n",
    "    slow_ptr = head\n",
    "    fast_ptr = head\n",
    "\n",
    "    while fast_ptr and fast_ptr.next:\n",
    "        slow_ptr = slow_ptr.next\n",
    "        fast_ptr = fast_ptr.next.next\n",
    "\n",
    "        if slow_ptr == fast_ptr:\n",
    "            return True\n",
    "\n",
    "    return False\n"
   ]
  },
  {
   "cell_type": "code",
   "execution_count": 6,
   "id": "6df753eb",
   "metadata": {},
   "outputs": [
    {
     "name": "stdout",
     "output_type": "stream",
     "text": [
      "True\n",
      "False\n"
     ]
    }
   ],
   "source": [
    "# Example 1\n",
    "head1 = Node(1)\n",
    "head1.next = Node(3)\n",
    "head1.next.next = Node(4)\n",
    "head1.next.next.next = head1.next  # Creating a loop\n",
    "\n",
    "print(has_loop(head1))\n",
    "# Output: True\n",
    "\n",
    "\n",
    "# Example 2\n",
    "head2 = Node(1)\n",
    "head2.next = Node(8)\n",
    "head2.next.next = Node(3)\n",
    "head2.next.next.next = Node(4)\n",
    "\n",
    "print(has_loop(head2))\n",
    "# Output: False\n"
   ]
  },
  {
   "cell_type": "markdown",
   "id": "85f78e01",
   "metadata": {},
   "source": [
    "The time complexity of the algorithm is O(n), where n is the number of nodes in the linked list. In the worst case, when there is a loop, the fast pointer will eventually catch up with the slow pointer after traversing the linked list once.\n",
    "\n",
    "The space complexity of the algorithm is O(1) because it uses only a constant amount of additional space for the two pointers."
   ]
  },
  {
   "cell_type": "markdown",
   "id": "ccebb4b5",
   "metadata": {},
   "source": [
    "# Question_3"
   ]
  },
  {
   "cell_type": "markdown",
   "id": "92ef95c3",
   "metadata": {},
   "source": [
    "Given a linked list consisting of **L** nodes and given a number **N**. The task is to find the **N**th node from the end of the linked list.\n",
    "\n",
    "**Example 1:**\n",
    "\n",
    "```\n",
    "Input:\n",
    "N = 2\n",
    "LinkedList: 1->2->3->4->5->6->7->8->9\n",
    "Output:8\n",
    "Explanation:In the first example, there\n",
    "are 9 nodes in linked list and we need\n",
    "to find 2nd node from end. 2nd node\n",
    "from end is 8.\n",
    "\n",
    "```\n",
    "\n",
    "**Example 2:**\n",
    "Input:\n",
    "N = 5\n",
    "LinkedList: 10->5->100->5\n",
    "Output:-1\n",
    "Explanation:In the second example, there\n",
    "are 4 nodes in the linked list and we\n",
    "need to find 5th from the end. Since 'n'\n",
    "is more than the number of nodes in the\n",
    "linked list, the output is -1."
   ]
  },
  {
   "cell_type": "markdown",
   "id": "12c95dc1",
   "metadata": {},
   "source": [
    "# Algo"
   ]
  },
  {
   "cell_type": "markdown",
   "id": "85ab6ee5",
   "metadata": {},
   "source": [
    "- Initialize two pointers, first and second, to the head of the linked list.\n",
    "- Move the first pointer N nodes ahead in the linked list.\n",
    "- If the first pointer becomes None, it means that N is greater than the number of nodes in the linked list. In this case, return -1.\n",
    "- Otherwise, move both pointers simultaneously until the first pointer reaches the end of the linked list.\n",
    "- The second pointer will be pointing to the Nth node from the end of the linked list.\n",
    "- Return the value of the node pointed to by the second pointer."
   ]
  },
  {
   "cell_type": "code",
   "execution_count": 22,
   "id": "a7874fea",
   "metadata": {},
   "outputs": [],
   "source": [
    "class Node:\n",
    "    def __init__(self, data=None):\n",
    "        self.data = data\n",
    "        self.next = None\n",
    "\n",
    "def find_nth_node_from_end(head, N):\n",
    "    if not head or N <= 0:\n",
    "        return -1\n",
    "\n",
    "    first = head\n",
    "    second = head\n",
    "\n",
    "    # Move the first pointer N nodes ahead\n",
    "    for _ in range(N):\n",
    "        if not first:\n",
    "            return -1\n",
    "        first = first.next\n",
    "\n",
    "    # Move both pointers simultaneously\n",
    "    while first:\n",
    "        first = first.next\n",
    "        second = second.next\n",
    "\n",
    "    return second.data\n"
   ]
  },
  {
   "cell_type": "code",
   "execution_count": 23,
   "id": "516f47fe",
   "metadata": {},
   "outputs": [
    {
     "name": "stdout",
     "output_type": "stream",
     "text": [
      "8\n",
      "-1\n"
     ]
    }
   ],
   "source": [
    "# Example 1\n",
    "head = Node(1)\n",
    "head.next = Node(2)\n",
    "head.next.next = Node(3)\n",
    "head.next.next.next = Node(4)\n",
    "head.next.next.next.next = Node(5)\n",
    "head.next.next.next.next.next = Node(6)\n",
    "head.next.next.next.next.next.next = Node(7)\n",
    "head.next.next.next.next.next.next.next = Node(8)\n",
    "head.next.next.next.next.next.next.next.next = Node(9)\n",
    "\n",
    "N = 2\n",
    "nth_node = find_nth_node_from_end(head, N)\n",
    "print(nth_node)\n",
    "# Output: 8\n",
    "\n",
    "# Example 2\n",
    "head = Node(10)\n",
    "head.next = Node(5)\n",
    "head.next.next = Node(100)\n",
    "head.next.next.next = Node(5)\n",
    "\n",
    "N = 5\n",
    "nth_node = find_nth_node_from_end(head, N)\n",
    "print(nth_node)\n",
    "# Output: -1\n"
   ]
  },
  {
   "cell_type": "markdown",
   "id": "62fcb0b3",
   "metadata": {},
   "source": [
    "The time complexity of the algorithm to find the Nth node from the end of a linked list is O(L), where L is the number of nodes in the linked list. This is because we iterate through the linked list once with the first pointer to move N nodes ahead, and then we continue iterating until the first pointer reaches the end of the linked list.\n",
    "\n",
    "The space complexity of the algorithm is O(1) because we are using a constant amount of extra space for the two pointers (first and second). We do not require any additional data structures that grow with the size of the input.\n",
    "\n",
    "In summary, the time complexity is O(L) and the space complexity is O(1)."
   ]
  },
  {
   "cell_type": "markdown",
   "id": "ee991243",
   "metadata": {},
   "source": [
    "# Question_4"
   ]
  },
  {
   "attachments": {
    "LLdrawio.png": {
     "image/png": "[encoded data removed]"
    }
   },
   "cell_type": "markdown",
   "id": "3f07ee88",
   "metadata": {},
   "source": [
    "Given a singly linked list of characters, write a function that returns true if the given list is a palindrome, else false.\n",
    "![LLdrawio.png](attachment:LLdrawio.png)\n",
    "\n",
    "**Examples:**\n",
    "\n",
    "> Input: R->A->D->A->R->NULL\n",
    "> \n",
    "> \n",
    "> **Output:** Yes\n",
    "> \n",
    "> **Input:** C->O->D->E->NULL\n",
    "> \n",
    "> **Output:** No\n",
    "> \n"
   ]
  },
  {
   "cell_type": "markdown",
   "id": "c191af18",
   "metadata": {},
   "source": [
    "# Algo"
   ]
  },
  {
   "cell_type": "markdown",
   "id": "5581d840",
   "metadata": {},
   "source": [
    "- Traverse the linked list to find its length.\n",
    "- Divide the linked list into two halves by finding the midpoint.\n",
    "- Reverse the second half of the linked list.\n",
    "- Compare the first half of the original linked list with the reversed second half.\n",
    "- If all the characters match, the linked list is a palindrome. Otherwise, it is not."
   ]
  },
  {
   "cell_type": "code",
   "execution_count": 24,
   "id": "f16bc2e2",
   "metadata": {},
   "outputs": [],
   "source": [
    "class Node:\n",
    "    def __init__(self, data=None):\n",
    "        self.data = data\n",
    "        self.next = None\n",
    "\n",
    "def is_palindrome(head):\n",
    "    # Find the length of the linked list\n",
    "    length = 0\n",
    "    curr = head\n",
    "    while curr:\n",
    "        length += 1\n",
    "        curr = curr.next\n",
    "\n",
    "    # Find the midpoint of the linked list\n",
    "    mid = length // 2\n",
    "    if length % 2 != 0:\n",
    "        mid += 1\n",
    "\n",
    "    # Reverse the second half of the linked list\n",
    "    prev = None\n",
    "    curr = head\n",
    "    for _ in range(mid):\n",
    "        prev = curr\n",
    "        curr = curr.next\n",
    "    prev.next = None\n",
    "\n",
    "    second_half = None\n",
    "    while curr:\n",
    "        next_node = curr.next\n",
    "        curr.next = second_half\n",
    "        second_half = curr\n",
    "        curr = next_node\n",
    "\n",
    "    # Compare the first half with the reversed second half\n",
    "    first_half = head\n",
    "    while first_half and second_half:\n",
    "        if first_half.data != second_half.data:\n",
    "            return False\n",
    "        first_half = first_half.next\n",
    "        second_half = second_half.next\n",
    "\n",
    "    return True\n"
   ]
  },
  {
   "cell_type": "code",
   "execution_count": 25,
   "id": "35abd0a0",
   "metadata": {},
   "outputs": [
    {
     "name": "stdout",
     "output_type": "stream",
     "text": [
      "True\n",
      "False\n"
     ]
    }
   ],
   "source": [
    "# Example 1\n",
    "head1 = Node('R')\n",
    "head1.next = Node('A')\n",
    "head1.next.next = Node('D')\n",
    "head1.next.next.next = Node('A')\n",
    "head1.next.next.next.next = Node('R')\n",
    "\n",
    "print(is_palindrome(head1))\n",
    "# Output: True\n",
    "\n",
    "# Example 2\n",
    "head2 = Node('C')\n",
    "head2.next = Node('O')\n",
    "head2.next.next = Node('D')\n",
    "head2.next.next.next = Node('E')\n",
    "\n",
    "print(is_palindrome(head2))\n",
    "# Output: False\n"
   ]
  },
  {
   "cell_type": "markdown",
   "id": "7dd64bfe",
   "metadata": {},
   "source": [
    "The time complexity of this algorithm is O(N), where N is the number of nodes in the linked list. We traverse the linked list twice: once to find its length and once to compare the first half with the reversed second half.\n",
    "\n",
    "The space complexity of the algorithm is O(1) because we are using a constant amount of extra space to store pointers and variables."
   ]
  },
  {
   "cell_type": "markdown",
   "id": "bf7100b6",
   "metadata": {},
   "source": [
    "# Question_5"
   ]
  },
  {
   "cell_type": "markdown",
   "id": "6093cfbc",
   "metadata": {},
   "source": [
    "Given a linked list of **N** nodes such that it may contain a loop.\n",
    "\n",
    "A loop here means that the last node of the link list is connected to the node at position X(1-based index). If the link list does not have any loop, X=0.\n",
    "\n",
    "Remove the loop from the linked list, if it is present, i.e. unlink the last node which is forming the loop.\n",
    "\n",
    "**Example 1:**\n",
    "\n",
    "```\n",
    "Input:\n",
    "N = 3\n",
    "value[] = {1,3,4}\n",
    "X = 2\n",
    "Output:1\n",
    "Explanation:The link list looks like\n",
    "1 -> 3 -> 4\n",
    "     ^    |\n",
    "     |____|\n",
    "A loop is present. If you remove it\n",
    "successfully, the answer will be 1.\n",
    "\n",
    "```\n",
    "\n",
    "- **Example 2:**\n",
    "Input:\n",
    "N = 4\n",
    "value[] = {1,8,3,4}\n",
    "X = 0\n",
    "Output:1\n",
    "Explanation:The Linked list does not\n",
    "contains any loop.\n",
    "- **Example 3:**\n",
    "Input:\n",
    "N = 4\n",
    "value[] = {1,2,3,4}\n",
    "X = 1\n",
    "Output:1\n",
    "Explanation:The link list looks like\n",
    "1 -> 2 -> 3 -> 4\n",
    "^              |\n",
    "|______________|\n",
    "A loop is present.\n",
    "If you remove it successfully,\n",
    "the answer will be 1."
   ]
  },
  {
   "cell_type": "markdown",
   "id": "c0a18caa",
   "metadata": {},
   "source": [
    "# Algo"
   ]
  },
  {
   "cell_type": "markdown",
   "id": "264f6d93",
   "metadata": {},
   "source": [
    "- Initialize two pointers, slow and fast, to the head of the linked list.\n",
    "- Move the slow pointer one step at a time and the fast pointer two steps at a time.\n",
    "- If the fast pointer reaches the end of the linked list or becomes None, it means there is no loop present. In this case, return the original linked list.\n",
    "- If there is a loop, the fast pointer will eventually meet the slow pointer at a certain node within the loop.\n",
    "- Reset either the slow or fast pointer to the head of the linked list and move both pointers one step at a time until they meet again. This step is required to find the node where the loop starts.\n",
    "- Once the pointers meet again, set the next pointer of the previous node of either slow or fast pointer to None. This will break the loop."
   ]
  },
  {
   "cell_type": "code",
   "execution_count": 26,
   "id": "905aa06a",
   "metadata": {},
   "outputs": [],
   "source": [
    "class Node:\n",
    "    def __init__(self, data=None):\n",
    "        self.data = data\n",
    "        self.next = None\n",
    "\n",
    "def remove_loop(head):\n",
    "    if not head or not head.next:\n",
    "        return head\n",
    "\n",
    "    slow = head\n",
    "    fast = head\n",
    "\n",
    "    # Detect the loop using Floyd's cycle detection algorithm\n",
    "    while fast and fast.next:\n",
    "        slow = slow.next\n",
    "        fast = fast.next.next\n",
    "        if slow == fast:\n",
    "            break\n",
    "\n",
    "    # If there is no loop, return the original linked list\n",
    "    if slow != fast:\n",
    "        return head\n",
    "\n",
    "    # Reset either slow or fast pointer to the head of the linked list\n",
    "    slow = head\n",
    "\n",
    "    # Move both pointers one step at a time until they meet again\n",
    "    while slow.next != fast.next:\n",
    "        slow = slow.next\n",
    "        fast = fast.next\n",
    "\n",
    "    # Break the loop by setting the next pointer to None\n",
    "    fast.next = None\n",
    "\n",
    "    return head\n",
    "\n"
   ]
  },
  {
   "cell_type": "code",
   "execution_count": 30,
   "id": "d36a0452",
   "metadata": {},
   "outputs": [
    {
     "name": "stdout",
     "output_type": "stream",
     "text": [
      "1 3 4 "
     ]
    }
   ],
   "source": [
    "# Example 1\n",
    "head1 = Node(1)\n",
    "head1.next = Node(3)\n",
    "head1.next.next = Node(4)\n",
    "head1.next.next.next = head1.next\n",
    "\n",
    "head1 = remove_loop(head1)\n",
    "while head1:\n",
    "    print(head1.data, end=\" \")\n",
    "    head1 = head1.next\n",
    "# Output: 1\n",
    "\n"
   ]
  },
  {
   "cell_type": "code",
   "execution_count": 31,
   "id": "70cea006",
   "metadata": {},
   "outputs": [
    {
     "name": "stdout",
     "output_type": "stream",
     "text": [
      "1 8 3 4 "
     ]
    }
   ],
   "source": [
    "# Example 2\n",
    "head2 = Node(1)\n",
    "head2.next = Node(8)\n",
    "head2.next.next = Node(3)\n",
    "head2.next.next.next = Node(4)\n",
    "\n",
    "head2 = remove_loop(head2)\n",
    "while head2:\n",
    "    print(head2.data, end=\" \")\n",
    "    head2 = head2.next\n",
    "# Output: 1 8 3 4"
   ]
  },
  {
   "cell_type": "code",
   "execution_count": 32,
   "id": "940cc0aa",
   "metadata": {},
   "outputs": [
    {
     "name": "stdout",
     "output_type": "stream",
     "text": [
      "1 2 3 4 "
     ]
    }
   ],
   "source": [
    "\n",
    "\n",
    "# Example 3\n",
    "head3 = Node(1)\n",
    "head3.next = Node(2)\n",
    "head3.next.next = Node(3)\n",
    "head3.next.next.next = Node(4)\n",
    "head3.next.next.next.next = head3.next\n",
    "\n",
    "head3 = remove_loop(head3)\n",
    "while head3:\n",
    "    print(head3.data, end=\" \")\n",
    "    head3 = head3.next\n",
    "# Output: 1 2 3 4\n"
   ]
  },
  {
   "cell_type": "markdown",
   "id": "ae7287a3",
   "metadata": {},
   "source": [
    "The time complexity of the algorithm to remove a loop from a linked list is O(N), where N is the number of nodes in the linked list. This is because we need to iterate through the linked list at most twice: once to detect the loop using Floyd's cycle detection algorithm and once to break the loop by setting the next pointer to None.\n",
    "\n",
    "The space complexity of the algorithm is O(1) because we are using a constant amount of extra space for the two pointers (slow and fast). We do not require any additional data structures that grow with the size of the input.\n",
    "\n",
    "In summary, the time complexity is O(N) and the space complexity is O(1)."
   ]
  },
  {
   "cell_type": "markdown",
   "id": "f670bb80",
   "metadata": {},
   "source": [
    "# Question_6"
   ]
  },
  {
   "cell_type": "markdown",
   "id": "43e66624",
   "metadata": {},
   "source": [
    "Given a linked list and two integers M and N. Traverse the linked list such that you retain M nodes then delete next N nodes, continue the same till end of the linked list.\n",
    "\n",
    "Difficulty Level: Rookie\n",
    "\n",
    "**Examples**:\n",
    "Input:\n",
    "M = 2, N = 2\n",
    "Linked List: 1->2->3->4->5->6->7->8\n",
    "Output:\n",
    "Linked List: 1->2->5->6\n",
    "\n",
    "Input:\n",
    "M = 3, N = 2\n",
    "Linked List: 1->2->3->4->5->6->7->8->9->10\n",
    "Output:\n",
    "Linked List: 1->2->3->6->7->8\n",
    "\n",
    "Input:\n",
    "M = 1, N = 1\n",
    "Linked List: 1->2->3->4->5->6->7->8->9->10\n",
    "Output:\n",
    "Linked List: 1->3->5->7->9"
   ]
  },
  {
   "cell_type": "markdown",
   "id": "7e284bfb",
   "metadata": {},
   "source": [
    "# Algo"
   ]
  },
  {
   "cell_type": "markdown",
   "id": "11ed9a3f",
   "metadata": {},
   "source": [
    "- Initialize a pointer current to the head of the linked list.\n",
    "- Traverse the linked list using the current pointer.\n",
    "- For each group of M nodes:\n",
    "    - Skip M-1 nodes to retain them.\n",
    "    - If there are fewer than M nodes remaining, break the loop.\n",
    "    - Otherwise, set the next pointer of the Mth node to None to disconnect the subsequent nodes.\n",
    "- For each group of N nodes after the M retained nodes:\n",
    "    - Skip N nodes to delete them.\n",
    "    - If there are fewer than N nodes remaining, break the loop.\n",
    "    - Otherwise, update the next pointer of the last retained node to point to the (N+1)th node.\n",
    "- Return the modified linked list."
   ]
  },
  {
   "cell_type": "code",
   "execution_count": 33,
   "id": "a3907ad4",
   "metadata": {},
   "outputs": [],
   "source": [
    "class Node:\n",
    "    def __init__(self, data=None):\n",
    "        self.data = data\n",
    "        self.next = None\n",
    "\n",
    "def retain_and_delete(head, M, N):\n",
    "    if not head or M <= 0 or N <= 0:\n",
    "        return head\n",
    "\n",
    "    current = head\n",
    "    while current:\n",
    "        # Retain M nodes\n",
    "        for _ in range(M - 1):\n",
    "            if current.next:\n",
    "                current = current.next\n",
    "            else:\n",
    "                return head\n",
    "\n",
    "        # Delete N nodes\n",
    "        next_node = current.next\n",
    "        for _ in range(N):\n",
    "            if next_node:\n",
    "                next_node = next_node.next\n",
    "            else:\n",
    "                current.next = None\n",
    "                return head\n",
    "\n",
    "        current.next = next_node\n",
    "        current = next_node\n",
    "\n",
    "    return head\n"
   ]
  },
  {
   "cell_type": "code",
   "execution_count": 37,
   "id": "81370b92",
   "metadata": {},
   "outputs": [
    {
     "name": "stdout",
     "output_type": "stream",
     "text": [
      "1 2 5 6 "
     ]
    }
   ],
   "source": [
    "# Example 1\n",
    "head1 = Node(1)\n",
    "head1.next = Node(2)\n",
    "head1.next.next = Node(3)\n",
    "head1.next.next.next = Node(4)\n",
    "head1.next.next.next.next = Node(5)\n",
    "head1.next.next.next.next.next = Node(6)\n",
    "head1.next.next.next.next.next.next = Node(7)\n",
    "head1.next.next.next.next.next.next.next = Node(8)\n",
    "\n",
    "M = 2\n",
    "N = 2\n",
    "head1 = retain_and_delete(head1, M, N)\n",
    "while head1:\n",
    "    print(head1.data, end=\" \")\n",
    "    head1 = head1.next\n",
    "# Output: 1 2 5 6\n",
    "\n",
    "\n"
   ]
  },
  {
   "cell_type": "code",
   "execution_count": 35,
   "id": "65230f6a",
   "metadata": {},
   "outputs": [
    {
     "name": "stdout",
     "output_type": "stream",
     "text": [
      "1 2 3 6 7 8 "
     ]
    }
   ],
   "source": [
    "# Example 2\n",
    "head2 = Node(1)\n",
    "head2.next = Node(2)\n",
    "head2.next.next = Node(3)\n",
    "head2.next.next.next = Node(4)\n",
    "head2.next.next.next.next = Node(5)\n",
    "head2.next.next.next.next.next = Node(6)\n",
    "head2.next.next.next.next.next.next = Node(7)\n",
    "head2.next.next.next.next.next.next.next = Node(8)\n",
    "head2.next.next.next.next.next.next.next.next = Node(9)\n",
    "head2.next.next.next.next.next.next.next.next.next = Node(10)\n",
    "\n",
    "M = 3\n",
    "N = 2\n",
    "head2 = retain_and_delete(head2, M, N)\n",
    "while head2:\n",
    "    print(head2.data, end=\" \")\n",
    "    head2 = head2.next\n",
    "# Output: 1 2 3 6 7 8"
   ]
  },
  {
   "cell_type": "code",
   "execution_count": 36,
   "id": "869da5fa",
   "metadata": {},
   "outputs": [
    {
     "name": "stdout",
     "output_type": "stream",
     "text": [
      "1 3 5 7 9 "
     ]
    }
   ],
   "source": [
    "# Example 3\n",
    "head3 = Node(1)\n",
    "head3.next = Node(2)\n",
    "head3.next.next = Node(3)\n",
    "head3.next.next.next = Node(4)\n",
    "head3.next.next.next.next = Node(5)\n",
    "head3.next.next.next.next.next = Node(6)\n",
    "head3.next.next.next.next.next.next = Node(7)\n",
    "head3.next.next.next.next.next.next.next = Node(8)\n",
    "head3.next.next.next.next.next.next.next.next = Node(9)\n",
    "head3.next.next.next.next.next.next.next.next.next = Node(10)\n",
    "\n",
    "M = 1\n",
    "N = 1\n",
    "head3 = retain_and_delete(head3, M, N)\n",
    "while head3:\n",
    "    print(head3.data, end=\" \")\n",
    "    head3 = head3.next\n",
    "# Output: 1 3 5 7 9"
   ]
  },
  {
   "cell_type": "markdown",
   "id": "bdc2211b",
   "metadata": {},
   "source": [
    "The time complexity of the retain_and_delete algorithm is O(L), where L is the number of nodes in the linked list. This is because we traverse the linked list once, and for each iteration, we perform a constant number of operations.\n",
    "\n",
    "The space complexity of the algorithm is O(1) because we are not using any additional data structures that grow with the size of the input. We only use a few pointers to traverse and modify the linked list in place.\n",
    "\n",
    "In summary, the time complexity is O(L) and the space complexity is O(1)."
   ]
  },
  {
   "cell_type": "markdown",
   "id": "92735dbc",
   "metadata": {},
   "source": [
    "# Question_7"
   ]
  },
  {
   "cell_type": "markdown",
   "id": "f09a3376",
   "metadata": {},
   "source": [
    "Given two linked lists, insert nodes of second list into first list at alternate positions of first list.\n",
    "For example, if first list is 5->7->17->13->11 and second is 12->10->2->4->6, the first list should become 5->12->7->10->17->2->13->4->11->6 and second list should become empty. The nodes of second list should only be inserted when there are positions available. For example, if the first list is 1->2->3 and second list is 4->5->6->7->8, then first list should become 1->4->2->5->3->6 and second list to 7->8.\n",
    "\n",
    "Use of extra space is not allowed (Not allowed to create additional nodes), i.e., insertion must be done in-place. Expected time complexity is O(n) where n is number of nodes in first list."
   ]
  },
  {
   "cell_type": "markdown",
   "id": "89922568",
   "metadata": {},
   "source": [
    "# Algo"
   ]
  },
  {
   "cell_type": "markdown",
   "id": "9d1d190a",
   "metadata": {},
   "source": [
    "- Initialize three pointers: first_curr pointing to the current node in the first list, second_curr pointing to the current node in the second list, and second_next pointing to the next node in the second list.\n",
    "- Traverse both lists simultaneously until either of the lists reaches the end.\n",
    "- Insert the current node from the second list after the current node in the first list.\n",
    "- Update first_curr to point to the next node in the first list.\n",
    "- If there are remaining nodes in the second list, update the next pointer of the current node in the second list to the next node in the second list.\n",
    "- Update second_curr to point to second_next, which is the next node in the second list.\n",
    "- Repeat steps 3-6 until either of the lists reaches the end.\n",
    "- If there are remaining nodes in the second list, append them at the end of the first list.\n",
    "- Set the head of the second list to None."
   ]
  },
  {
   "cell_type": "code",
   "execution_count": 38,
   "id": "9491efc8",
   "metadata": {},
   "outputs": [],
   "source": [
    "class Node:\n",
    "    def __init__(self, data=None):\n",
    "        self.data = data\n",
    "        self.next = None\n",
    "\n",
    "def merge_lists(first_head, second_head):\n",
    "    if not first_head:\n",
    "        return second_head\n",
    "\n",
    "    first_curr = first_head\n",
    "    second_curr = second_head\n",
    "    while first_curr and second_curr:\n",
    "        second_next = second_curr.next\n",
    "\n",
    "        second_curr.next = first_curr.next\n",
    "        first_curr.next = second_curr\n",
    "\n",
    "        first_curr = first_curr.next.next\n",
    "        second_curr = second_next\n",
    "\n",
    "    if second_curr:\n",
    "        first_curr.next = second_curr\n",
    "\n",
    "    second_head = None\n",
    "    return first_head\n"
   ]
  },
  {
   "cell_type": "code",
   "execution_count": 39,
   "id": "c502d71b",
   "metadata": {},
   "outputs": [
    {
     "name": "stdout",
     "output_type": "stream",
     "text": [
      "5 12 7 10 17 2 13 4 11 6 12 7 10 17 2 13 4 11 6 "
     ]
    }
   ],
   "source": [
    "# Example\n",
    "first_head = Node(5)\n",
    "first_head.next = Node(7)\n",
    "first_head.next.next = Node(17)\n",
    "first_head.next.next.next = Node(13)\n",
    "first_head.next.next.next.next = Node(11)\n",
    "\n",
    "second_head = Node(12)\n",
    "second_head.next = Node(10)\n",
    "second_head.next.next = Node(2)\n",
    "second_head.next.next.next = Node(4)\n",
    "second_head.next.next.next.next = Node(6)\n",
    "\n",
    "first_head = merge_lists(first_head, second_head)\n",
    "\n",
    "# Print the modified first list\n",
    "while first_head:\n",
    "    print(first_head.data, end=\" \")\n",
    "    first_head = first_head.next\n",
    "# Output: 5 12 7 10 17 2 13 4 11 6\n",
    "\n",
    "# Print the modified second list (empty)\n",
    "while second_head:\n",
    "    print(second_head.data, end=\" \")\n",
    "    second_head = second_head.next\n",
    "# Output: (empty)\n"
   ]
  },
  {
   "cell_type": "markdown",
   "id": "6f80e8d5",
   "metadata": {},
   "source": [
    "The time complexity of the merge_lists algorithm is O(n), where n is the number of nodes in the first list. This is because the algorithm traverses both lists once, and each node is visited exactly once.\n",
    "\n",
    "The space complexity of the algorithm is O(1) because it does not use any additional data structures that grow with the input size. The merging is done in-place by manipulating the next pointers of the existing nodes."
   ]
  },
  {
   "cell_type": "markdown",
   "id": "9d5a318c",
   "metadata": {},
   "source": [
    "# Question_8"
   ]
  },
  {
   "attachments": {
    "link.png": {
     "image/png": "[encoded data removed]"
    }
   },
   "cell_type": "markdown",
   "id": "6804c403",
   "metadata": {},
   "source": [
    "Given a singly linked list, find if the linked list is [circular](https://www.geeksforgeeks.org/circular-linked-list/amp/) or not.\n",
    "\n",
    "> A linked list is called circular if it is not NULL-terminated and all nodes are connected in the form of a cycle. Below is an example of a circular linked list.\n",
    ">![link.png](attachment:link.png)"
   ]
  },
  {
   "cell_type": "markdown",
   "id": "4818438c",
   "metadata": {},
   "source": [
    "# Algo"
   ]
  },
  {
   "cell_type": "markdown",
   "id": "6a2669f2",
   "metadata": {},
   "source": [
    "- Initialize two pointers, slow and fast, both pointing to the head of the linked list.\n",
    "- Move the slow pointer by one step and the fast pointer by two steps.\n",
    "- If the linked list is not circular, the fast pointer will reach the end of the list (i.e., become null) before the slow pointer.\n",
    "- If the linked list is circular, the fast pointer will eventually catch up to the slow pointer as they traverse the loop.\n",
    "- If at any point the slow and fast pointers become equal, it means the linked list is circular.\n",
    "- If the fast pointer becomes null, it means the linked list is not circular."
   ]
  },
  {
   "cell_type": "code",
   "execution_count": 40,
   "id": "c3ebbebf",
   "metadata": {},
   "outputs": [],
   "source": [
    "class Node:\n",
    "    def __init__(self, data=None):\n",
    "        self.data = data\n",
    "        self.next = None\n",
    "\n",
    "def is_circular(head):\n",
    "    if not head:\n",
    "        return False\n",
    "\n",
    "    slow = head\n",
    "    fast = head.next\n",
    "\n",
    "    while fast and fast.next:\n",
    "        if slow == fast:\n",
    "            return True\n",
    "        slow = slow.next\n",
    "        fast = fast.next.next\n",
    "\n",
    "    return False\n"
   ]
  },
  {
   "cell_type": "code",
   "execution_count": 41,
   "id": "50edc26d",
   "metadata": {},
   "outputs": [
    {
     "name": "stdout",
     "output_type": "stream",
     "text": [
      "True\n",
      "False\n"
     ]
    }
   ],
   "source": [
    "# Example\n",
    "head = Node(1)\n",
    "head.next = Node(2)\n",
    "head.next.next = Node(3)\n",
    "head.next.next.next = Node(4)\n",
    "head.next.next.next.next = Node(5)\n",
    "\n",
    "# Make the linked list circular\n",
    "head.next.next.next.next.next = head\n",
    "\n",
    "print(is_circular(head))\n",
    "# Output: True\n",
    "\n",
    "# Make the linked list non-circular\n",
    "head.next.next.next.next.next = None\n",
    "\n",
    "print(is_circular(head))\n",
    "# Output: False\n"
   ]
  },
  {
   "cell_type": "markdown",
   "id": "dabfc046",
   "metadata": {},
   "source": [
    "The time complexity of the is_circular algorithm is O(n), where n is the number of nodes in the linked list. This is because in the worst case, the fast pointer needs to traverse the entire linked list once to detect the cycle. The slow pointer also traverses a portion of the list, but its traversal is relatively negligible compared to the fast pointer.\n",
    "\n",
    "The space complexity of the algorithm is O(1) because it uses a constant amount of extra space to store the slow and fast pointers, regardless of the size of the linked list. The algorithm does not require any additional data structures that grow with the input size."
   ]
  },
  {
   "cell_type": "code",
   "execution_count": null,
   "id": "71e90889",
   "metadata": {},
   "outputs": [],
   "source": []
  }
 ],
 "metadata": {
  "kernelspec": {
   "display_name": "Python 3 (ipykernel)",
   "language": "python",
   "name": "python3"
  },
  "language_info": {
   "codemirror_mode": {
    "name": "ipython",
    "version": 3
   },
   "file_extension": ".py",
   "mimetype": "text/x-python",
   "name": "python",
   "nbconvert_exporter": "python",
   "pygments_lexer": "ipython3",
   "version": "3.11.3"
  }
 },
 "nbformat": 4,
 "nbformat_minor": 5
}
