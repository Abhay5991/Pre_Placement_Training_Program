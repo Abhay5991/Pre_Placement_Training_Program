{
 "cells": [
  {
   "cell_type": "markdown",
   "id": "d31dccf3",
   "metadata": {},
   "source": [
    "# Question_1"
   ]
  },
  {
   "cell_type": "markdown",
   "id": "7967eb49",
   "metadata": {},
   "source": [
    "Given an integer `n`, return *`true` if it is a power of two. Otherwise, return `false`*.\n",
    "\n",
    "An integer `n` is a power of two, if there exists an integer `x` such that `n == 2x`.\n",
    "\n",
    "**Example 1:**\n",
    "Input: n = 1 \n",
    "\n",
    "Output: true\n",
    "\n",
    "**Example 2:**\n",
    "Input: n = 16 \n",
    "\n",
    "Output: true\n",
    "\n",
    "**Example 3:**\n",
    "Input: n = 3 \n",
    "\n",
    "Output: false"
   ]
  },
  {
   "cell_type": "markdown",
   "id": "c89d53d7",
   "metadata": {},
   "source": [
    "# Algo"
   ]
  },
  {
   "cell_type": "markdown",
   "id": "98989da4",
   "metadata": {},
   "source": [
    "- If n is equal to 1, return true since 1 is a power of two.\n",
    "- If n is equal to 0 or n is an odd number, return false since it is not a power of two.\n",
    "- Recursively call the function with n divided by 2.\n",
    "- Return the result of the recursive call."
   ]
  },
  {
   "cell_type": "code",
   "execution_count": 15,
   "id": "fb64359d",
   "metadata": {},
   "outputs": [],
   "source": [
    "def isPowerOfTwo(n):\n",
    "    if n == 1:\n",
    "        return True\n",
    "    if n == 0 or n % 2 != 0:\n",
    "        return False\n",
    "    return isPowerOfTwo(n // 2)\n"
   ]
  },
  {
   "cell_type": "code",
   "execution_count": 16,
   "id": "30da8e46",
   "metadata": {},
   "outputs": [
    {
     "name": "stdout",
     "output_type": "stream",
     "text": [
      "True\n",
      "True\n",
      "False\n"
     ]
    }
   ],
   "source": [
    "# Example usage\n",
    "print(isPowerOfTwo(1))   # Output: True\n",
    "print(isPowerOfTwo(16))  # Output: True\n",
    "print(isPowerOfTwo(3))   # Output: False"
   ]
  },
  {
   "cell_type": "markdown",
   "id": "b3d7e37f",
   "metadata": {},
   "source": [
    "- Time Complexity:\n",
    "\n",
    "The function performs recursive calls to check if a number is a power of two.\n",
    "In each recursive call, the number is divided by 2 (n // 2), reducing it by half.\n",
    "The number of recursive calls is proportional to the number of times the number can be divided by 2 until it reaches 1 or becomes odd.\n",
    "Therefore, the time complexity can be considered as O(log n), where n is the input number.\n",
    "- Space Complexity:\n",
    "\n",
    "The function utilizes recursion, which involves the allocation of stack memory for each recursive call.\n",
    "In the worst case, the maximum depth of recursion is equal to the number of times the number can be divided by 2 until it reaches 1 or becomes odd.\n",
    "Therefore, the space complexity of the function is O(log n), where n is the input number.\n",
    "It's worth noting that the space complexity can vary depending on the implementation of the underlying stack in the programming language or environment. However, in general, for a large value of n, the space complexity is logarithmic, indicating efficient memory usage.\n",
    "\n",
    "Overall, the time complexity is O(log n), and the space complexity is O(log n) for the isPowerOfTwo() function."
   ]
  },
  {
   "cell_type": "markdown",
   "id": "36b04a0a",
   "metadata": {},
   "source": [
    "# Question_2"
   ]
  },
  {
   "cell_type": "markdown",
   "id": "86edd779",
   "metadata": {},
   "source": [
    "Given a number n, find the sum of the first natural numbers.\n",
    "\n",
    "**Example 1:**\n",
    "\n",
    "Input: n = 3 \n",
    "\n",
    "Output: 6\n",
    "\n",
    "**Example 2:**\n",
    "\n",
    "Input  : 5 \n",
    "\n",
    "Output : 15"
   ]
  },
  {
   "cell_type": "markdown",
   "id": "f3f8d7a4",
   "metadata": {},
   "source": [
    "# Algo"
   ]
  },
  {
   "cell_type": "markdown",
   "id": "6be38754",
   "metadata": {},
   "source": [
    "- If n is equal to 1, return 1.\n",
    "- Otherwise, return n plus the sum of the first n-1 natural numbers.\n",
    "- Recursively call the function with n-1 and add it to n.\n",
    "- Return the result of the recursive call."
   ]
  },
  {
   "cell_type": "code",
   "execution_count": 17,
   "id": "14fe0507",
   "metadata": {},
   "outputs": [],
   "source": [
    "def sumOfNaturalNumbers(n):\n",
    "    if n == 1:\n",
    "        return 1\n",
    "    return n + sumOfNaturalNumbers(n - 1)\n"
   ]
  },
  {
   "cell_type": "code",
   "execution_count": 18,
   "id": "c57b3103",
   "metadata": {},
   "outputs": [
    {
     "name": "stdout",
     "output_type": "stream",
     "text": [
      "6\n",
      "15\n"
     ]
    }
   ],
   "source": [
    "print(sumOfNaturalNumbers(3))  # Output: 6\n",
    "print(sumOfNaturalNumbers(5))  # Output: 15"
   ]
  },
  {
   "cell_type": "markdown",
   "id": "b3a2cf04",
   "metadata": {},
   "source": [
    "- Time Complexity:\n",
    "\n",
    "The function uses recursion to calculate the sum of the first n natural numbers.\n",
    "The recursion performs n recursive calls, decrementing n by 1 in each call until it reaches the base case of n == 1.\n",
    "Therefore, the time complexity can be considered O(n), as the function needs to perform n operations in total.\n",
    "- Space Complexity:\n",
    "\n",
    "The function utilizes recursion, which involves the allocation of stack memory for each recursive call.\n",
    "In the worst case, the maximum depth of recursion is n (when n is the largest possible value).\n",
    "Therefore, the space complexity of the function is O(n) due to the space required for the recursive stack.\n",
    "It's worth noting that the space complexity could be reduced to O(1) by implementing the function iteratively using a loop, rather than using recursion. However, the time complexity would still remain O(n) since we need to perform n operations to calculate the sum.\n",
    "\n",
    "Overall, the time complexity is O(n), and the space complexity is O(n) for the recursive implementation."
   ]
  },
  {
   "cell_type": "markdown",
   "id": "7f3946cb",
   "metadata": {},
   "source": [
    "# Question_3"
   ]
  },
  {
   "cell_type": "markdown",
   "id": "6dc8c1cc",
   "metadata": {},
   "source": [
    "Given a positive integer, N. Find the factorial of N. \n",
    "\n",
    "**Example 1:**\n",
    "\n",
    "Input: N = 5 \n",
    "\n",
    "Output: 120\n",
    "\n",
    "**Example 2:**\n",
    "\n",
    "Input: N = 4\n",
    "\n",
    "Output: 24"
   ]
  },
  {
   "cell_type": "markdown",
   "id": "4eb34396",
   "metadata": {},
   "source": [
    "# Algo"
   ]
  },
  {
   "cell_type": "markdown",
   "id": "ba023862",
   "metadata": {},
   "source": [
    "- If N is equal to 0 or 1, return 1.\n",
    "- Otherwise, return N multiplied by the factorial of N-1.\n",
    "- Recursively call the function with N-1 and multiply the result with N.\n",
    "- Return the result of the recursive call."
   ]
  },
  {
   "cell_type": "code",
   "execution_count": 19,
   "id": "b6f70bd6",
   "metadata": {},
   "outputs": [],
   "source": [
    "def factorial(N):\n",
    "    if N == 0 or N == 1:\n",
    "        return 1\n",
    "    return N * factorial(N - 1)\n"
   ]
  },
  {
   "cell_type": "code",
   "execution_count": 20,
   "id": "17389a5c",
   "metadata": {},
   "outputs": [
    {
     "name": "stdout",
     "output_type": "stream",
     "text": [
      "120\n",
      "24\n"
     ]
    }
   ],
   "source": [
    "print(factorial(5))  # Output: 120\n",
    "print(factorial(4))  # Output: 24"
   ]
  },
  {
   "cell_type": "markdown",
   "id": "1fe4c1f0",
   "metadata": {},
   "source": [
    "- Time Complexity:\n",
    "\n",
    "The function uses recursion to calculate the factorial of the given positive integer N.\n",
    "In each recursive call, the function performs a multiplication operation and makes a recursive call with N-1.\n",
    "The number of recursive calls is equal to N, as we start from N and decrement it by 1 in each call until we reach the base case of N = 0 or N = 1.\n",
    "Therefore, the time complexity can be considered O(N), as the function needs to perform N operations in total.\n",
    "- Space Complexity:\n",
    "\n",
    "The function utilizes recursion, which involves the allocation of stack memory for each recursive call.\n",
    "In the worst case, the maximum depth of recursion is N (when N is the largest possible value).\n",
    "Therefore, the space complexity of the function is O(N) due to the space required for the recursive stack.\n",
    "It's worth noting that an iterative approach can also be used to calculate the factorial of N. In such a case, the space complexity could be reduced to O(1) since no additional stack memory would be required. However, the time complexity would remain O(N) since we still need to perform N operations to calculate the factorial.\n",
    "\n",
    "Overall, the time complexity is O(N), and the space complexity is O(N) for the recursive implementation of the factorial function."
   ]
  },
  {
   "cell_type": "markdown",
   "id": "05937be1",
   "metadata": {},
   "source": [
    "# Question_4"
   ]
  },
  {
   "cell_type": "markdown",
   "id": "528cce74",
   "metadata": {},
   "source": [
    "Given a number N and a power P, the task is to find the exponent of this number raised to the given power, i.e. N^P.\n",
    "\n",
    "**Example 1 :** \n",
    "\n",
    "Input: N = 5, P = 2\n",
    "\n",
    "Output: 25\n",
    "\n",
    "**Example 2 :**\n",
    "Input: N = 2, P = 5\n",
    "\n",
    "Output: 32"
   ]
  },
  {
   "cell_type": "markdown",
   "id": "5be6a89a",
   "metadata": {},
   "source": [
    "# Algo"
   ]
  },
  {
   "cell_type": "markdown",
   "id": "504859e2",
   "metadata": {},
   "source": [
    "- If P is equal to 0, return 1.\n",
    "- If P is equal to 1, return N.\n",
    "- Otherwise, return N multiplied by the exponent of N raised to P-1.\n",
    "- Recursively call the function with N and P-1, and multiply the result with N.\n",
    "- Return the result of the recursive call."
   ]
  },
  {
   "cell_type": "code",
   "execution_count": 21,
   "id": "23bc332f",
   "metadata": {},
   "outputs": [],
   "source": [
    "def exponentiation(N, P):\n",
    "    if P == 0:\n",
    "        return 1\n",
    "    if P == 1:\n",
    "        return N\n",
    "    return N * exponentiation(N, P - 1)\n"
   ]
  },
  {
   "cell_type": "code",
   "execution_count": 22,
   "id": "2f279442",
   "metadata": {},
   "outputs": [
    {
     "name": "stdout",
     "output_type": "stream",
     "text": [
      "25\n",
      "32\n"
     ]
    }
   ],
   "source": [
    "print(exponentiation(5, 2))  # Output: 25\n",
    "print(exponentiation(2, 5))  # Output: 32\n"
   ]
  },
  {
   "cell_type": "markdown",
   "id": "b20709c9",
   "metadata": {},
   "source": [
    "- Time Complexity:\n",
    "\n",
    "The function uses recursion to calculate the exponent of the number N raised to the power P.\n",
    "In each recursive call, the function performs a multiplication operation and makes a recursive call with P-1.\n",
    "The number of recursive calls is equal to P, as we start from P and decrement it by 1 in each call until we reach the base case of P = 0 or P = 1.\n",
    "Therefore, the time complexity can be considered O(P), as the function needs to perform P operations in total.\n",
    "- Space Complexity:\n",
    "\n",
    "The function utilizes recursion, which involves the allocation of stack memory for each recursive call.\n",
    "In the worst case, the maximum depth of recursion is P (when P is the largest possible value).\n",
    "Therefore, the space complexity of the function is O(P) due to the space required for the recursive stack.\n",
    "It's worth noting that an iterative approach can also be used to calculate the exponentiation of N^P. In such a case, the space complexity could be reduced to O(1) since no additional stack memory would be required. However, the time complexity would remain O(P) since we still need to perform P operations to calculate the exponentiation.\n",
    "\n",
    "Overall, the time complexity is O(P), and the space complexity is O(P) for the recursive implementation of the exponentiation() function."
   ]
  },
  {
   "cell_type": "markdown",
   "id": "46a3215c",
   "metadata": {},
   "source": [
    "# Question_5"
   ]
  },
  {
   "cell_type": "markdown",
   "id": "c6479ed0",
   "metadata": {},
   "source": [
    "Given an array of integers **arr**, the task is to find maximum element of that array using recursion.\n",
    "\n",
    "**Example 1:**\n",
    "\n",
    "Input: arr = {1, 4, 3, -5, -4, 8, 6};\n",
    "Output: 8\n",
    "\n",
    "**Example 2:**\n",
    "\n",
    "Input: arr = {1, 4, 45, 6, 10, -8};\n",
    "Output: 45"
   ]
  },
  {
   "cell_type": "markdown",
   "id": "74148869",
   "metadata": {},
   "source": [
    "# Algo"
   ]
  },
  {
   "cell_type": "markdown",
   "id": "cbcd5e70",
   "metadata": {},
   "source": [
    "- If the length of the array arr is 1, return the only element as the maximum.\n",
    "- Otherwise, compare the first element of arr with the maximum element of the remaining array obtained by recursively calling the function on arr[1:].\n",
    "- Return the larger of the two elements."
   ]
  },
  {
   "cell_type": "code",
   "execution_count": 26,
   "id": "e147aa85",
   "metadata": {},
   "outputs": [],
   "source": [
    "def findMax(arr):\n",
    "    if len(arr) == 1:\n",
    "        return arr[0]\n",
    "    else:\n",
    "        return max(arr[0], findMax(arr[1:]))\n"
   ]
  },
  {
   "cell_type": "code",
   "execution_count": 24,
   "id": "90272d2c",
   "metadata": {},
   "outputs": [
    {
     "name": "stdout",
     "output_type": "stream",
     "text": [
      "8\n"
     ]
    }
   ],
   "source": [
    "# Example usage\n",
    "arr = [1, 4, 3, -5, -4, 8, 6]\n",
    "print(findMax(arr))  # Output: 8"
   ]
  },
  {
   "cell_type": "code",
   "execution_count": 25,
   "id": "c6d1627b",
   "metadata": {},
   "outputs": [
    {
     "name": "stdout",
     "output_type": "stream",
     "text": [
      "45\n"
     ]
    }
   ],
   "source": [
    "arr = [1, 4, 45, 6, 10, -8]\n",
    "print(findMax(arr))  # Output: 45"
   ]
  },
  {
   "cell_type": "markdown",
   "id": "628e6fed",
   "metadata": {},
   "source": [
    "- Time Complexity:\n",
    "\n",
    "In each recursive call, the function compares two elements (arr[0] and the maximum of arr[1:]), which takes constant time.\n",
    "The number of recursive calls is equal to the length of the array arr.\n",
    "Therefore, the time complexity can be considered O(N), where N is the length of the array.\n",
    "- Space Complexity:\n",
    "\n",
    "The function utilizes recursion, which involves the allocation of stack memory for each recursive call.\n",
    "In the worst case, the maximum depth of recursion is equal to the length of the array arr.\n",
    "Therefore, the space complexity of the function is O(N) due to the space required for the recursive stack.\n",
    "It's worth noting that an iterative approach can also be used to find the maximum element in an array, which would have a time complexity of O(N) and a space complexity of O(1).\n",
    "\n",
    "Overall, the time complexity is O(N), and the space complexity is O(N) for the recursive implementation of the findMax() function."
   ]
  },
  {
   "cell_type": "markdown",
   "id": "326e0a75",
   "metadata": {},
   "source": [
    "# Question_6"
   ]
  },
  {
   "cell_type": "markdown",
   "id": "6cb97f25",
   "metadata": {},
   "source": [
    "Given first term (a), common difference (d) and a integer N of the Arithmetic Progression series, the task is to find Nth term of the series.\n",
    "\n",
    "**Example 1:**\n",
    "\n",
    "Input : a = 2 d = 1 N = 5\n",
    "Output : 6\n",
    "The 5th term of the series is : 6\n",
    "\n",
    "**Example 2:**\n",
    "\n",
    "Input : a = 5 d = 2 N = 10\n",
    "Output : 23\n",
    "The 10th term of the series is : 23"
   ]
  },
  {
   "cell_type": "markdown",
   "id": "46e37f7b",
   "metadata": {},
   "source": [
    "# Algo"
   ]
  },
  {
   "cell_type": "markdown",
   "id": "41a6f575",
   "metadata": {},
   "source": [
    "- Compute the Nth term using the formula Nth_term = a + (N - 1) * d.\n",
    "- Return the computed Nth_term."
   ]
  },
  {
   "cell_type": "code",
   "execution_count": 30,
   "id": "363305c7",
   "metadata": {},
   "outputs": [],
   "source": [
    "def findNthTerm(a, d, N):\n",
    "    Nth_term = a + (N - 1) * d\n",
    "    return Nth_term\n"
   ]
  },
  {
   "cell_type": "code",
   "execution_count": 28,
   "id": "690adc21",
   "metadata": {},
   "outputs": [
    {
     "name": "stdout",
     "output_type": "stream",
     "text": [
      "6\n"
     ]
    }
   ],
   "source": [
    "# Example usage\n",
    "a = 2\n",
    "d = 1\n",
    "N = 5\n",
    "print(findNthTerm(a, d, N))  # Output: 6"
   ]
  },
  {
   "cell_type": "code",
   "execution_count": 29,
   "id": "c4b8281d",
   "metadata": {},
   "outputs": [
    {
     "name": "stdout",
     "output_type": "stream",
     "text": [
      "23\n"
     ]
    }
   ],
   "source": [
    "a = 5\n",
    "d = 2\n",
    "N = 10\n",
    "print(findNthTerm(a, d, N))  # Output: 23\n"
   ]
  },
  {
   "cell_type": "markdown",
   "id": "8e3b0c67",
   "metadata": {},
   "source": [
    "- Time Complexity:\n",
    "\n",
    "The function performs a simple computation to calculate the Nth term using the given formula.\n",
    "The computation involves constant-time operations (addition, subtraction, multiplication), so the time complexity is O(1).\n",
    "The time complexity does not depend on the value of 'N' or the input size.\n",
    "- Space Complexity:\n",
    "\n",
    "The function does not use any additional space that grows with the input size.\n",
    "It only uses a few variables to store the input values and the result, which requires constant space.\n",
    "Therefore, the space complexity is O(1).\n",
    "\n",
    "Overall, both the time complexity and space complexity of the findNthTerm() function are O(1), indicating that the function's performance does not depend on the size of the input or the value of 'N'.\n"
   ]
  },
  {
   "cell_type": "markdown",
   "id": "0ff04f2a",
   "metadata": {},
   "source": [
    "# Question_7"
   ]
  },
  {
   "cell_type": "markdown",
   "id": "313b2842",
   "metadata": {},
   "source": [
    "Given a string S, the task is to write a program to print all permutations of a given string.\n",
    "\n",
    "**Example 1:**\n",
    "\n",
    "***Input:***\n",
    "\n",
    "*S = “ABC”*\n",
    "\n",
    "***Output:***\n",
    "\n",
    "*“ABC”, “ACB”, “BAC”, “BCA”, “CBA”, “CAB”*\n",
    "\n",
    "**Example 2:**\n",
    "\n",
    "***Input:***\n",
    "\n",
    "*S = “XY”*\n",
    "\n",
    "***Output:***\n",
    "\n",
    "*“XY”, “YX”*"
   ]
  },
  {
   "cell_type": "markdown",
   "id": "50700525",
   "metadata": {},
   "source": [
    "# Algo"
   ]
  },
  {
   "cell_type": "markdown",
   "id": "707cde98",
   "metadata": {},
   "source": [
    "- If the length of the string S is 1, return a list containing the string itself.\n",
    "- Initialize an empty list result to store the permutations.\n",
    "- Iterate over each character c in the string:\n",
    "    - Swap the first character with c in the string.\n",
    "    - Recursively find the permutations of the remaining characters (excluding the first character).\n",
    "    - Append the first character (c) with each permutation obtained from the recursive call and add them to result.\n",
    "- Return the result list containing all permutations."
   ]
  },
  {
   "cell_type": "code",
   "execution_count": 31,
   "id": "eec69f0c",
   "metadata": {},
   "outputs": [],
   "source": [
    "def findPermutations(S):\n",
    "    if len(S) == 1:\n",
    "        return [S]\n",
    "    result = []\n",
    "    for i in range(len(S)):\n",
    "        first_char = S[i]\n",
    "        remaining_chars = S[:i] + S[i+1:]\n",
    "        permutations = findPermutations(remaining_chars)\n",
    "        for p in permutations:\n",
    "            result.append(first_char + p)\n",
    "    return result\n"
   ]
  },
  {
   "cell_type": "code",
   "execution_count": 32,
   "id": "1272eae2",
   "metadata": {},
   "outputs": [
    {
     "name": "stdout",
     "output_type": "stream",
     "text": [
      "['ABC', 'ACB', 'BAC', 'BCA', 'CAB', 'CBA']\n"
     ]
    }
   ],
   "source": [
    "# Example usage\n",
    "S = \"ABC\"\n",
    "permutations = findPermutations(S)\n",
    "print(permutations)  # Output: [\"ABC\", \"ACB\", \"BAC\", \"BCA\", \"CBA\", \"CAB\"]"
   ]
  },
  {
   "cell_type": "code",
   "execution_count": 33,
   "id": "4e01d99c",
   "metadata": {},
   "outputs": [
    {
     "name": "stdout",
     "output_type": "stream",
     "text": [
      "['XY', 'YX']\n"
     ]
    }
   ],
   "source": [
    "S = \"XY\"\n",
    "permutations = findPermutations(S)\n",
    "print(permutations)  # Output: [\"XY\", \"YX\"]\n"
   ]
  },
  {
   "cell_type": "markdown",
   "id": "068ab167",
   "metadata": {},
   "source": [
    "- Time Complexity:\n",
    "\n",
    "The function uses recursion to generate all permutations of the given string.\n",
    "In each recursive call, the function performs a loop over the characters of the string, which takes O(N) time, where N is the length of the string.\n",
    "The number of recursive calls depends on the length of the string, as in each recursive call, the string length decreases by 1.\n",
    "Therefore, the overall time complexity can be considered as O(N!), where N is the length of the string. This is because there are N! possible permutations of a string of length N.\n",
    "- Space Complexity:\n",
    "\n",
    "The function utilizes recursion, which involves the allocation of stack memory for each recursive call.\n",
    "In the worst case, the maximum depth of recursion is equal to the length of the string.\n",
    "Additionally, the function maintains a list result to store all permutations, which can take up to O(N!) space.\n",
    "Therefore, the space complexity of the function is O(N!), where N is the length of the string.\n",
    "It's important to note that the space complexity is determined by the number of permutations, which grows factorially with the length of the string. This can be a significant concern when the string is large.\n",
    "\n",
    "Overall, the time complexity is O(N!), and the space complexity is O(N!) for the recursive implementation of the findPermutations() function."
   ]
  },
  {
   "cell_type": "markdown",
   "id": "3c32140e",
   "metadata": {},
   "source": [
    "# Question_8"
   ]
  },
  {
   "cell_type": "markdown",
   "id": "5039eaee",
   "metadata": {},
   "source": [
    "Given an array, find a product of all array elements.\n",
    "\n",
    "**Example 1:**\n",
    "\n",
    "Input  : arr[] = {1, 2, 3, 4, 5}\n",
    "Output : 120\n",
    "**Example 2:**\n",
    "\n",
    "Input  : arr[] = {1, 6, 3}\n",
    "Output : 18"
   ]
  },
  {
   "cell_type": "markdown",
   "id": "47078187",
   "metadata": {},
   "source": [
    "# Algo"
   ]
  },
  {
   "cell_type": "markdown",
   "id": "b1d9cdca",
   "metadata": {},
   "source": [
    "- Initialize a variable product to 1.\n",
    "- Iterate over each element num in the array.\n",
    "- Multiply product by num.\n",
    "- After the loop, product will contain the product of all elements.\n",
    "- Return product."
   ]
  },
  {
   "cell_type": "code",
   "execution_count": 36,
   "id": "73275ce4",
   "metadata": {},
   "outputs": [],
   "source": [
    "def findProduct(arr):\n",
    "    product = 1\n",
    "    for num in arr:\n",
    "        product *= num\n",
    "    return product"
   ]
  },
  {
   "cell_type": "code",
   "execution_count": 37,
   "id": "77a306fe",
   "metadata": {},
   "outputs": [
    {
     "name": "stdout",
     "output_type": "stream",
     "text": [
      "120\n"
     ]
    }
   ],
   "source": [
    "# Example usage\n",
    "arr = [1, 2, 3, 4, 5]\n",
    "print(findProduct(arr))  # Output: 120"
   ]
  },
  {
   "cell_type": "code",
   "execution_count": 38,
   "id": "d6a499f8",
   "metadata": {},
   "outputs": [
    {
     "name": "stdout",
     "output_type": "stream",
     "text": [
      "18\n"
     ]
    }
   ],
   "source": [
    "arr = [1, 6, 3]\n",
    "print(findProduct(arr))  # Output: 18\n"
   ]
  },
  {
   "cell_type": "markdown",
   "id": "6d39b39c",
   "metadata": {},
   "source": [
    "- Time Complexity:\n",
    "\n",
    "The function iterates over each element in the array exactly once.\n",
    "The time taken to multiply two numbers is constant, so the overall time complexity is O(N), where N is the length of the array.\n",
    "The time complexity grows linearly with the size of the input array.\n",
    "- Space Complexity:\n",
    "\n",
    "The function uses a single variable product to store the product of the array elements.\n",
    "It does not use any additional data structures that grow with the input size.\n",
    "Therefore, the space complexity is O(1), constant space.\n",
    "Overall, the time complexity is O(N), and the space complexity is O(1) for the findProduct() function. This indicates that the function's performance is efficient and does not depend on the size of the input array."
   ]
  },
  {
   "cell_type": "code",
   "execution_count": null,
   "id": "85133698",
   "metadata": {},
   "outputs": [],
   "source": []
  }
 ],
 "metadata": {
  "kernelspec": {
   "display_name": "Python 3 (ipykernel)",
   "language": "python",
   "name": "python3"
  },
  "language_info": {
   "codemirror_mode": {
    "name": "ipython",
    "version": 3
   },
   "file_extension": ".py",
   "mimetype": "text/x-python",
   "name": "python",
   "nbconvert_exporter": "python",
   "pygments_lexer": "ipython3",
   "version": "3.11.3"
  }
 },
 "nbformat": 4,
 "nbformat_minor": 5
}
