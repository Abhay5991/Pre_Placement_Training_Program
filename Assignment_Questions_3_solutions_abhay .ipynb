{
 "cells": [
  {
   "cell_type": "markdown",
   "id": "d8145337",
   "metadata": {},
   "source": [
    "# Question_1"
   ]
  },
  {
   "cell_type": "raw",
   "id": "a1932866",
   "metadata": {},
   "source": [
    "Given an integer array nums of length n and an integer target, find three integers\n",
    "in nums such that the sum is closest to the target.\n",
    "Return the sum of the three integers.\n",
    "\n",
    "You may assume that each input would have exactly one solution.\n",
    "\n",
    "Example 1:\n",
    "Input: nums = [-1,2,1,-4], target = 1\n",
    "Output: 2\n",
    "\n",
    "Explanation: The sum that is closest to the target is 2. (-1 + 2 + 1 = 2)."
   ]
  },
  {
   "cell_type": "markdown",
   "id": "8feea303",
   "metadata": {},
   "source": [
    "# Algo"
   ]
  },
  {
   "cell_type": "markdown",
   "id": "1bc6c9f7",
   "metadata": {},
   "source": [
    "- Sort the input array nums in ascending order.\n",
    "- Initialize a variable closestSum to a large value (e.g., positive or negative infinity) to keep track of the sum closest to the target.\n",
    "- Iterate through the array from index i = 0 to n - 3 (exclusive), where n is the length of the array. This is because we need at least three elements for the sum.\n",
    "- Within the outer loop, initialize two pointers: left pointing to i + 1, and right pointing to n - 1.\n",
    "- While left is less than right, do the following steps:\n",
    "    - Calculate the current sum currentSum as nums[i] + nums[left] + nums[right].\n",
    "    - Update closestSum if the absolute difference between currentSum and target is smaller than the absolute difference between closestSum and target.\n",
    "    - If currentSum is greater than the target, decrement right by 1.\n",
    "    - If currentSum is less than the target, increment left by 1.\n",
    "    - If currentSum is equal to the target, return currentSum as the three integers sum exactly equals the target.\n",
    "- After the loop ends, return closestSum as the closest sum to the target."
   ]
  },
  {
   "cell_type": "code",
   "execution_count": 1,
   "id": "a9614774",
   "metadata": {},
   "outputs": [],
   "source": [
    "def threeSumClosest(nums, target):\n",
    "    nums.sort()\n",
    "    closestSum = float('inf')\n",
    "\n",
    "    for i in range(len(nums) - 2):\n",
    "        left = i + 1\n",
    "        right = len(nums) - 1\n",
    "\n",
    "        while left < right:\n",
    "            currentSum = nums[i] + nums[left] + nums[right]\n",
    "            if currentSum == target:\n",
    "                return currentSum\n",
    "\n",
    "            if abs(currentSum - target) < abs(closestSum - target):\n",
    "                closestSum = currentSum\n",
    "\n",
    "            if currentSum > target:\n",
    "                right -= 1\n",
    "            else:\n",
    "                left += 1\n",
    "\n",
    "    return closestSum\n"
   ]
  },
  {
   "cell_type": "code",
   "execution_count": 2,
   "id": "5513503a",
   "metadata": {},
   "outputs": [
    {
     "name": "stdout",
     "output_type": "stream",
     "text": [
      "2\n"
     ]
    }
   ],
   "source": [
    "nums = [-1, 2, 1, -4]\n",
    "target = 1\n",
    "result = threeSumClosest(nums, target)\n",
    "print(result)\n"
   ]
  },
  {
   "cell_type": "raw",
   "id": "66bb3eac",
   "metadata": {},
   "source": [
    "The time complexity of the algorithm is O(n^2), where n is the length of the input array nums. This is because we have two nested loops: the outer loop iterates through n - 2 elements, and the inner loop (while loop) performs a linear search using two pointers, which takes at most O(n) time. Therefore, the overall time complexity is O(n^2).\n",
    "\n",
    "The space complexity of the algorithm is O(1) since we only use a constant amount of extra space to store variables (closestSum, left, right, currentSum). The sorting of the input array is done in-place, so it doesn't require additional space. Thus, the algorithm has a constant space complexity."
   ]
  },
  {
   "cell_type": "markdown",
   "id": "736411d1",
   "metadata": {},
   "source": [
    "# Question_2"
   ]
  },
  {
   "cell_type": "raw",
   "id": "72768648",
   "metadata": {},
   "source": [
    "Given an array nums of n integers, return an array of all the unique quadruplets\n",
    "[nums[a], nums[b], nums[c], nums[d]] such that:\n",
    "           ● 0 <= a, b, c, d < n\n",
    "           ● a, b, c, and d are distinct.\n",
    "           ● nums[a] + nums[b] + nums[c] + nums[d] == target\n",
    "\n",
    "You may return the answer in any order.\n",
    "\n",
    "Example 1:\n",
    "Input: nums = [1,0,-1,0,-2,2], target = 0\n",
    "Output: [[-2,-1,1,2],[-2,0,0,2],[-1,0,0,1]]"
   ]
  },
  {
   "cell_type": "markdown",
   "id": "084f9ca9",
   "metadata": {},
   "source": [
    "# Algo"
   ]
  },
  {
   "cell_type": "markdown",
   "id": "f1750ead",
   "metadata": {},
   "source": [
    "- Sort the input array nums in ascending order.\n",
    "- Initialize an empty list result to store the unique quadruplets.\n",
    "- Iterate through the array from index i = 0 to n - 4 (exclusive), where n is the length of the array. This is because we need at least four elements for a quadruplet.\n",
    "- Within the outer loop, iterate through the array from index j = i + 1 to n - 3 (exclusive).\n",
    "- Within the nested loop, initialize two pointers: left pointing to j + 1, and right pointing to n - 1.\n",
    "- While left is less than right, do the following steps:\n",
    "    - Calculate the current sum currentSum as nums[i] + nums[j] + nums[left] + nums[right].\n",
    "    - If currentSum is equal to the target, add [nums[i], nums[j], nums[left], nums[right]] to the result list.\n",
    "    - If currentSum is less than the target, increment left by 1.\n",
    "    - If currentSum is greater than the target, decrement right by 1.\n",
    "    - Skip any duplicate values of left and right to avoid duplicate quadruplets.\n",
    "- After the nested loop ends, increment j while skipping any duplicate values.\n",
    "- Increment i while skipping any duplicate values.\n",
    "- Return the result list containing all the unique quadruplets."
   ]
  },
  {
   "cell_type": "code",
   "execution_count": 3,
   "id": "487d7227",
   "metadata": {},
   "outputs": [],
   "source": [
    "def fourSum(nums, target):\n",
    "    nums.sort()\n",
    "    n = len(nums)\n",
    "    result = []\n",
    "\n",
    "    for i in range(n - 3):\n",
    "        # Skip duplicates for i\n",
    "        if i > 0 and nums[i] == nums[i - 1]:\n",
    "            continue\n",
    "\n",
    "        for j in range(i + 1, n - 2):\n",
    "            # Skip duplicates for j\n",
    "            if j > i + 1 and nums[j] == nums[j - 1]:\n",
    "                continue\n",
    "\n",
    "            left = j + 1\n",
    "            right = n - 1\n",
    "\n",
    "            while left < right:\n",
    "                currentSum = nums[i] + nums[j] + nums[left] + nums[right]\n",
    "\n",
    "                if currentSum == target:\n",
    "                    result.append([nums[i], nums[j], nums[left], nums[right]])\n",
    "\n",
    "                    # Skip duplicates for left and right\n",
    "                    while left < right and nums[left] == nums[left + 1]:\n",
    "                        left += 1\n",
    "                    while left < right and nums[right] == nums[right - 1]:\n",
    "                        right -= 1\n",
    "\n",
    "                    left += 1\n",
    "                    right -= 1\n",
    "                elif currentSum < target:\n",
    "                    left += 1\n",
    "                else:\n",
    "                    right -= 1\n",
    "\n",
    "    return result\n"
   ]
  },
  {
   "cell_type": "code",
   "execution_count": 4,
   "id": "34cdedf5",
   "metadata": {},
   "outputs": [
    {
     "name": "stdout",
     "output_type": "stream",
     "text": [
      "[[-2, -1, 1, 2], [-2, 0, 0, 2], [-1, 0, 0, 1]]\n"
     ]
    }
   ],
   "source": [
    "nums = [1, 0, -1, 0, -2, 2]\n",
    "target = 0\n",
    "result = fourSum(nums, target)\n",
    "print(result)\n"
   ]
  },
  {
   "cell_type": "raw",
   "id": "69dc4a38",
   "metadata": {},
   "source": [
    "The time complexity of the algorithm is O(n^3), where n is the length of the input array nums. This is because we have three nested loops: the outer loop iterates from 0 to n-4, the second loop iterates from i+1 to n-3, and the inner while loop performs a linear search using two pointers, which takes at most O(n) time. Therefore, the overall time complexity is O(n^3).\n",
    "\n",
    "The space complexity of the algorithm is O(1) since we only use a constant amount of extra space to store variables (result, n, left, right, currentSum). The sorting of the input array is done in-place, so it doesn't require additional space. Thus, the algorithm has a constant space complexity."
   ]
  },
  {
   "cell_type": "markdown",
   "id": "0460f403",
   "metadata": {},
   "source": [
    "# Question_3"
   ]
  },
  {
   "cell_type": "raw",
   "id": "2c23150c",
   "metadata": {},
   "source": [
    "A permutation of an array of integers is an arrangement of its members into a\n",
    "sequence or linear order.\n",
    "\n",
    "For example, for arr = [1,2,3], the following are all the permutations of arr:\n",
    "[1,2,3], [1,3,2], [2, 1, 3], [2, 3, 1], [3,1,2], [3,2,1].\n",
    "\n",
    "The next permutation of an array of integers is the next lexicographically greater\n",
    "permutation of its integer. More formally, if all the permutations of the array are\n",
    "sorted in one container according to their lexicographical order, then the next\n",
    "permutation of that array is the permutation that follows it in the sorted container.\n",
    "\n",
    "If such an arrangement is not possible, the array must be rearranged as the\n",
    "lowest possible order (i.e., sorted in ascending order).\n",
    "\n",
    "● For example, the next permutation of arr = [1,2,3] is [1,3,2].\n",
    "● Similarly, the next permutation of arr = [2,3,1] is [3,1,2].\n",
    "● While the next permutation of arr = [3,2,1] is [1,2,3] because [3,2,1] does not\n",
    "have a lexicographical larger rearrangement.\n",
    "\n",
    "Given an array of integers nums, find the next permutation of nums.\n",
    "The replacement must be in place and use only constant extra memory.\n",
    "\n",
    "**Example 1:**\n",
    "Input: nums = [1,2,3]\n",
    "Output: [1,3,2]\n",
    "\n"
   ]
  },
  {
   "cell_type": "markdown",
   "id": "b1e81d45",
   "metadata": {},
   "source": [
    "# Algo"
   ]
  },
  {
   "cell_type": "markdown",
   "id": "a9cda8e3",
   "metadata": {},
   "source": [
    "- Start from the rightmost element of the array and find the first pair of adjacent elements nums[i] and nums[i+1] where nums[i] < nums[i+1]. This indicates the first element that can be modified to create a greater permutation.\n",
    "- If no such pair is found, it means the array is in descending order, and we cannot create the next permutation. In this case, we reverse the entire array to get the lowest possible order.\n",
    "- If a pair is found at index i, we need to find the smallest element in the suffix nums[i+1:] that is greater than nums[i]. We swap this element with nums[i].\n",
    "- After the swap, the suffix nums[i+1:] is still in descending order because the previous permutation was lexicographically greater. To obtain the next lexicographically greater permutation, we reverse the suffix nums[i+1:].\n",
    "- The resulting array is the next permutation."
   ]
  },
  {
   "cell_type": "code",
   "execution_count": 5,
   "id": "2f7ed682",
   "metadata": {},
   "outputs": [],
   "source": [
    "def nextPermutation(nums):\n",
    "    n = len(nums)\n",
    "    i = n - 2\n",
    "\n",
    "    # Find the first pair where nums[i] < nums[i+1]\n",
    "    while i >= 0 and nums[i] >= nums[i + 1]:\n",
    "        i -= 1\n",
    "\n",
    "    if i >= 0:\n",
    "        j = n - 1\n",
    "        # Find the smallest element in the suffix that is greater than nums[i]\n",
    "        while j >= 0 and nums[j] <= nums[i]:\n",
    "            j -= 1\n",
    "        # Swap nums[i] and nums[j]\n",
    "        nums[i], nums[j] = nums[j], nums[i]\n",
    "\n",
    "    # Reverse the suffix nums[i+1:]\n",
    "    left = i + 1\n",
    "    right = n - 1\n",
    "    while left < right:\n",
    "        nums[left], nums[right] = nums[right], nums[left]\n",
    "        left += 1\n",
    "        right -= 1\n"
   ]
  },
  {
   "cell_type": "code",
   "execution_count": 6,
   "id": "9eb96a94",
   "metadata": {},
   "outputs": [
    {
     "name": "stdout",
     "output_type": "stream",
     "text": [
      "[1, 3, 2]\n"
     ]
    }
   ],
   "source": [
    "nums = [1, 2, 3]\n",
    "nextPermutation(nums)\n",
    "print(nums)\n"
   ]
  },
  {
   "cell_type": "raw",
   "id": "8b529ab5",
   "metadata": {},
   "source": [
    "In this case, the next permutation of [1, 2, 3] is [1, 3, 2].\n",
    "\n",
    "If we run the algorithm again with the updated array [1, 3, 2], it will return [2, 1, 3], and further iterations will give [2, 3, 1], [3, 1, 2], [3, 2, 1], and finally [1, 2, 3] because there are no more lexicographically greater permutations."
   ]
  },
  {
   "cell_type": "raw",
   "id": "526e58b4",
   "metadata": {},
   "source": [
    "The time complexity of the algorithm is O(n), where n is the length of the input array nums. This is because we perform a series of operations that require iterating over the array elements once or a constant number of times. The two while loops iterate at most n times, and the reversing of the suffix nums[i+1:] also takes linear time. Therefore, the overall time complexity is O(n).\n",
    "\n",
    "The space complexity of the algorithm is O(1) since we only use a constant amount of extra memory to store variables (n, i, j, left, right). The algorithm modifies the input array nums in place without using any additional data structures that grow with the input size. Thus, the algorithm has a constant space complexity."
   ]
  },
  {
   "cell_type": "markdown",
   "id": "3115bae6",
   "metadata": {},
   "source": [
    "# Question_4"
   ]
  },
  {
   "cell_type": "raw",
   "id": "cdb12e7b",
   "metadata": {},
   "source": [
    "Given a sorted array of distinct integers and a target value, return the index if the\n",
    "target is found. If not, return the index where it would be if it were inserted in\n",
    "order.\n",
    "\n",
    "You must write an algorithm with O(log n) runtime complexity.\n",
    "\n",
    "Example 1:\n",
    "Input: nums = [1,3,5,6], target = 5\n",
    "Output: 2"
   ]
  },
  {
   "cell_type": "markdown",
   "id": "1c53eca1",
   "metadata": {},
   "source": [
    "- Initialize two pointers, left and right, to the start and end of the array respectively.\n",
    "- Perform a binary search by iteratively dividing the search space in half until left is greater than right. This means that the search space is empty, and the target should be inserted at the index left.\n",
    "- Inside the binary search loop, calculate the middle index as mid using the formula mid = (left + right) // 2.\n",
    "- Compare the target with the element at index mid:\n",
    "    - If the target is equal to nums[mid], return mid as the index where the target is found.\n",
    "    - If the target is less than nums[mid], update right = mid - 1 to search in the left half of the remaining array.\n",
    "    - If the target is greater than nums[mid], update left = mid + 1 to search in the right half of the remaining array.\n",
    "- After the binary search loop, return left as the index where the target should be inserted in order."
   ]
  },
  {
   "cell_type": "code",
   "execution_count": 7,
   "id": "3664072d",
   "metadata": {},
   "outputs": [],
   "source": [
    "def searchInsert(nums, target):\n",
    "    left, right = 0, len(nums) - 1\n",
    "\n",
    "    while left <= right:\n",
    "        mid = (left + right) // 2\n",
    "\n",
    "        if nums[mid] == target:\n",
    "            return mid\n",
    "        elif nums[mid] < target:\n",
    "            left = mid + 1\n",
    "        else:\n",
    "            right = mid - 1\n",
    "\n",
    "    return left\n"
   ]
  },
  {
   "cell_type": "code",
   "execution_count": 8,
   "id": "010705d7",
   "metadata": {},
   "outputs": [
    {
     "name": "stdout",
     "output_type": "stream",
     "text": [
      "2\n"
     ]
    }
   ],
   "source": [
    "nums = [1, 3, 5, 6]\n",
    "target = 5\n",
    "result = searchInsert(nums, target)\n",
    "print(result)\n"
   ]
  },
  {
   "cell_type": "raw",
   "id": "e2884dc8",
   "metadata": {},
   "source": [
    "The time complexity of the algorithm is O(log n), where n is the length of the input array nums. This is because the binary search algorithm divides the search space in half at each step, resulting in a logarithmic number of iterations. Therefore, the algorithm has a logarithmic time complexity.\n",
    "\n",
    "The space complexity of the algorithm is O(1) because it uses a constant amount of extra space. The algorithm only requires a few variables (left, right, mid) to keep track of the search space boundaries and the current middle index. It does not use any additional data structures or recursion that would depend on the input size. Thus, the algorithm has a constant space complexity."
   ]
  },
  {
   "cell_type": "markdown",
   "id": "59cafcc6",
   "metadata": {},
   "source": [
    "# Question_5"
   ]
  },
  {
   "cell_type": "raw",
   "id": "1b72a297",
   "metadata": {},
   "source": [
    "\n",
    "💡 You are given a large integer represented as an integer array digits, where each\n",
    "digits[i] is the ith digit of the integer. The digits are ordered from most significant\n",
    "to least significant in left-to-right order. The large integer does not contain any\n",
    "leading 0's.\n",
    "\n",
    "Increment the large integer by one and return the resulting array of digits.\n",
    "\n",
    "**Example 1:**\n",
    "Input: digits = [1,2,3]\n",
    "Output: [1,2,4]\n",
    "\n",
    "**Explanation:** The array represents the integer 123.\n",
    "Incrementing by one gives 123 + 1 = 124.\n",
    "Thus, the result should be [1,2,4].\n",
    "\n"
   ]
  },
  {
   "cell_type": "markdown",
   "id": "cae20a89",
   "metadata": {},
   "source": [
    "# Algo"
   ]
  },
  {
   "cell_type": "markdown",
   "id": "74302ed5",
   "metadata": {},
   "source": [
    "- Initialize a carry variable as 1. This represents the value to be added to the least significant digit initially.\n",
    "- Traverse the array of digits from right to left:\n",
    "    - Add the carry to the current digit.\n",
    "    - Update the carry by dividing the sum by 10 (to determine if there is a carry to the next digit).\n",
    "    - Update the current digit by taking the modulus of the sum with 10 (to get the new digit value).\n",
    "    - If the carry becomes 0 (indicating no further increment is needed), exit the loop.\n",
    "- If the carry is still 1 after the traversal, it means a new digit needs to be added to the most significant position.\n",
    "- Create a new array to store the result, initially with a length one greater than the input array.\n",
    "- If a new digit needs to be added, set the first element of the result array to the carry value.\n",
    "- Copy the remaining digits from the input array to the result array.\n",
    "- Return the resulting array as the incremented large integer."
   ]
  },
  {
   "cell_type": "code",
   "execution_count": 10,
   "id": "46c8a4d5",
   "metadata": {},
   "outputs": [],
   "source": [
    "def plusOne(digits):\n",
    "    carry = 1\n",
    "\n",
    "    for i in range(len(digits) - 1, -1, -1):\n",
    "        digits[i] += carry\n",
    "        carry = digits[i] // 10\n",
    "        digits[i] %= 10\n",
    "        if carry == 0:\n",
    "            break\n",
    "\n",
    "    if carry == 1:\n",
    "        return [1] + digits\n",
    "\n",
    "    return digits\n"
   ]
  },
  {
   "cell_type": "code",
   "execution_count": 11,
   "id": "00ef1b63",
   "metadata": {},
   "outputs": [
    {
     "name": "stdout",
     "output_type": "stream",
     "text": [
      "[1, 2, 4]\n"
     ]
    }
   ],
   "source": [
    "digits = [1, 2, 3]\n",
    "result = plusOne(digits)\n",
    "print(result)\n"
   ]
  },
  {
   "cell_type": "raw",
   "id": "38069d8a",
   "metadata": {},
   "source": [
    "The time complexity of the algorithm is O(n), where n is the length of the input array digits. This is because we traverse the array once from right to left, performing constant-time operations on each digit. Therefore, the time complexity is linear with respect to the size of the input.\n",
    "\n",
    "The space complexity of the algorithm is O(n) as well. This is because we create a new result array of length n+1 if a new digit needs to be added. In the worst case, when all digits are 9 and an additional digit needs to be added, the result array will have a length of n+1. Therefore, the space complexity is also linear with respect to the size of the input."
   ]
  },
  {
   "cell_type": "markdown",
   "id": "56cbad4d",
   "metadata": {},
   "source": [
    "# Question_6"
   ]
  },
  {
   "cell_type": "raw",
   "id": "8bc9b864",
   "metadata": {},
   "source": [
    "Given a non-empty array of integers nums, every element appears twice except\n",
    "for one. Find that single one.\n",
    "\n",
    "You must implement a solution with a linear runtime complexity and use only\n",
    "constant extra space.\n",
    "\n",
    "Example 1:\n",
    "Input: nums = [2,2,1]\n",
    "Output: 1"
   ]
  },
  {
   "cell_type": "markdown",
   "id": "f0502bd6",
   "metadata": {},
   "source": [
    "# Algo"
   ]
  },
  {
   "cell_type": "markdown",
   "id": "6d54cc39",
   "metadata": {},
   "source": [
    "- Initialize a variable result to 0.\n",
    "- Iterate through each element num in the input array nums.\n",
    "    - Update the result by performing a bitwise XOR between result and num. This will cancel out the duplicate elements and leave us with the value of the element that appears only once.\n",
    "- Return the value of result as the element that appears only once."
   ]
  },
  {
   "cell_type": "code",
   "execution_count": 12,
   "id": "82c8fea2",
   "metadata": {},
   "outputs": [],
   "source": [
    "def singleNumber(nums):\n",
    "    result = 0\n",
    "\n",
    "    for num in nums:\n",
    "        result ^= num\n",
    "\n",
    "    return result\n"
   ]
  },
  {
   "cell_type": "code",
   "execution_count": 13,
   "id": "342a6a44",
   "metadata": {},
   "outputs": [
    {
     "name": "stdout",
     "output_type": "stream",
     "text": [
      "1\n"
     ]
    }
   ],
   "source": [
    "nums = [2, 2, 1]\n",
    "result = singleNumber(nums)\n",
    "print(result)\n"
   ]
  },
  {
   "cell_type": "raw",
   "id": "ab3b57af",
   "metadata": {},
   "source": [
    "The time complexity of the algorithm is O(n), where n is the length of the input array nums. This is because we iterate through each element once to perform the bitwise XOR operation. Therefore, the time complexity is linear with respect to the size of the input.\n",
    "\n",
    "The space complexity of the algorithm is O(1), which means it uses constant extra space. This is because we only need a single variable result to store the XOR result, regardless of the size of the input array. The algorithm does not require any additional data structures that grow with the input size."
   ]
  },
  {
   "cell_type": "markdown",
   "id": "f48ee740",
   "metadata": {},
   "source": [
    "# Question_7"
   ]
  },
  {
   "cell_type": "raw",
   "id": "98d52614",
   "metadata": {},
   "source": [
    "You are given an inclusive range [lower, upper] and a sorted unique integer array\n",
    "nums, where all elements are within the inclusive range.\n",
    "\n",
    "A number x is considered missing if x is in the range [lower, upper] and x is not in\n",
    "nums.\n",
    "\n",
    "Return the shortest sorted list of ranges that exactly covers all the missing\n",
    "numbers. That is, no element of nums is included in any of the ranges, and each\n",
    "missing number is covered by one of the ranges.\n",
    "\n",
    "Example 1:\n",
    "Input: nums = [0,1,3,50,75], lower = 0, upper = 99\n",
    "Output: [[2,2],[4,49],[51,74],[76,99]]\n",
    "\n",
    "Explanation: The ranges are:\n",
    "[2,2]\n",
    "[4,49]\n",
    "[51,74]\n",
    "[76,99]"
   ]
  },
  {
   "cell_type": "markdown",
   "id": "4f3a54bb",
   "metadata": {},
   "source": [
    "# Algo"
   ]
  },
  {
   "cell_type": "markdown",
   "id": "eb47ec68",
   "metadata": {},
   "source": [
    "- Initialize an empty list result to store the ranges.\n",
    "- Initialize a variable start to the lower limit.\n",
    "- Iterate through each number num in the given sorted array nums.\n",
    "    - If start is less than num, it means there is a missing range between start and num. Add this range to result as a list [start, num-1].\n",
    "    - Update start to num + 1 to set the starting point for the next range.\n",
    "- If start is less than or equal to the upper limit, it means there is a missing range between start and the upper limit. Add this range to result as a list [start, upper].\n",
    "- Return the resulting list result containing the shortest sorted list of ranges."
   ]
  },
  {
   "cell_type": "code",
   "execution_count": 14,
   "id": "e035ef5d",
   "metadata": {},
   "outputs": [],
   "source": [
    "def findMissingRanges(nums, lower, upper):\n",
    "    result = []\n",
    "    start = lower\n",
    "\n",
    "    for num in nums:\n",
    "        if start < num:\n",
    "            result.append([start, num-1])\n",
    "        start = num + 1\n",
    "\n",
    "    if start <= upper:\n",
    "        result.append([start, upper])\n",
    "\n",
    "    return result\n"
   ]
  },
  {
   "cell_type": "code",
   "execution_count": 15,
   "id": "af662f3a",
   "metadata": {},
   "outputs": [
    {
     "name": "stdout",
     "output_type": "stream",
     "text": [
      "[[2, 2], [4, 49], [51, 74], [76, 99]]\n"
     ]
    }
   ],
   "source": [
    "nums = [0, 1, 3, 50, 75]\n",
    "lower = 0\n",
    "upper = 99\n",
    "result = findMissingRanges(nums, lower, upper)\n",
    "print(result)\n"
   ]
  },
  {
   "cell_type": "raw",
   "id": "eccd345c",
   "metadata": {},
   "source": [
    "The time complexity of the algorithm is O(n), where n is the length of the input array nums. This is because we iterate through each element of nums once to identify the missing ranges. The time complexity is directly proportional to the size of the input.\n",
    "\n",
    "The space complexity of the algorithm is O(1) on average. This is because the space used for storing the resulting list of ranges (result) grows with the number of missing ranges, which is typically much smaller than the size of the input array. Therefore, the space complexity can be considered constant.\n",
    "\n",
    "However, if we consider the worst-case scenario where there are no missing numbers, the number of ranges in the output will be equal to the size of the input array nums. In this case, the space complexity will be O(n), where n is the length of nums.\n",
    "\n",
    "Overall, the algorithm has a linear time complexity and constant to linear space complexity depending on the number of missing ranges."
   ]
  },
  {
   "cell_type": "markdown",
   "id": "5bc23222",
   "metadata": {},
   "source": [
    "# Question_8"
   ]
  },
  {
   "cell_type": "raw",
   "id": "9110a013",
   "metadata": {},
   "source": [
    "Given an array of meeting time intervals where intervals[i] = [starti, endi],\n",
    "determine if a person could attend all meetings.\n",
    "\n",
    "Example 1:\n",
    "Input: intervals = [[0,30],[5,10],[15,20]]\n",
    "Output: false"
   ]
  },
  {
   "cell_type": "markdown",
   "id": "e3bde6ca",
   "metadata": {},
   "source": [
    "# Algo"
   ]
  },
  {
   "cell_type": "markdown",
   "id": "b3940083",
   "metadata": {},
   "source": [
    "- Sort the intervals based on the start time of each meeting.\n",
    "- Iterate through the sorted intervals starting from the second interval.\n",
    "    - Check if the start time of the current interval is less than or equal to the end time of the previous interval. If it is,       there is an overlap and the person cannot attend all the meetings. Return False.\n",
    "- If there are no overlaps, return True as the person can attend all the meetings."
   ]
  },
  {
   "cell_type": "code",
   "execution_count": 16,
   "id": "f87811fb",
   "metadata": {},
   "outputs": [],
   "source": [
    "def canAttendMeetings(intervals):\n",
    "    intervals.sort(key=lambda x: x[0])  # Sort intervals based on start time\n",
    "\n",
    "    for i in range(1, len(intervals)):\n",
    "        if intervals[i][0] < intervals[i-1][1]:\n",
    "            return False\n",
    "\n",
    "    return True\n"
   ]
  },
  {
   "cell_type": "code",
   "execution_count": 17,
   "id": "f80dff2c",
   "metadata": {},
   "outputs": [
    {
     "name": "stdout",
     "output_type": "stream",
     "text": [
      "False\n"
     ]
    }
   ],
   "source": [
    "intervals = [[0, 30], [5, 10], [15, 20]]\n",
    "result = canAttendMeetings(intervals)\n",
    "print(result)\n"
   ]
  },
  {
   "cell_type": "markdown",
   "id": "1400d344",
   "metadata": {},
   "source": [
    "The time complexity of the algorithm is O(n log n), where n is the number of intervals in the input array. This is because we sort the intervals based on their start times, which requires O(n log n) time complexity using a comparison-based sorting algorithm. The subsequent iteration through the sorted intervals takes linear time, which is dominated by the sorting step.\n",
    "\n",
    "The space complexity of the algorithm is O(1) because it uses a constant amount of extra space. We do not require any additional data structures that grow with the input size. The sorting operation is performed in-place, so the space used is constant regardless of the size of the input array."
   ]
  },
  {
   "cell_type": "code",
   "execution_count": null,
   "id": "5239b5cf",
   "metadata": {},
   "outputs": [],
   "source": []
  },
  {
   "cell_type": "code",
   "execution_count": null,
   "id": "e84f048a",
   "metadata": {},
   "outputs": [],
   "source": []
  }
 ],
 "metadata": {
  "kernelspec": {
   "display_name": "Python 3 (ipykernel)",
   "language": "python",
   "name": "python3"
  },
  "language_info": {
   "codemirror_mode": {
    "name": "ipython",
    "version": 3
   },
   "file_extension": ".py",
   "mimetype": "text/x-python",
   "name": "python",
   "nbconvert_exporter": "python",
   "pygments_lexer": "ipython3",
   "version": "3.11.3"
  }
 },
 "nbformat": 4,
 "nbformat_minor": 5
}
