{
 "cells": [
  {
   "cell_type": "markdown",
   "id": "e18f13be",
   "metadata": {},
   "source": [
    "# Assignment Questions 1 "
   ]
  },
  {
   "cell_type": "raw",
   "id": "226346c5",
   "metadata": {},
   "source": [
    "\n",
    "💡 **Q1.** Given an array of integers nums and an integer target, return indices of the two numbers such that they add up to target.\n",
    "\n",
    "You may assume that each input would have exactly one solution, and you may not use the same element twice.\n",
    "\n",
    "You can return the answer in any order.\n",
    "\n",
    "**Example:**\n",
    "Input: nums = [2,7,11,15], target = 9\n",
    "Output0 [0,1]\n",
    "\n",
    "**Explanation:** Because nums[0] + nums[1] == 9, we return [0, 1]\n",
    "\n"
   ]
  },
  {
   "cell_type": "markdown",
   "id": "db593699",
   "metadata": {},
   "source": [
    "# Solution 1 : solution using a dictionary"
   ]
  },
  {
   "cell_type": "markdown",
   "id": "56d56c22",
   "metadata": {},
   "source": [
    "- Initialize an empty dictionary to store the elements and their indices.\n",
    "- Iterate through the array, and for each element:\n",
    "  - Calculate the complement of the current element by subtracting it from the target.\n",
    "  - Check if the complement exists in the dictionary. If it does, return the indices of the current element and its   complement.\n",
    "  - If the complement does not exist in the dictionary, add the current element and its index to the dictionary.\n",
    "- If no solution is found by the end of the iteration, return an empty list."
   ]
  },
  {
   "cell_type": "code",
   "execution_count": 2,
   "id": "ac81689a",
   "metadata": {},
   "outputs": [
    {
     "name": "stdout",
     "output_type": "stream",
     "text": [
      "[0, 1]\n"
     ]
    }
   ],
   "source": [
    "def twoSum(nums, target):\n",
    "    num_dict = {}  # dictionary to store elements and their indices\n",
    "    \n",
    "    for i, num in enumerate(nums):\n",
    "        complement = target - num\n",
    "        \n",
    "        if complement in num_dict:\n",
    "            return [num_dict[complement], i]\n",
    "        \n",
    "        num_dict[num] = i\n",
    "    \n",
    "    return []\n",
    "\n",
    "# Example usage\n",
    "nums = [2, 7, 11, 15]\n",
    "target = 9\n",
    "result = twoSum(nums, target)\n",
    "print(result)\n"
   ]
  },
  {
   "cell_type": "raw",
   "id": "79ea15dd",
   "metadata": {},
   "source": [
    "In this algorithm, we use a dictionary to store the elements of the array and their indices. This allows us to quickly look up whether a complement exists for the current element or not. By storing the elements in a dictionary, we achieve an average time complexity of O(n) for the algorithm, where n is the length of the input array. The space complexity is also O(n) as we need to store the elements and their indices in the dictionary."
   ]
  },
  {
   "cell_type": "code",
   "execution_count": null,
   "id": "926a4886",
   "metadata": {},
   "outputs": [],
   "source": []
  },
  {
   "cell_type": "markdown",
   "id": "0aeb836a",
   "metadata": {},
   "source": [
    "# Solution 2: Brute Force"
   ]
  },
  {
   "cell_type": "markdown",
   "id": "358faa5c",
   "metadata": {},
   "source": [
    "- brute force algorithm that checks all possible pairs of numbers in the array. This involves using two nested loops to iterate over all combinations of elements and checking if their sum equals the target."
   ]
  },
  {
   "cell_type": "markdown",
   "id": "530bed21",
   "metadata": {},
   "source": [
    "### Algo Step\n",
    "- Iterate through each element in the array from the first element to the second-to-last element.\n",
    "- For each element at index i, iterate through the remaining elements from the next element to the last element.\n",
    "- Check if the sum of the current element at index i and the element at index j equals the target.\n",
    "- If the sum is equal to the target, return the indices [i, j].\n",
    "- If no solution is found after the nested loops, return an empty list []."
   ]
  },
  {
   "cell_type": "code",
   "execution_count": 3,
   "id": "39e62984",
   "metadata": {},
   "outputs": [],
   "source": [
    "def twoSum(nums, target):\n",
    "    n = len(nums)\n",
    "    for i in range(n):\n",
    "        for j in range(i+1, n):\n",
    "            if nums[i] + nums[j] == target:\n",
    "                return [i, j]\n",
    "    return []\n"
   ]
  },
  {
   "cell_type": "markdown",
   "id": "b0dd6636",
   "metadata": {},
   "source": [
    "- This solution has a time complexity of O(n^2) since we have nested loops. It checks all possible pairs, so it is guaranteed to find the solution if it exists. However, it is not as efficient as the previous solution using a dictionary."
   ]
  },
  {
   "cell_type": "markdown",
   "id": "09e1e6e6",
   "metadata": {},
   "source": [
    "# Solution 3: Sorting and Two Pointers"
   ]
  },
  {
   "cell_type": "markdown",
   "id": "32a16506",
   "metadata": {},
   "source": [
    "- Another approach is to sort the array and use two pointers, one starting from the beginning and the other from the end. We adjust the pointers based on the sum of the current pair of elements."
   ]
  },
  {
   "cell_type": "markdown",
   "id": "0daf40b0",
   "metadata": {},
   "source": [
    "### Algo Step\n",
    "- Sort the input array nums in non-decreasing order.\n",
    "- Initialize two pointers: left pointing to the first element (index 0) and right pointing to the last element (index len(nums)-1).\n",
    "- While left is less than right, do the following steps:\n",
    "  - Calculate the current sum by adding the elements at indices left and right.\n",
    "  - If the current sum is equal to the target, break out of the loop.\n",
    "  - If the current sum is less than the target, increment left by 1.\n",
    "  - If the current sum is greater than the target, decrement right by 1.\n",
    "- If the loop terminated because the current sum is equal to the target, proceed to the next step. Otherwise, return an empty list [] since no solution is found.\n",
    "- Find the indices of the elements in the original unsorted array by using the .index() method of the list.\n",
    "  - Find the index of the element at sorted_nums[left] using nums.index(sorted_nums[left]).\n",
    "  - Find the index of the element at sorted_nums[right] using nums.index(sorted_nums[right]).\n",
    "- Return the sorted indices in a list [index1, index2], where index1 is the smaller index and index2 is the larger index."
   ]
  },
  {
   "cell_type": "code",
   "execution_count": 4,
   "id": "11766bf4",
   "metadata": {},
   "outputs": [],
   "source": [
    "def twoSum(nums, target):\n",
    "    sorted_nums = sorted(nums)\n",
    "    left = 0\n",
    "    right = len(nums) - 1\n",
    "    \n",
    "    while left < right:\n",
    "        current_sum = sorted_nums[left] + sorted_nums[right]\n",
    "        if current_sum == target:\n",
    "            break\n",
    "        elif current_sum < target:\n",
    "            left += 1\n",
    "        else:\n",
    "            right -= 1\n",
    "    \n",
    "    if left < right:\n",
    "        # Find the indices of the elements in the original unsorted array\n",
    "        indices = [nums.index(sorted_nums[left]), nums.index(sorted_nums[right])]\n",
    "        return sorted(indices)\n",
    "    else:\n",
    "        return []\n"
   ]
  },
  {
   "cell_type": "raw",
   "id": "d8914252",
   "metadata": {},
   "source": [
    "This solution takes advantage of the fact that the array is sorted to efficiently adjust the pointers based on the comparison of the current sum with the target. The time complexity of this solution is O(n log n) due to the sorting operation, where n is the length of the input array.\n",
    "\n",
    "These alternative solutions provide different trade-offs in terms of time complexity and implementation complexity. The initial solution using a dictionary is more efficient, while the brute force solution has higher time complexity but is simpler to implement. The sorting and two pointers solution balances efficiency and implementation complexity, but requires modifying the indices to account for the original unsorted array."
   ]
  },
  {
   "cell_type": "markdown",
   "id": "e7b9ace5",
   "metadata": {},
   "source": [
    "# Questions 2"
   ]
  },
  {
   "cell_type": "raw",
   "id": "91ff0bb7",
   "metadata": {},
   "source": [
    "\n",
    "💡 **Q2.** Given an integer array nums and an integer val, remove all occurrences of val in nums in-place. The order of the elements may be changed. Then return the number of elements in nums which are not equal to val.\n",
    "\n",
    "Consider the number of elements in nums which are not equal to val be k, to get accepted, you need to do the following things:\n",
    "\n",
    "- Change the array nums such that the first k elements of nums contain the elements which are not equal to val. The remaining elements of nums are not important as well as the size of nums.\n",
    "- Return k.\n",
    "\n",
    "**Example :**\n",
    "Input: nums = [3,2,2,3], val = 3\n",
    "Output: 2, nums = [2,2,_*,_*]\n",
    "\n",
    "**Explanation:** Your function should return k = 2, with the first two elements of nums being 2. It does not matter what you leave beyond the returned k (hence they are underscores)\n",
    "\n"
   ]
  },
  {
   "cell_type": "markdown",
   "id": "77aef686",
   "metadata": {},
   "source": [
    "# Algo"
   ]
  },
  {
   "cell_type": "markdown",
   "id": "55af68b6",
   "metadata": {},
   "source": [
    "- Initialize two pointers, i and k, to 0. The pointer i will iterate through the array nums, and the pointer k will keep track of the count of elements that are not equal to val.\n",
    "\n",
    "- Iterate through the array using a for loop or a while loop with the condition i < len(nums):\n",
    "\n",
    "  - Inside the loop, check if the element at index i is equal to val:\n",
    "  - If it is equal to val, increment i by 1 to move to the next element.\n",
    "  - If it is not equal to val, assign the element at index i to the element at index k, increment i by 1, and increment k by 1.\n",
    "- After the loop ends, k will represent the count of elements that are not equal to val. The first k elements of the array nums will contain the elements that are not equal to val.\n",
    "\n",
    "- Update the remaining elements of the array nums after index k to be equal to a special placeholder value, such as _ or None, to indicate that they are not important.\n",
    "\n",
    "- Return the value of k."
   ]
  },
  {
   "cell_type": "code",
   "execution_count": 4,
   "id": "996ea729",
   "metadata": {},
   "outputs": [],
   "source": [
    "def removeElement(nums, val):\n",
    "    k = 0  # Count of elements not equal to val\n",
    "    for i in range(len(nums)):\n",
    "        if nums[i] != val:\n",
    "            nums[k] = nums[i]\n",
    "            k += 1\n",
    "    for i in range(k, len(nums)):\n",
    "        nums[i] = '_'\n",
    "    return k\n"
   ]
  },
  {
   "cell_type": "code",
   "execution_count": 5,
   "id": "cbdc0d95",
   "metadata": {},
   "outputs": [
    {
     "name": "stdout",
     "output_type": "stream",
     "text": [
      "2\n",
      "[2, 2, '_', '_']\n"
     ]
    }
   ],
   "source": [
    "nums = [3, 2, 2, 3]\n",
    "val = 3\n",
    "result = removeElement(nums, val)\n",
    "print(result)  # Output: 2\n",
    "print(nums)    # Output: [2, 2, '_', '_']\n"
   ]
  },
  {
   "cell_type": "raw",
   "id": "0197f1c9",
   "metadata": {},
   "source": [
    "Time Complexity: The function iterates through the nums array once, performing constant-time operations for each element. Hence, the time complexity is O(n), where n is the length of the nums array.\n",
    "\n",
    "Space Complexity: The function modifies the nums array in-place, without using any additional data structures that scale with the input size. It only uses a constant amount of extra space for the i, k variables, and the placeholder values. Therefore, the space complexity is O(1), indicating constant space usage.\n",
    "\n",
    "In summary, the removeElement function has a time complexity of O(n) and a space complexity of O(1), where n is the length of the input nums array. It is an efficient algorithm that operates directly on the input array, removing occurrences of the given value and returning the count of elements that are not equal to that value."
   ]
  },
  {
   "cell_type": "markdown",
   "id": "92576748",
   "metadata": {},
   "source": [
    "# Questions 3"
   ]
  },
  {
   "cell_type": "markdown",
   "id": "63bbf6a9",
   "metadata": {},
   "source": [
    "\n",
    "💡 **Q3.** Given a sorted array of distinct integers and a target value, return the index if the target is found. If not, return the index where it would be if it were inserted in order.\n",
    "\n",
    "You must write an algorithm with O(log n) runtime complexity.\n",
    "\n",
    "**Example 1:**\n",
    "Input: nums = [1,3,5,6], target = 5\n",
    "\n",
    "Output: 2\n"
   ]
  },
  {
   "cell_type": "markdown",
   "id": "b9627216",
   "metadata": {},
   "source": [
    "# Algo"
   ]
  },
  {
   "cell_type": "markdown",
   "id": "7b2bd2b4",
   "metadata": {},
   "source": [
    "- Set the left pointer left to 0 and the right pointer right to len(nums) - 1.\n",
    "\n",
    "- While left <= right, perform the following steps:\n",
    "\n",
    "    - Calculate the middle index mid as (left + right) // 2.\n",
    "\n",
    "    - If nums[mid] is equal to the target, return mid as the index where the target is found.\n",
    "\n",
    "    - If nums[mid] is less than the target, update left to mid + 1 to search the right half of the array.\n",
    "\n",
    "    - If nums[mid] is greater than the target, update right to mid - 1 to search the left half of the array.\n",
    "\n",
    "- If the loop ends without finding the target, return left as the index where the target would be inserted."
   ]
  },
  {
   "cell_type": "code",
   "execution_count": 13,
   "id": "08d869b6",
   "metadata": {},
   "outputs": [],
   "source": [
    "def searchInsert(nums, target):\n",
    "    left = 0\n",
    "    right = len(nums) - 1\n",
    "\n",
    "    while left <= right:\n",
    "        mid = (left + right) // 2\n",
    "\n",
    "        if nums[mid] == target:\n",
    "            return mid\n",
    "        elif nums[mid] < target:\n",
    "            left = mid + 1\n",
    "        else:\n",
    "            right = mid - 1\n",
    "\n",
    "    return left\n"
   ]
  },
  {
   "cell_type": "code",
   "execution_count": 14,
   "id": "7630073c",
   "metadata": {},
   "outputs": [
    {
     "name": "stdout",
     "output_type": "stream",
     "text": [
      "2\n"
     ]
    }
   ],
   "source": [
    "nums = [1, 3, 5, 6]\n",
    "target = 5\n",
    "result = searchInsert(nums, target)\n",
    "print(result)  # Output: 2\n"
   ]
  },
  {
   "cell_type": "raw",
   "id": "06df3822",
   "metadata": {},
   "source": [
    "The key reason why binary search is efficient is that it eliminates half of the remaining elements in each iteration. By repeatedly comparing the target with the middle element and updating the search range, the algorithm can quickly narrow down the possible location of the target.\n",
    "\n",
    "As a result, the algorithm achieves a logarithmic time complexity of O(log n), where n is the size of the input array. This is significantly better than a linear search algorithm, which would have a time complexity of O(n)."
   ]
  },
  {
   "cell_type": "markdown",
   "id": "5b9dc82b",
   "metadata": {},
   "source": [
    "# Questions 4"
   ]
  },
  {
   "cell_type": "code",
   "execution_count": null,
   "id": "77f8a596",
   "metadata": {},
   "outputs": [],
   "source": [
    "<aside>\n",
    "💡 **Q4.** You are given a large integer represented as an integer array digits, where each digits[i] is the ith digit of the integer. The digits are ordered from most significant to least significant in left-to-right order. The large integer does not contain any leading 0's.\n",
    "\n",
    "Increment the large integer by one and return the resulting array of digits.\n",
    "\n",
    "**Example 1:**\n",
    "Input: digits = [1,2,3]\n",
    "Output: [1,2,4]\n",
    "\n",
    "**Explanation:** The array represents the integer 123.\n",
    "\n",
    "Incrementing by one gives 123 + 1 = 124.\n",
    "Thus, the result should be [1,2,4].\n",
    "\n",
    "</aside>"
   ]
  },
  {
   "cell_type": "markdown",
   "id": "06bb435f",
   "metadata": {},
   "source": [
    "# Algo"
   ]
  },
  {
   "cell_type": "markdown",
   "id": "4fd147e3",
   "metadata": {},
   "source": [
    "- nitialize a carry variable to 1 to represent the carry digit.\n",
    "\n",
    "- Iterate over the digits in reverse order (from the least significant digit to the most significant digit):\n",
    "\n",
    "   - Add the carry to the current digit.\n",
    "\n",
    "   - If the result is less than 10, update the current digit and return the updated array of digits.\n",
    "\n",
    "   - If the result is 10, set the current digit to 0 and continue to the next digit.\n",
    "\n",
    "- If the iteration completes without returning from step 2, it means the most significant digit also resulted in a carry. In this case, prepend a new digit 1 to the array of digits to account for the carry.\n",
    "\n",
    "- Return the updated array of digits."
   ]
  },
  {
   "cell_type": "code",
   "execution_count": 15,
   "id": "b04f03aa",
   "metadata": {},
   "outputs": [],
   "source": [
    "def plusOne(digits):\n",
    "    carry = 1\n",
    "    for i in range(len(digits) - 1, -1, -1):\n",
    "        digits[i] += carry\n",
    "        if digits[i] < 10:\n",
    "            return digits\n",
    "        digits[i] = 0\n",
    "    digits.insert(0, 1)\n",
    "    return digits\n"
   ]
  },
  {
   "cell_type": "code",
   "execution_count": 16,
   "id": "b5dfa250",
   "metadata": {},
   "outputs": [
    {
     "name": "stdout",
     "output_type": "stream",
     "text": [
      "[1, 2, 4]\n"
     ]
    }
   ],
   "source": [
    "digits = [1, 2, 3]\n",
    "result = plusOne(digits)\n",
    "print(result)  # Output: [1, 2, 4]\n"
   ]
  },
  {
   "cell_type": "raw",
   "id": "dd38a2a9",
   "metadata": {},
   "source": [
    "The time complexity of the plusOne function is O(n), where n is the length of the input array digits. This is because in the worst case, we need to iterate over all the digits in the array to perform the increment operation.\n",
    "\n",
    "The space complexity of the plusOne function is O(n) as well. This is because the function modifies the input array in place, so it does not require any additional space proportional to the input size. However, if a carry is generated for the most significant digit, we need to insert an additional digit at the beginning of the array, which increases the space complexity by a constant factor.\n",
    "\n",
    "In summary, the algorithm has a linear time complexity and linear space complexity, making it efficient for incrementing the large integer represented by an array of digits."
   ]
  },
  {
   "cell_type": "markdown",
   "id": "7dc66cae",
   "metadata": {},
   "source": [
    "# Questions 5"
   ]
  },
  {
   "cell_type": "raw",
   "id": "c424c44e",
   "metadata": {},
   "source": [
    "\n",
    "💡 **Q5.** You are given two integer arrays nums1 and nums2, sorted in non-decreasing order, and two integers m and n, representing the number of elements in nums1 and nums2 respectively.\n",
    "\n",
    "Merge nums1 and nums2 into a single array sorted in non-decreasing order.\n",
    "\n",
    "The final sorted array should not be returned by the function, but instead be stored inside the array nums1. To accommodate this, nums1 has a length of m + n, where the first m elements denote the elements that should be merged, and the last n elements are set to 0 and should be ignored. nums2 has a length of n.\n",
    "\n",
    "**Example 1:**\n",
    "Input: nums1 = [1,2,3,0,0,0], m = 3, nums2 = [2,5,6], n = 3\n",
    "Output: [1,2,2,3,5,6]\n",
    "\n",
    "**Explanation:** The arrays we are merging are [1,2,3] and [2,5,6].\n",
    "The result of the merge is [1,2,2,3,5,6] with the underlined elements coming from nums1.\n",
    "\n"
   ]
  },
  {
   "cell_type": "markdown",
   "id": "f0cb782f",
   "metadata": {},
   "source": [
    "# Algo"
   ]
  },
  {
   "cell_type": "markdown",
   "id": "0e4ffdb2",
   "metadata": {},
   "source": [
    "- Initialize three pointers:\n",
    "\n",
    "    - p1 pointing to the last non-zero element in nums1 (at index m - 1).\n",
    "    - p2 pointing to the last element in nums2 (at index n - 1).\n",
    "    - p pointing to the last position in nums1 (at index m + n - 1).\n",
    "- While p1 >= 0 and p2 >= 0, perform the following steps:\n",
    "\n",
    "    - Compare nums1[p1] and nums2[p2].\n",
    "    - If nums1[p1] is greater than or equal to nums2[p2], set nums1[p] to nums1[p1] and decrement both p1 and p by 1.\n",
    "    - Otherwise, set nums1[p] to nums2[p2] and decrement both p2 and p by 1.\n",
    "- If there are remaining elements in nums2 (i.e., p2 >= 0), copy them to the beginning of nums1 up to index p2+1."
   ]
  },
  {
   "cell_type": "code",
   "execution_count": 18,
   "id": "ddc686ce",
   "metadata": {},
   "outputs": [],
   "source": [
    "def merge(nums1, m, nums2, n):\n",
    "    p1 = m - 1\n",
    "    p2 = n - 1\n",
    "    p = m + n - 1\n",
    "\n",
    "    while p1 >= 0 and p2 >= 0:\n",
    "        if nums1[p1] >= nums2[p2]:\n",
    "            nums1[p] = nums1[p1]\n",
    "            p1 -= 1\n",
    "        else:\n",
    "            nums1[p] = nums2[p2]\n",
    "            p2 -= 1\n",
    "        p -= 1\n",
    "\n",
    "    if p2 >= 0:\n",
    "        nums1[:p2 + 1] = nums2[:p2 + 1]\n"
   ]
  },
  {
   "cell_type": "code",
   "execution_count": 19,
   "id": "f914e37e",
   "metadata": {},
   "outputs": [
    {
     "name": "stdout",
     "output_type": "stream",
     "text": [
      "[1, 2, 2, 3, 5, 6]\n"
     ]
    }
   ],
   "source": [
    "nums1 = [1, 2, 3, 0, 0, 0]\n",
    "m = 3\n",
    "nums2 = [2, 5, 6]\n",
    "n = 3\n",
    "merge(nums1, m, nums2, n)\n",
    "print(nums1)  # Output: [1, 2, 2, 3, 5, 6]\n"
   ]
  },
  {
   "cell_type": "raw",
   "id": "24340e23",
   "metadata": {},
   "source": [
    "The time complexity of the merge function is O(m + n), where m is the length of nums1 and n is the length of nums2. This is because we iterate through both arrays once, comparing and merging the elements. It is important to note that the time complexity is directly proportional to the total number of elements in both arrays.\n",
    "\n",
    "The space complexity of the merge function is O(1) since we perform the merging in-place, without using any additional data structures that grow with the input size. We only use a constant amount of extra space to store the pointers and temporary variables.\n",
    "\n",
    "In summary, the algorithm has a linear time complexity and constant space complexity, making it efficient for merging two sorted arrays in place."
   ]
  },
  {
   "cell_type": "markdown",
   "id": "517c7125",
   "metadata": {},
   "source": [
    "# Questions 6"
   ]
  },
  {
   "cell_type": "raw",
   "id": "a18d150e",
   "metadata": {},
   "source": [
    "\n",
    "💡 **Q6.** Given an integer array nums, return true if any value appears at least twice in the array, and return false if every element is distinct.\n",
    "\n",
    "**Example 1:**\n",
    "Input: nums = [1,2,3,1]\n",
    "\n",
    "Output: true\n",
    "\n"
   ]
  },
  {
   "cell_type": "markdown",
   "id": "35ef8475",
   "metadata": {},
   "source": [
    "# Algo"
   ]
  },
  {
   "cell_type": "markdown",
   "id": "5beb3f98",
   "metadata": {},
   "source": [
    "- Initialize an empty set.\n",
    "\n",
    "- Iterate through each element num in the array nums:\n",
    "\n",
    "    - If num is already present in the set, return True as it indicates a duplicate value.\n",
    "    - Otherwise, add num to the set.\n",
    "- If the iteration completes without finding any duplicates, return False as every element is distinct."
   ]
  },
  {
   "cell_type": "code",
   "execution_count": 22,
   "id": "bcc6cd1d",
   "metadata": {},
   "outputs": [],
   "source": [
    "def containsDuplicate(nums):\n",
    "    num_set = set()\n",
    "    for num in nums:\n",
    "        if num in num_set:\n",
    "            return True\n",
    "        num_set.add(num)\n",
    "    return False\n"
   ]
  },
  {
   "cell_type": "code",
   "execution_count": 23,
   "id": "4c3f1987",
   "metadata": {},
   "outputs": [
    {
     "name": "stdout",
     "output_type": "stream",
     "text": [
      "True\n"
     ]
    }
   ],
   "source": [
    "nums = [1, 2, 3, 1]\n",
    "result = containsDuplicate(nums)\n",
    "print(result)  # Output: True\n"
   ]
  },
  {
   "cell_type": "raw",
   "id": "6716fb13",
   "metadata": {},
   "source": [
    "The time complexity of this solution is O(n), where n is the length of the input array nums. This is because we iterate through each element once and perform constant-time operations to check for duplicates in the set.\n",
    "\n",
    "The space complexity of this solution is O(n) as well, as the worst-case scenario occurs when all elements in the array are distinct and we need to store them all in the set."
   ]
  },
  {
   "cell_type": "markdown",
   "id": "d798a06c",
   "metadata": {},
   "source": [
    "# Questions 7"
   ]
  },
  {
   "cell_type": "raw",
   "id": "814b819d",
   "metadata": {},
   "source": [
    "\n",
    "💡 **Q7.** Given an integer array nums, move all 0's to the end of it while maintaining the relative order of the nonzero elements.\n",
    "\n",
    "Note that you must do this in-place without making a copy of the array.\n",
    "\n",
    "**Example 1:**\n",
    "Input: nums = [0,1,0,3,12]\n",
    "Output: [1,3,12,0,0]\n",
    "\n"
   ]
  },
  {
   "cell_type": "markdown",
   "id": "9c1fb434",
   "metadata": {},
   "source": [
    "# Algo"
   ]
  },
  {
   "cell_type": "raw",
   "id": "a9107f6f",
   "metadata": {},
   "source": [
    "- Initialize left and right pointers to 0.\n",
    "\n",
    "- Iterate through the array using a loop:\n",
    "\n",
    "    - If the current element is non-zero (nums[right] != 0), swap it with the element at the left pointer (nums[left]).\n",
    "    - Increment both left and right pointers.\n",
    "- After the loop completes, all non-zero elements have been moved to the left side of the array, while the zeros remain at the right side."
   ]
  },
  {
   "cell_type": "code",
   "execution_count": 24,
   "id": "8dc52a56",
   "metadata": {},
   "outputs": [],
   "source": [
    "def moveZeroes(nums):\n",
    "    left = 0\n",
    "    right = 0\n",
    "\n",
    "    while right < len(nums):\n",
    "        if nums[right] != 0:\n",
    "            nums[left], nums[right] = nums[right], nums[left]\n",
    "            left += 1\n",
    "        right += 1\n"
   ]
  },
  {
   "cell_type": "code",
   "execution_count": 25,
   "id": "509b31c6",
   "metadata": {},
   "outputs": [
    {
     "name": "stdout",
     "output_type": "stream",
     "text": [
      "[1, 3, 12, 0, 0]\n"
     ]
    }
   ],
   "source": [
    "nums = [0, 1, 0, 3, 12]\n",
    "moveZeroes(nums)\n",
    "print(nums)  # Output: [1, 3, 12, 0, 0]\n"
   ]
  },
  {
   "cell_type": "raw",
   "id": "01bc1456",
   "metadata": {},
   "source": [
    "The time complexity of this solution is O(n), where n is the length of the input array nums. This is because we iterate through each element once and perform constant-time operations.\n",
    "\n",
    "The space complexity is O(1) as we are modifying the input array in-place without using any additional data structures that grow with the input size."
   ]
  },
  {
   "cell_type": "markdown",
   "id": "d0ba6c8b",
   "metadata": {},
   "source": [
    "# Questions 8"
   ]
  },
  {
   "cell_type": "raw",
   "id": "3547ee12",
   "metadata": {},
   "source": [
    "\n",
    "💡 **Q8.** You have a set of integers s, which originally contains all the numbers from 1 to n. Unfortunately, due to some error, one of the numbers in s got duplicated to another number in the set, which results in repetition of one number and loss of another number.\n",
    "\n",
    "You are given an integer array nums representing the data status of this set after the error.\n",
    "\n",
    "Find the number that occurs twice and the number that is missing and return them in the form of an array.\n",
    "\n",
    "**Example 1:**\n",
    "Input: nums = [1,2,2,4]\n",
    "Output: [2,3]\n",
    "\n"
   ]
  },
  {
   "cell_type": "markdown",
   "id": "f20e5aa1",
   "metadata": {},
   "source": [
    "# Algo"
   ]
  },
  {
   "cell_type": "markdown",
   "id": "210c5cb2",
   "metadata": {},
   "source": [
    "- Initialize an empty set called numSet.\n",
    "\n",
    "- Initialize variables duplicate and n to track the duplicate number and the total count of numbers, respectively.\n",
    "\n",
    "- Iterate through the array nums using a loop:\n",
    "\n",
    "    - If the current element is already present in numSet, it is the duplicate number. Store it in the duplicate variable.\n",
    "    - Add the current element to numSet.\n",
    "    - Calculate the sum of all elements in the array and store it in n.\n",
    "- Calculate the sum of all numbers from 1 to n using the formula (n * (n + 1)) // 2. Let's call this sum totalSum.\n",
    "\n",
    "- The missing number can be calculated as totalSum - (sum(nums) - duplicate).\n",
    "\n",
    "- Return the duplicate number and the missing number in the form of an array."
   ]
  },
  {
   "cell_type": "code",
   "execution_count": 26,
   "id": "8aa10351",
   "metadata": {},
   "outputs": [],
   "source": [
    "def findErrorNums(nums):\n",
    "    numSet = set()\n",
    "    duplicate = -1\n",
    "    n = len(nums)\n",
    "\n",
    "    for num in nums:\n",
    "        if num in numSet:\n",
    "            duplicate = num\n",
    "        numSet.add(num)\n",
    "\n",
    "    totalSum = (n * (n + 1)) // 2\n",
    "    missing = totalSum - (sum(nums) - duplicate)\n",
    "\n",
    "    return [duplicate, missing]\n"
   ]
  },
  {
   "cell_type": "code",
   "execution_count": 27,
   "id": "314bdb0f",
   "metadata": {},
   "outputs": [
    {
     "name": "stdout",
     "output_type": "stream",
     "text": [
      "[2, 3]\n"
     ]
    }
   ],
   "source": [
    "nums = [1, 2, 2, 4]\n",
    "result = findErrorNums(nums)\n",
    "print(result)  # Output: [2, 3]\n"
   ]
  },
  {
   "cell_type": "raw",
   "id": "71dd1ec0",
   "metadata": {},
   "source": [
    "The output is [2, 3], which represents the duplicate number (2) and the missing number (3) in the given array.\n",
    "\n",
    "- The time complexity of this solution is O(n) since we iterate through the array once. \n",
    "- The space complexity is also O(n) in the worst case, as we store the elements in the set."
   ]
  },
  {
   "cell_type": "code",
   "execution_count": null,
   "id": "da728a2e",
   "metadata": {},
   "outputs": [],
   "source": []
  }
 ],
 "metadata": {
  "kernelspec": {
   "display_name": "Python 3 (ipykernel)",
   "language": "python",
   "name": "python3"
  },
  "language_info": {
   "codemirror_mode": {
    "name": "ipython",
    "version": 3
   },
   "file_extension": ".py",
   "mimetype": "text/x-python",
   "name": "python",
   "nbconvert_exporter": "python",
   "pygments_lexer": "ipython3",
   "version": "3.11.3"
  }
 },
 "nbformat": 4,
 "nbformat_minor": 5
}
