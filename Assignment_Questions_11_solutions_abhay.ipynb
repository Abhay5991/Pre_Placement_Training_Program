{
 "cells": [
  {
   "cell_type": "markdown",
   "id": "6efbf6a6",
   "metadata": {},
   "source": [
    "# Question_1"
   ]
  },
  {
   "cell_type": "markdown",
   "id": "9458480f",
   "metadata": {},
   "source": [
    "Given a non-negative integer `x`, return *the square root of* `x` *rounded down to the nearest integer*. The returned integer should be **non-negative** as well.\n",
    "\n",
    "You **must not use** any built-in exponent function or operator.\n",
    "\n",
    "- For example, do not use `pow(x, 0.5)` in c++ or `x ** 0.5` in python.\n",
    "\n",
    "**Example 1:**\n",
    "\n",
    "```\n",
    "Input: x = 4\n",
    "Output: 2\n",
    "Explanation: The square root of 4 is 2, so we return 2.\n",
    "\n",
    "```\n",
    "\n",
    "**Example 2:**\n",
    "Input: x = 8\n",
    "Output: 2\n",
    "Explanation: The square root of 8 is 2.82842..., and since we round it down to the nearest integer, 2 is returned."
   ]
  },
  {
   "cell_type": "markdown",
   "id": "772e4dbc",
   "metadata": {},
   "source": [
    "# Algo"
   ]
  },
  {
   "cell_type": "markdown",
   "id": "e57de7c4",
   "metadata": {},
   "source": [
    "- If x is 0 or 1, return x as the square root.\n",
    "- Initialize the variables left as 0 and right as x.\n",
    "- While left is less than or equal to right, do the following:\n",
    "    - a. Set mid as the average of left and right: mid = (left + right) / 2.\n",
    "    - b. If mid * mid is equal to x, return mid as the square root.\n",
    "    - c. If mid * mid is greater than x, update right to mid - 1.\n",
    "    - d. If mid * mid is less than x, update left to mid + 1.\n",
    "- If the loop terminates without finding the exact square root, return right as the square root since we need to round down to the nearest integer."
   ]
  },
  {
   "cell_type": "code",
   "execution_count": 1,
   "id": "fdc76984",
   "metadata": {},
   "outputs": [],
   "source": [
    "def mySqrt(x):\n",
    "    if x == 0 or x == 1:\n",
    "        return x\n",
    "\n",
    "    left = 0\n",
    "    right = x\n",
    "\n",
    "    while left <= right:\n",
    "        mid = (left + right) // 2\n",
    "\n",
    "        if mid * mid == x:\n",
    "            return mid\n",
    "        elif mid * mid > x:\n",
    "            right = mid - 1\n",
    "        else:\n",
    "            left = mid + 1\n",
    "\n",
    "    return right\n"
   ]
  },
  {
   "cell_type": "code",
   "execution_count": 2,
   "id": "0873602e",
   "metadata": {},
   "outputs": [
    {
     "name": "stdout",
     "output_type": "stream",
     "text": [
      "2\n",
      "2\n"
     ]
    }
   ],
   "source": [
    "print(mySqrt(4))  # Output: 2\n",
    "print(mySqrt(8))  # Output: 2\n"
   ]
  },
  {
   "cell_type": "markdown",
   "id": "5024c937",
   "metadata": {},
   "source": [
    "The time complexity of the binary search algorithm used to find the square root is O(log(x)), where 'x' is the given non-negative integer. This is because the algorithm performs a binary search on the range from 0 to 'x', continuously dividing the search space in half until the square root is found or the range is exhausted.\n",
    "\n",
    "The space complexity of the algorithm is O(1) because it uses a constant amount of additional space to store the variables left, right, mid, and the input 'x'. Regardless of the input size, the amount of space required remains constant.\n",
    "\n",
    "Overall, the time complexity of O(log(x)) indicates that the algorithm is efficient, as it performs a logarithmic number of comparisons to find the square root."
   ]
  },
  {
   "cell_type": "markdown",
   "id": "2db719f6",
   "metadata": {},
   "source": [
    "# Question_2"
   ]
  },
  {
   "cell_type": "markdown",
   "id": "4ab55667",
   "metadata": {},
   "source": [
    "A peak element is an element that is strictly greater than its neighbors.\n",
    "\n",
    "Given a **0-indexed** integer array `nums`, find a peak element, and return its index. If the array contains multiple peaks, return the index to **any of the peaks**.\n",
    "\n",
    "You may imagine that `nums[-1] = nums[n] = -∞`. In other words, an element is always considered to be strictly greater than a neighbor that is outside the array.\n",
    "\n",
    "You must write an algorithm that runs in `O(log n)` time.\n",
    "\n",
    "**Example 1:**\n",
    "\n",
    "```\n",
    "Input: nums = [1,2,3,1]\n",
    "Output: 2\n",
    "Explanation: 3 is a peak element and your function should return the index number 2.\n",
    "```\n",
    "\n",
    "**Example 2:**\n",
    "Input: nums = [1,2,1,3,5,6,4]\n",
    "Output: 5\n",
    "Explanation: Your function can return either index number 1 where the peak element is 2, or index number 5 where the peak element is 6."
   ]
  },
  {
   "cell_type": "markdown",
   "id": "ddfb29c5",
   "metadata": {},
   "source": [
    "# Algo"
   ]
  },
  {
   "cell_type": "markdown",
   "id": "0b061760",
   "metadata": {},
   "source": [
    "- Initialize variables left as 0 and right as the index of the last element in nums.\n",
    "- While left is less than right, do the following:\n",
    "    - a. Set mid as the average of left and right: mid = (left + right) // 2.\n",
    "    - b. If nums[mid] < nums[mid + 1], update left to mid + 1 since the peak element must exist on the right side of mid.\n",
    "    - c. Otherwise, update right to mid since the peak element must exist on the left side of mid (including mid).\n",
    "- Return left as the index of the peak element."
   ]
  },
  {
   "cell_type": "code",
   "execution_count": 4,
   "id": "50ca7b2d",
   "metadata": {},
   "outputs": [],
   "source": [
    "def findPeakElement(nums):\n",
    "    left = 0\n",
    "    right = len(nums) - 1\n",
    "\n",
    "    while left < right:\n",
    "        mid = (left + right) // 2\n",
    "\n",
    "        if nums[mid] < nums[mid + 1]:\n",
    "            left = mid + 1\n",
    "        else:\n",
    "            right = mid\n",
    "\n",
    "    return left\n"
   ]
  },
  {
   "cell_type": "code",
   "execution_count": 5,
   "id": "5cb3a39d",
   "metadata": {},
   "outputs": [
    {
     "name": "stdout",
     "output_type": "stream",
     "text": [
      "2\n",
      "5\n"
     ]
    }
   ],
   "source": [
    "print(findPeakElement([1, 2, 3, 1]))  # Output: 2\n",
    "print(findPeakElement([1, 2, 1, 3, 5, 6, 4]))  # Output: 5\n"
   ]
  },
  {
   "cell_type": "markdown",
   "id": "5007cb67",
   "metadata": {},
   "source": [
    "The time complexity of the algorithm to find a peak element in an array using modified binary search is O(log n), where n is the size of the input array nums. This is because the algorithm reduces the search range by half in each iteration, resulting in a logarithmic number of comparisons.\n",
    "\n",
    "The space complexity of the algorithm is O(1) because it uses a constant amount of additional space to store the variables left, right, mid, and the input array nums. Regardless of the input size, the amount of space required remains constant.\n",
    "\n",
    "Overall, the algorithm achieves the desired time complexity of O(log n), making it efficient for finding a peak element in large arrays."
   ]
  },
  {
   "cell_type": "markdown",
   "id": "9726e073",
   "metadata": {},
   "source": [
    "# Question_3"
   ]
  },
  {
   "cell_type": "markdown",
   "id": "d653932c",
   "metadata": {},
   "source": [
    "Given an array `nums` containing `n` distinct numbers in the range `[0, n]`, return *the only number in the range that is missing from the array.*\n",
    "\n",
    "**Example 1:**\n",
    "\n",
    "```\n",
    "Input: nums = [3,0,1]\n",
    "Output: 2\n",
    "Explanation: n = 3 since there are 3 numbers, so all numbers are in the range [0,3]. 2 is the missing number in the range since it does not appear in nums.\n",
    "\n",
    "```\n",
    "\n",
    "**Example 2:**\n",
    "Input: nums = [0,1]\n",
    "Output: 2\n",
    "Explanation: n = 2 since there are 2 numbers, so all numbers are in the range [0,2]. 2 is the missing number in the range since it does not appear in nums.\n",
    "```\n",
    "\n",
    "**Example 3:**\n",
    "Input: nums = [9,6,4,2,3,5,7,0,1]\n",
    "Output: 8\n",
    "Explanation: n = 9 since there are 9 numbers, so all numbers are in the range [0,9]. 8 is the missing number in the range since it does not appear in nums."
   ]
  },
  {
   "cell_type": "markdown",
   "id": "11cecd09",
   "metadata": {},
   "source": [
    "# Algo"
   ]
  },
  {
   "cell_type": "markdown",
   "id": "eade5d17",
   "metadata": {},
   "source": [
    "- Initialize a variable expected_sum as (n * (n + 1)) / 2, where n is the length of the array nums.\n",
    "- Iterate through each element num in nums and subtract num from expected_sum.\n",
    "- Return the value of expected_sum as the missing number."
   ]
  },
  {
   "cell_type": "code",
   "execution_count": 6,
   "id": "ed4b256f",
   "metadata": {},
   "outputs": [],
   "source": [
    "def missingNumber(nums):\n",
    "    n = len(nums)\n",
    "    expected_sum = (n * (n + 1)) // 2\n",
    "\n",
    "    for num in nums:\n",
    "        expected_sum -= num\n",
    "\n",
    "    return expected_sum\n"
   ]
  },
  {
   "cell_type": "code",
   "execution_count": 7,
   "id": "34734c1b",
   "metadata": {},
   "outputs": [
    {
     "name": "stdout",
     "output_type": "stream",
     "text": [
      "2\n",
      "2\n",
      "8\n"
     ]
    }
   ],
   "source": [
    "print(missingNumber([3, 0, 1]))  # Output: 2\n",
    "print(missingNumber([0, 1]))  # Output: 2\n",
    "print(missingNumber([9, 6, 4, 2, 3, 5, 7, 0, 1]))  # Output: 8"
   ]
  },
  {
   "cell_type": "markdown",
   "id": "d09a7516",
   "metadata": {},
   "source": [
    "- The time complexity of this algorithm is O(n) because we iterate through all the elements in nums once. \n",
    "- The space complexity is O(1) as we only use a constant amount of additional space to store the variables expected_sum, n, and num."
   ]
  },
  {
   "cell_type": "markdown",
   "id": "d8e9308b",
   "metadata": {},
   "source": [
    "# Question_4"
   ]
  },
  {
   "cell_type": "markdown",
   "id": "16a02a0a",
   "metadata": {},
   "source": [
    "Given an array of integers `nums` containing `n + 1` integers where each integer is in the range `[1, n]` inclusive.\n",
    "\n",
    "There is only **one repeated number** in `nums`, return *this repeated number*.\n",
    "\n",
    "You must solve the problem **without** modifying the array `nums` and uses only constant extra space.\n",
    "\n",
    "**Example 1:**\n",
    "\n",
    "```\n",
    "Input: nums = [1,3,4,2,2]\n",
    "Output: 2\n",
    "\n",
    "```\n",
    "\n",
    "**Example 2:**\n",
    "Input: nums = [3,1,3,4,2]\n",
    "Output: 3"
   ]
  },
  {
   "cell_type": "markdown",
   "id": "95bb853e",
   "metadata": {},
   "source": [
    "# Algo"
   ]
  },
  {
   "cell_type": "markdown",
   "id": "4c43b89b",
   "metadata": {},
   "source": [
    "- Initialize two pointers, slow and fast, pointing to the first element of nums.\n",
    "- Move slow one step forward and fast two steps forward in each iteration until they meet.\n",
    "- Once they meet, reset the slow pointer to the first element of nums.\n",
    "- Move both slow and fast one step forward in each iteration until they meet again.\n",
    "- The meeting point is the repeated number in nums."
   ]
  },
  {
   "cell_type": "code",
   "execution_count": 8,
   "id": "f6fdc86c",
   "metadata": {},
   "outputs": [],
   "source": [
    "def findDuplicate(nums):\n",
    "    slow = nums[0]\n",
    "    fast = nums[0]\n",
    "\n",
    "    # Step 1: Find the meeting point of slow and fast pointers\n",
    "    while True:\n",
    "        slow = nums[slow]\n",
    "        fast = nums[nums[fast]]\n",
    "        if slow == fast:\n",
    "            break\n",
    "\n",
    "    # Step 2: Reset slow to the first element and move both slow and fast one step at a time\n",
    "    slow = nums[0]\n",
    "    while slow != fast:\n",
    "        slow = nums[slow]\n",
    "        fast = nums[fast]\n",
    "\n",
    "    return slow\n"
   ]
  },
  {
   "cell_type": "code",
   "execution_count": 9,
   "id": "c473c709",
   "metadata": {},
   "outputs": [
    {
     "name": "stdout",
     "output_type": "stream",
     "text": [
      "2\n",
      "3\n"
     ]
    }
   ],
   "source": [
    "print(findDuplicate([1, 3, 4, 2, 2]))  # Output: 2\n",
    "print(findDuplicate([3, 1, 3, 4, 2]))  # Output: 3\n"
   ]
  },
  {
   "cell_type": "markdown",
   "id": "63924f5a",
   "metadata": {},
   "source": [
    "- The time complexity of this algorithm is O(n) since both the pointers move at most n steps before meeting.\n",
    "- The space complexity is O(1) as we only use constant extra space to store the variables slow and fast."
   ]
  },
  {
   "cell_type": "markdown",
   "id": "6a307ed8",
   "metadata": {},
   "source": [
    "# Question_5"
   ]
  },
  {
   "cell_type": "markdown",
   "id": "1af5e8af",
   "metadata": {},
   "source": [
    "Given two integer arrays `nums1` and `nums2`, return *an array of their intersection*. Each element in the result must be **unique** and you may return the result in **any order**.\n",
    "\n",
    "**Example 1:**\n",
    "\n",
    "```\n",
    "Input: nums1 = [1,2,2,1], nums2 = [2,2]\n",
    "Output: [2]\n",
    "\n",
    "```\n",
    "\n",
    "**Example 2:**\n",
    "Input: nums1 = [4,9,5], nums2 = [9,4,9,8,4]\n",
    "Output: [9,4]\n",
    "Explanation: [4,9] is also accepted."
   ]
  },
  {
   "cell_type": "markdown",
   "id": "68f6f34e",
   "metadata": {},
   "source": [
    "# Algo"
   ]
  },
  {
   "cell_type": "markdown",
   "id": "44b5a52a",
   "metadata": {},
   "source": [
    "- Convert nums1 and nums2 into sets, set1 and set2, respectively.\n",
    "- Perform the intersection operation on set1 and set2 to obtain the common elements.\n",
    "- Convert the resulting set into a list and return the list as the intersection."
   ]
  },
  {
   "cell_type": "code",
   "execution_count": 10,
   "id": "9150b9ea",
   "metadata": {},
   "outputs": [],
   "source": [
    "def intersection(nums1, nums2):\n",
    "    set1 = set(nums1)\n",
    "    set2 = set(nums2)\n",
    "\n",
    "    return list(set1.intersection(set2))\n"
   ]
  },
  {
   "cell_type": "code",
   "execution_count": 11,
   "id": "f4390700",
   "metadata": {},
   "outputs": [
    {
     "name": "stdout",
     "output_type": "stream",
     "text": [
      "[2]\n",
      "[9, 4]\n"
     ]
    }
   ],
   "source": [
    "print(intersection([1, 2, 2, 1], [2, 2]))  # Output: [2]\n",
    "print(intersection([4, 9, 5], [9, 4, 9, 8, 4]))  # Output: [9, 4]\n"
   ]
  },
  {
   "cell_type": "markdown",
   "id": "73f96eb2",
   "metadata": {},
   "source": [
    "- The time complexity of this algorithm is O(m + n), where m and n are the lengths of nums1 and nums2, respectively. The conversion of arrays to sets takes O(m + n) time, and the intersection operation takes O(min(m, n)) time. \n",
    "- The space complexity is O(m + n) as we store the elements of nums1 and nums2 in sets."
   ]
  },
  {
   "cell_type": "markdown",
   "id": "4f43782d",
   "metadata": {},
   "source": [
    "# Question_6"
   ]
  },
  {
   "cell_type": "markdown",
   "id": "b29a3cfb",
   "metadata": {},
   "source": [
    "Suppose an array of length `n` sorted in ascending order is **rotated** between `1` and `n` times. For example, the array `nums = [0,1,2,4,5,6,7]` might become:\n",
    "\n",
    "- `[4,5,6,7,0,1,2]` if it was rotated `4` times.\n",
    "- `[0,1,2,4,5,6,7]` if it was rotated `7` times.\n",
    "\n",
    "Notice that **rotating** an array `[a[0], a[1], a[2], ..., a[n-1]]` 1 time results in the array `[a[n-1], a[0], a[1], a[2], ..., a[n-2]]`.\n",
    "\n",
    "Given the sorted rotated array `nums` of **unique** elements, return *the minimum element of this array*.\n",
    "\n",
    "You must write an algorithm that runs in `O(log n) time.`\n",
    "\n",
    "**Example 1:**\n",
    "\n",
    "```\n",
    "Input: nums = [3,4,5,1,2]\n",
    "Output: 1\n",
    "Explanation: The original array was [1,2,3,4,5] rotated 3 times.\n",
    "\n",
    "```\n",
    "\n",
    "**Example 2:**\n",
    "Input: nums = [4,5,6,7,0,1,2]\n",
    "Output: 0\n",
    "Explanation: The original array was [0,1,2,4,5,6,7] and it was rotated 4 times.\n",
    "```\n",
    "\n",
    "**Example 3:**\n",
    "Input: nums = [11,13,15,17]\n",
    "Output: 11\n",
    "Explanation: The original array was [11,13,15,17] and it was rotated 4 times. "
   ]
  },
  {
   "cell_type": "markdown",
   "id": "b730210f",
   "metadata": {},
   "source": [
    "# Algo"
   ]
  },
  {
   "cell_type": "markdown",
   "id": "1c3c2d22",
   "metadata": {},
   "source": [
    "- Initialize two pointers, left and right, pointing to the start and end indices of the array nums, respectively.\n",
    "- Perform binary search until left is less than right.\n",
    "- Calculate the middle index as mid = left + (right - left) // 2.\n",
    "- Check if nums[mid] is greater than nums[right].\n",
    "- If true, the minimum element is in the range [mid+1, right]. Set left = mid + 1.\n",
    "- If false, the minimum element is in the range [left, mid]. Set right = mid.\n",
    "- After the binary search ends, the value at nums[left] is the minimum element."
   ]
  },
  {
   "cell_type": "code",
   "execution_count": 12,
   "id": "931dd993",
   "metadata": {},
   "outputs": [],
   "source": [
    "def findMin(nums):\n",
    "    left = 0\n",
    "    right = len(nums) - 1\n",
    "\n",
    "    while left < right:\n",
    "        mid = left + (right - left) // 2\n",
    "\n",
    "        if nums[mid] > nums[right]:\n",
    "            left = mid + 1\n",
    "        else:\n",
    "            right = mid\n",
    "\n",
    "    return nums[left]\n"
   ]
  },
  {
   "cell_type": "code",
   "execution_count": 13,
   "id": "8212e153",
   "metadata": {},
   "outputs": [
    {
     "name": "stdout",
     "output_type": "stream",
     "text": [
      "1\n",
      "0\n",
      "11\n"
     ]
    }
   ],
   "source": [
    "print(findMin([3, 4, 5, 1, 2]))  # Output: 1\n",
    "print(findMin([4, 5, 6, 7, 0, 1, 2]))  # Output: 0\n",
    "print(findMin([11, 13, 15, 17]))  # Output: 11\n"
   ]
  },
  {
   "cell_type": "markdown",
   "id": "6dae9d78",
   "metadata": {},
   "source": [
    "- The time complexity of this algorithm is O(log n) as it uses binary search to narrow down the search range by half in each iteration. \n",
    "- The space complexity is O(1) as it only uses a constant amount of additional space to store the variables left, right, and mid."
   ]
  },
  {
   "cell_type": "markdown",
   "id": "1378eddb",
   "metadata": {},
   "source": [
    "# Question_7"
   ]
  },
  {
   "cell_type": "markdown",
   "id": "307750ff",
   "metadata": {},
   "source": [
    "Given an array of integers `nums` sorted in non-decreasing order, find the starting and ending position of a given `target` value.\n",
    "\n",
    "If `target` is not found in the array, return `[-1, -1]`.\n",
    "\n",
    "You must write an algorithm with `O(log n)` runtime complexity.\n",
    "\n",
    "**Example 1:**\n",
    "\n",
    "```\n",
    "Input: nums = [5,7,7,8,8,10], target = 8\n",
    "Output: [3,4]\n",
    "\n",
    "```\n",
    "\n",
    "**Example 2:**\n",
    "Input: nums = [5,7,7,8,8,10], target = 6\n",
    "Output: [-1,-1]\n",
    "```\n",
    "\n",
    "**Example 3:**\n",
    "Input: nums = [], target = 0\n",
    "Output: [-1,-1]"
   ]
  },
  {
   "cell_type": "markdown",
   "id": "ab3f5646",
   "metadata": {},
   "source": [
    "# Algo"
   ]
  },
  {
   "cell_type": "markdown",
   "id": "ddf4d005",
   "metadata": {},
   "source": [
    "- If nums is empty, return [-1, -1] as there are no elements in the array.\n",
    "- Initialize two variables, start and end, to store the starting and ending positions of the target value. Set them to -1 initially.\n",
    "- Perform binary search to find the leftmost position of the target value:\n",
    "    - Initialize two pointers, left and right, pointing to the start and end indices of the array nums, respectively.\n",
    "    - While left is less than or equal to right, do the following:\n",
    "        - Calculate the middle index as mid = left + (right - left) // 2.\n",
    "        - If nums[mid] is equal to the target, update start to mid and set right = mid - 1 to search for the leftmost position.\n",
    "        - If nums[mid] is less than the target, set left = mid + 1.\n",
    "        - If nums[mid] is greater than the target, set right = mid - 1.\n",
    "- Perform binary search to find the rightmost position of the target value:\n",
    "    - Initialize left to start and right to the end index of nums.\n",
    "    - While left is less than or equal to right, do the following:\n",
    "        - Calculate the middle index as mid = left + (right - left) // 2.\n",
    "        - If nums[mid] is equal to the target, update end to mid and set left = mid + 1 to search for the rightmost position.\n",
    "        - If nums[mid] is less than the target, set left = mid + 1.\n",
    "        - If nums[mid] is greater than the target, set right = mid - 1.\n",
    "- Return [start, end] as the starting and ending positions of the target value.\n"
   ]
  },
  {
   "cell_type": "code",
   "execution_count": 23,
   "id": "74e1c673",
   "metadata": {},
   "outputs": [],
   "source": [
    "def searchRange(nums, target):\n",
    "    if not nums:\n",
    "        return [-1, -1]\n",
    "\n",
    "    start = -1\n",
    "    end = -1\n",
    "\n",
    "    # Binary search for the leftmost position\n",
    "    left = 0\n",
    "    right = len(nums) - 1\n",
    "    while left <= right:\n",
    "        mid = left + (right - left) // 2\n",
    "        if nums[mid] == target:\n",
    "            start = mid\n",
    "            right = mid - 1\n",
    "        elif nums[mid] < target:\n",
    "            left = mid + 1\n",
    "        else:\n",
    "            right = mid - 1\n",
    "\n",
    "    # Binary search for the rightmost position\n",
    "    left = start\n",
    "    right = len(nums) - 1\n",
    "    while left <= right:\n",
    "        mid = left + (right - left) // 2\n",
    "        if nums[mid] == target:\n",
    "            end = mid\n",
    "            left = mid + 1\n",
    "        elif nums[mid] < target:\n",
    "            left = mid + 1\n",
    "        else:\n",
    "            right = mid - 1\n",
    "\n",
    "    return [start, end]\n"
   ]
  },
  {
   "cell_type": "code",
   "execution_count": 24,
   "id": "8eb940c8",
   "metadata": {},
   "outputs": [
    {
     "name": "stdout",
     "output_type": "stream",
     "text": [
      "[3, 4]\n",
      "[-1, -1]\n",
      "[-1, -1]\n"
     ]
    }
   ],
   "source": [
    "print(searchRange([5, 7, 7, 8, 8, 10], 8))  # Output: [3, 4]\n",
    "print(searchRange([5, 7, 7, 8, 8, 10], 6))  # Output: [-1, -1]\n",
    "print(searchRange([], 0))  # Output: [-1, -1]\n"
   ]
  },
  {
   "cell_type": "markdown",
   "id": "526a6120",
   "metadata": {},
   "source": [
    "- The time complexity of this algorithm is O(log n) as it uses binary search to find the starting and ending positions of the target value.\n",
    "- The space complexity is O(1) as it only uses a constant amount of additional space to store the variables start, end, left, right, and mid."
   ]
  },
  {
   "cell_type": "markdown",
   "id": "ac69f636",
   "metadata": {},
   "source": [
    "# Question_8"
   ]
  },
  {
   "cell_type": "markdown",
   "id": "3af29574",
   "metadata": {},
   "source": [
    "Given two integer arrays `nums1` and `nums2`, return *an array of their intersection*. Each element in the result must appear as many times as it shows in both arrays and you may return the result in **any order**.\n",
    "\n",
    "**Example 1:**\n",
    "\n",
    "```\n",
    "Input: nums1 = [1,2,2,1], nums2 = [2,2]\n",
    "Output: [2,2]\n",
    "\n",
    "```\n",
    "\n",
    "**Example 2:**\n",
    "Input: nums1 = [4,9,5], nums2 = [9,4,9,8,4]\n",
    "Output: [4,9]\n",
    "Explanation: [9,4] is also accepted."
   ]
  },
  {
   "cell_type": "markdown",
   "id": "3453e922",
   "metadata": {},
   "source": [
    "# Algo"
   ]
  },
  {
   "cell_type": "markdown",
   "id": "f3ebbab9",
   "metadata": {},
   "source": [
    "- Initialize an empty hash map to store the frequency of elements.\n",
    "- Iterate over the elements of nums1 and update the frequency in the hash map.\n",
    "- Initialize an empty list intersection to store the common elements.\n",
    "- Iterate over the elements of nums2:\n",
    "- If the element is present in the hash map and its frequency is greater than 0, add it to the intersection list and decrement its frequency in the hash map.\n",
    "- Return the intersection list."
   ]
  },
  {
   "cell_type": "code",
   "execution_count": 25,
   "id": "ec02bbb8",
   "metadata": {},
   "outputs": [],
   "source": [
    "from collections import defaultdict\n",
    "\n",
    "def intersect(nums1, nums2):\n",
    "    freq_map = defaultdict(int)\n",
    "    for num in nums1:\n",
    "        freq_map[num] += 1\n",
    "\n",
    "    intersection = []\n",
    "    for num in nums2:\n",
    "        if freq_map[num] > 0:\n",
    "            intersection.append(num)\n",
    "            freq_map[num] -= 1\n",
    "\n",
    "    return intersection\n"
   ]
  },
  {
   "cell_type": "code",
   "execution_count": 26,
   "id": "3d7e5c17",
   "metadata": {},
   "outputs": [
    {
     "name": "stdout",
     "output_type": "stream",
     "text": [
      "[2, 2]\n",
      "[9, 4]\n"
     ]
    }
   ],
   "source": [
    "# Example usage:\n",
    "nums1 = [1, 2, 2, 1]\n",
    "nums2 = [2, 2]\n",
    "result1 = intersect(nums1, nums2)\n",
    "print(result1)  # Output: [2, 2]\n",
    "\n",
    "nums3 = [4, 9, 5]\n",
    "nums4 = [9, 4, 9, 8, 4]\n",
    "result2 = intersect(nums3, nums4)\n",
    "print(result2)  # Output: [4, 9]\n"
   ]
  },
  {
   "cell_type": "markdown",
   "id": "fee51210",
   "metadata": {},
   "source": [
    "- The time complexity of this algorithm is O(m + n), where m and n are the lengths of nums1 and nums2 respectively, as we iterate over both arrays once.\n",
    "- The space complexity is O(min(m, n)) as we store the frequency of elements in the hash map."
   ]
  },
  {
   "cell_type": "code",
   "execution_count": null,
   "id": "15dcbbc1",
   "metadata": {},
   "outputs": [],
   "source": []
  }
 ],
 "metadata": {
  "kernelspec": {
   "display_name": "Python 3 (ipykernel)",
   "language": "python",
   "name": "python3"
  },
  "language_info": {
   "codemirror_mode": {
    "name": "ipython",
    "version": 3
   },
   "file_extension": ".py",
   "mimetype": "text/x-python",
   "name": "python",
   "nbconvert_exporter": "python",
   "pygments_lexer": "ipython3",
   "version": "3.11.3"
  }
 },
 "nbformat": 4,
 "nbformat_minor": 5
}
