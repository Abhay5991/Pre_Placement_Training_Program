{
 "cells": [
  {
   "cell_type": "markdown",
   "id": "0d12d81c",
   "metadata": {},
   "source": [
    "# Question_2"
   ]
  },
  {
   "cell_type": "markdown",
   "id": "8378f044",
   "metadata": {},
   "source": [
    "Write a function that takes a list sorted in non-decreasing order and deletes any duplicate nodes from the list. The list should only be traversed once.\n",
    "\n",
    "For example if the linked list is 11->11->11->21->43->43->60 then removeDuplicates() should convert the list to 11->21->43->60.\n",
    "\n",
    "**Example 1:**\n",
    "\n",
    "```\n",
    "Input:\n",
    "LinkedList: \n",
    "11->11->11->21->43->43->60\n",
    "Output:\n",
    "11->21->43->60\n",
    "```\n",
    "\n",
    "**Example 2:**\n",
    "Input:\n",
    "LinkedList: \n",
    "10->12->12->25->25->25->34\n",
    "Output:\n",
    "10->12->25->34"
   ]
  },
  {
   "cell_type": "markdown",
   "id": "dab713c3",
   "metadata": {},
   "source": [
    "# Algo"
   ]
  },
  {
   "cell_type": "markdown",
   "id": "c4cb9f19",
   "metadata": {},
   "source": [
    "- If the linked list is empty or has only one node, return the head as it is.\n",
    "- Initialize a pointer current to the head of the linked list.\n",
    "- While current and current.next are not None, do:\n",
    "    - If the data of current is equal to the data of current.next, skip the next node by updating the next pointer of current to current.next.next.\n",
    "    - Otherwise, move current to the next node.\n",
    "- Return the head of the modified linked list."
   ]
  },
  {
   "cell_type": "code",
   "execution_count": 26,
   "id": "54db449c",
   "metadata": {},
   "outputs": [
    {
     "name": "stdout",
     "output_type": "stream",
     "text": [
      "11 21 43 60 "
     ]
    }
   ],
   "source": [
    "# Define the Node class\n",
    "class Node:\n",
    "    def __init__(self, data=None):\n",
    "        self.data = data\n",
    "        self.next = None\n",
    "\n",
    "# Function to remove duplicate nodes from a sorted linked list\n",
    "def remove_duplicates(head):\n",
    "    if head is None:\n",
    "        return head\n",
    "\n",
    "    current = head\n",
    "    while current.next is not None:\n",
    "        if current.data == current.next.data:\n",
    "            current.next = current.next.next\n",
    "        else:\n",
    "            current = current.next\n",
    "\n",
    "    return head\n",
    "\n",
    "# Function to print the elements of a linked list\n",
    "def print_linked_list(head):\n",
    "    current = head\n",
    "    while current is not None:\n",
    "        print(current.data, end=\" \")\n",
    "        current = current.next\n",
    "\n",
    "# Create the linked list\n",
    "head = Node(11)\n",
    "head.next = Node(11)\n",
    "head.next.next = Node(11)\n",
    "head.next.next.next = Node(21)\n",
    "head.next.next.next.next = Node(43)\n",
    "head.next.next.next.next.next = Node(43)\n",
    "head.next.next.next.next.next.next = Node(60)\n",
    "\n",
    "# Call the function to remove duplicates\n",
    "head = remove_duplicates(head)\n",
    "\n",
    "# Print the elements of the updated linked list\n",
    "print_linked_list(head)\n"
   ]
  },
  {
   "cell_type": "code",
   "execution_count": 27,
   "id": "ce9652ce",
   "metadata": {},
   "outputs": [
    {
     "name": "stdout",
     "output_type": "stream",
     "text": [
      "10 12 25 34 "
     ]
    }
   ],
   "source": [
    "# Create the linked list\n",
    "head = Node(10)\n",
    "head.next = Node(12)\n",
    "head.next.next = Node(12)\n",
    "head.next.next.next = Node(25)\n",
    "head.next.next.next.next = Node(25)\n",
    "head.next.next.next.next.next = Node(25)\n",
    "head.next.next.next.next.next.next = Node(34)\n",
    "\n",
    "# Call the function to remove duplicates\n",
    "head = remove_duplicates(head)\n",
    "\n",
    "# Print the elements of the updated linked list\n",
    "print_linked_list(head)"
   ]
  },
  {
   "cell_type": "markdown",
   "id": "69ce9653",
   "metadata": {},
   "source": [
    "The time complexity of the algorithm to remove duplicate nodes from a sorted linked list while traversing it only once is O(n), where n is the number of nodes in the linked list. This is because we visit each node once and perform constant-time operations to remove duplicates.\n",
    "\n",
    "The space complexity of the algorithm is O(1) since it uses a constant amount of extra space regardless of the size of the linked list. We are modifying the existing linked list by updating the next pointers, and no additional data structures are used.\n",
    "\n",
    "Overall, the algorithm is efficient in terms of both time and space complexity."
   ]
  },
  {
   "cell_type": "markdown",
   "id": "dc6bd72c",
   "metadata": {},
   "source": [
    "# Question_3"
   ]
  },
  {
   "cell_type": "markdown",
   "id": "dc30ad49",
   "metadata": {},
   "source": [
    "Given a linked list of size **N**. The task is to reverse every **k** nodes (where k is an input to the function) in the linked list. If the number of nodes is not a multiple of *k* then left-out nodes, in the end, should be considered as a group and must be reversed (See Example 2 for clarification).\n",
    "\n",
    "**Example 1:**\n",
    "\n",
    "```\n",
    "Input:\n",
    "LinkedList: 1->2->2->4->5->6->7->8\n",
    "K = 4\n",
    "Output:4 2 2 1 8 7 6 5\n",
    "Explanation:\n",
    "The first 4 elements 1,2,2,4 are reversed first\n",
    "and then the next 4 elements 5,6,7,8. Hence, the\n",
    "resultant linked list is 4->2->2->1->8->7->6->5.\n",
    "\n",
    "```\n",
    "\n",
    "**Example 2:**\n",
    "Input:\n",
    "LinkedList: 1->2->3->4->5\n",
    "K = 3\n",
    "Output:3 2 1 5 4\n",
    "Explanation:\n",
    "The first 3 elements are 1,2,3 are reversed\n",
    "first and then elements 4,5 are reversed.Hence,\n",
    "the resultant linked list is 3->2->1->5->4."
   ]
  },
  {
   "cell_type": "markdown",
   "id": "9e0be021",
   "metadata": {},
   "source": [
    "# Algo"
   ]
  },
  {
   "cell_type": "code",
   "execution_count": 29,
   "id": "f5d8838c",
   "metadata": {},
   "outputs": [
    {
     "name": "stdout",
     "output_type": "stream",
     "text": [
      "4 2 2 1 8 7 6 5 \n"
     ]
    }
   ],
   "source": [
    "# Node class definition\n",
    "class Node:\n",
    "    def __init__(self, data=None):\n",
    "        self.data = data\n",
    "        self.next = None\n",
    "\n",
    "# Function to reverse every k nodes in a linked list\n",
    "def reverseKNodes(head, k):\n",
    "    # Base case: If the linked list is empty or k is 0 or 1, return head\n",
    "    if head is None or k <= 1:\n",
    "        return head\n",
    "\n",
    "    # Initialize pointers\n",
    "    current = head\n",
    "    prev = None\n",
    "    next = None\n",
    "    count = 0\n",
    "\n",
    "    # Reverse the first k nodes\n",
    "    while current is not None and count < k:\n",
    "        next = current.next\n",
    "        current.next = prev\n",
    "        prev = current\n",
    "        current = next\n",
    "        count += 1\n",
    "\n",
    "    # Recursively reverse the remaining nodes if any\n",
    "    if next is not None:\n",
    "        head.next = reverseKNodes(next, k)\n",
    "\n",
    "    # Return the new head of the reversed group\n",
    "    return prev\n",
    "\n",
    "# Function to print the linked list\n",
    "def printLinkedList(head):\n",
    "    current = head\n",
    "    while current is not None:\n",
    "        print(current.data, end=\" \")\n",
    "        current = current.next\n",
    "    print()\n",
    "\n",
    "# Create the linked list\n",
    "head = Node(1)\n",
    "head.next = Node(2)\n",
    "head.next.next = Node(2)\n",
    "head.next.next.next = Node(4)\n",
    "head.next.next.next.next = Node(5)\n",
    "head.next.next.next.next.next = Node(6)\n",
    "head.next.next.next.next.next.next = Node(7)\n",
    "head.next.next.next.next.next.next.next = Node(8)\n",
    "\n",
    "# Reverse every k nodes in the linked list with k = 4\n",
    "k = 4\n",
    "head = reverseKNodes(head, k)\n",
    "\n",
    "# Print the resulting linked list\n",
    "printLinkedList(head)\n"
   ]
  },
  {
   "cell_type": "code",
   "execution_count": 30,
   "id": "b4afb9f7",
   "metadata": {},
   "outputs": [
    {
     "name": "stdout",
     "output_type": "stream",
     "text": [
      "3 2 1 5 4 \n"
     ]
    }
   ],
   "source": [
    "# Create the linked list\n",
    "head = Node(1)\n",
    "head.next = Node(2)\n",
    "head.next.next = Node(3)\n",
    "head.next.next.next = Node(4)\n",
    "head.next.next.next.next = Node(5)\n",
    "\n",
    "# Reverse every k nodes in the linked list with k = 3\n",
    "k = 3\n",
    "head = reverseKNodes(head, k)\n",
    "\n",
    "# Print the resulting linked list\n",
    "printLinkedList(head)\n"
   ]
  },
  {
   "cell_type": "markdown",
   "id": "532afce0",
   "metadata": {},
   "source": [
    "- Time Complexity:\n",
    "The algorithm traverses the linked list once, visiting each node exactly once. Within each iteration, the reversing operation takes constant time. Therefore, the overall time complexity is O(N), where N is the number of nodes in the linked list.\n",
    "\n",
    "- Space Complexity:\n",
    "The space complexity is O(1) because the algorithm uses a constant amount of additional space, regardless of the size of the input linked list. It uses a few variables to keep track of the current, previous, and next nodes, but the space required for these variables does not depend on the size of the linked list."
   ]
  },
  {
   "cell_type": "markdown",
   "id": "43348bf5",
   "metadata": {},
   "source": [
    "# Question_4"
   ]
  },
  {
   "cell_type": "markdown",
   "id": "2938a48c",
   "metadata": {},
   "source": [
    "Given a linked list, write a function to reverse every alternate k nodes (where k is an input to the function) in an efficient way. Give the complexity of your algorithm.\n",
    "\n",
    "**Example:**\n",
    "Inputs:   1->2->3->4->5->6->7->8->9->NULL and k = 3\n",
    "Output:   3->2->1->4->5->6->9->8->7->NULL."
   ]
  },
  {
   "cell_type": "markdown",
   "id": "ee6de7df",
   "metadata": {},
   "source": [
    "# Algo"
   ]
  },
  {
   "cell_type": "markdown",
   "id": "d7c20f29",
   "metadata": {},
   "source": [
    "- Define a function reverseAlternateKNodes(head, k, reverse) that takes the head of the linked list, the value of k, and a boolean flag reverse indicating whether the current group of k nodes should be reversed or not.\n",
    "- Initialize variables current and previous as None.\n",
    "- Traverse the linked list until either we reach the end or the number of nodes visited equals k.\n",
    "- If reverse is True, reverse the current group of k nodes by changing the next pointers accordingly.\n",
    "- If reverse is False, keep the current group of k nodes as it is.\n",
    "- Recursively call reverseAlternateKNodes with the remaining portion of the linked list, updating the value of reverse accordingly.\n",
    "- After the recursive call, set the next pointer of the previous group to the head of the modified portion returned from the recursive call.\n",
    "- Return the modified head of the linked list."
   ]
  },
  {
   "cell_type": "code",
   "execution_count": 31,
   "id": "25db64a3",
   "metadata": {},
   "outputs": [
    {
     "name": "stdout",
     "output_type": "stream",
     "text": [
      "3 2 1 4 5 6 9 8 7 "
     ]
    }
   ],
   "source": [
    "# Node class\n",
    "class Node:\n",
    "    def __init__(self, data=None):\n",
    "        self.data = data\n",
    "        self.next = None\n",
    "\n",
    "# Function to reverse every alternate k nodes in a linked list\n",
    "def reverseAlternateKNodes(head, k, reverse):\n",
    "    if not head:\n",
    "        return None\n",
    "    \n",
    "    current = head\n",
    "    previous = None\n",
    "    count = 0\n",
    "    \n",
    "    # Reverse or keep the current group of k nodes\n",
    "    while current and count < k:\n",
    "        if reverse:\n",
    "            next_node = current.next\n",
    "            current.next = previous\n",
    "            previous = current\n",
    "            current = next_node\n",
    "        else:\n",
    "            previous = current\n",
    "            current = current.next\n",
    "        \n",
    "        count += 1\n",
    "    \n",
    "    # Recursive call for the remaining portion of the linked list\n",
    "    if reverse:\n",
    "        head.next = reverseAlternateKNodes(current, k, not reverse)\n",
    "        return previous\n",
    "    else:\n",
    "        previous.next = reverseAlternateKNodes(current, k, not reverse)\n",
    "        return head\n",
    "\n",
    "# Create the linked list\n",
    "head = Node(1)\n",
    "head.next = Node(2)\n",
    "head.next.next = Node(3)\n",
    "head.next.next.next = Node(4)\n",
    "head.next.next.next.next = Node(5)\n",
    "head.next.next.next.next.next = Node(6)\n",
    "head.next.next.next.next.next.next = Node(7)\n",
    "head.next.next.next.next.next.next.next = Node(8)\n",
    "head.next.next.next.next.next.next.next.next = Node(9)\n",
    "\n",
    "# Reverse every alternate k nodes\n",
    "k = 3\n",
    "reversed_head = reverseAlternateKNodes(head, k, True)\n",
    "\n",
    "# Print the modified linked list\n",
    "current = reversed_head\n",
    "while current:\n",
    "    print(current.data, end=\" \")\n",
    "    current = current.next\n"
   ]
  },
  {
   "cell_type": "markdown",
   "id": "78b67013",
   "metadata": {},
   "source": [
    "- Time Complexity: The algorithm traverses each node once, so the time complexity is O(N), where N is the number of nodes in the linked list.\n",
    "- Space Complexity: The algorithm uses a constant amount of additional space, so the space complexity is O(1)."
   ]
  },
  {
   "cell_type": "markdown",
   "id": "0363fbc6",
   "metadata": {},
   "source": [
    "# Question_5"
   ]
  },
  {
   "cell_type": "markdown",
   "id": "fc30881a",
   "metadata": {},
   "source": [
    "Given a linked list and a key to be deleted. Delete last occurrence of key from linked. The list may have duplicates.\n",
    "\n",
    "**Examples**:\n",
    "Input:   1->2->3->5->2->10, key = 2\n",
    "Output:  1->2->3->5->10"
   ]
  },
  {
   "cell_type": "markdown",
   "id": "d72dc0bb",
   "metadata": {},
   "source": [
    "# Algo"
   ]
  },
  {
   "cell_type": "markdown",
   "id": "2252bcf3",
   "metadata": {},
   "source": [
    "- Initialize three pointers: prev (points to the previous node), last (points to the last occurrence of the key), and current (points to the current node).\n",
    "- Traverse the linked list from the beginning.\n",
    "- If the current node's data matches the key, update the prev and last pointers.\n",
    "- Once the traversal is complete, if the last pointer is None, it means the key was not found, so return the original head.\n",
    "- If the last pointer is the second node, update the head to the next node.\n",
    "- Otherwise, update the next pointer of the previous node (prev) to skip the last occurrence of the key.\n",
    "- Return the modified head."
   ]
  },
  {
   "cell_type": "code",
   "execution_count": 34,
   "id": "badd7f47",
   "metadata": {},
   "outputs": [
    {
     "name": "stdout",
     "output_type": "stream",
     "text": [
      "1 2 3 5 10 "
     ]
    }
   ],
   "source": [
    "# Node class\n",
    "class Node:\n",
    "    def __init__(self, data=None):\n",
    "        self.data = data\n",
    "        self.next = None\n",
    "\n",
    "# Function to delete the last occurrence of a key from a linked list\n",
    "def deleteLastOccurrence(head, key):\n",
    "    # Handle an empty list\n",
    "    if not head:\n",
    "        return None\n",
    "    \n",
    "    # Initialize pointers\n",
    "    prev = None\n",
    "    last = None\n",
    "    current = head\n",
    "    next_node = head.next\n",
    "    \n",
    "    # Traverse the linked list\n",
    "    while next_node:\n",
    "        if next_node.data == key:\n",
    "            prev = current\n",
    "            last = next_node\n",
    "        \n",
    "        current = next_node\n",
    "        next_node = next_node.next\n",
    "    \n",
    "    # Handle the case where the key was not found\n",
    "    if not last:\n",
    "        return head\n",
    "    \n",
    "    # Handle deleting the last occurrence of the key\n",
    "    if last == head.next:\n",
    "        head = head.next\n",
    "    else:\n",
    "        prev.next = last.next\n",
    "    \n",
    "    return head\n",
    "\n",
    "# Create the linked list\n",
    "head = Node(1)\n",
    "head.next = Node(2)\n",
    "head.next.next = Node(3)\n",
    "head.next.next.next = Node(5)\n",
    "head.next.next.next.next = Node(2)\n",
    "head.next.next.next.next.next = Node(10)\n",
    "\n",
    "# Delete the last occurrence of the key\n",
    "key = 2\n",
    "modified_head = deleteLastOccurrence(head, key)\n",
    "\n",
    "# Print the modified linked list\n",
    "current = modified_head\n",
    "while current:\n",
    "    print(current.data, end=\" \")\n",
    "    current = current.next\n"
   ]
  },
  {
   "cell_type": "markdown",
   "id": "f94f5d2b",
   "metadata": {},
   "source": [
    "- Time Complexity: The time complexity of this algorithm is O(N), where N is the number of nodes in the linked list. We need to traverse the entire linked list once to find the last occurrence of the key.\n",
    "\n",
    "- Space Complexity: The space complexity is O(1) since we are using a constant amount of additional space to store pointers and temporary variables."
   ]
  },
  {
   "cell_type": "markdown",
   "id": "cd720762",
   "metadata": {},
   "source": [
    "# Question_6"
   ]
  },
  {
   "cell_type": "markdown",
   "id": "f785dcc9",
   "metadata": {},
   "source": [
    "Given two sorted linked lists consisting of **N** and **M** nodes respectively. The task is to merge both of the lists (in place) and return the head of the merged list.\n",
    "\n",
    "**Examples:**\n",
    "\n",
    "Input: a: 5->10->15, b: 2->3->20\n",
    "\n",
    "Output: 2->3->5->10->15->20\n",
    "\n",
    "Input: a: 1->1, b: 2->4\n",
    "\n",
    "Output: 1->1->2->4"
   ]
  },
  {
   "cell_type": "markdown",
   "id": "9e2180d3",
   "metadata": {},
   "source": [
    "# Algo"
   ]
  },
  {
   "cell_type": "markdown",
   "id": "64c0cd8d",
   "metadata": {},
   "source": [
    "- Create a dummy node as the head of the merged list.\n",
    "- Initialize two pointers, current and previous, both pointing to the dummy node.\n",
    "- Traverse both input lists simultaneously using two pointers, ptr1 for the first list and ptr2 for the second list.\n",
    "- Compare the values of ptr1 and ptr2, and set the next pointer of the current node to the smaller value.\n",
    "- Move the current pointer to its next node.\n",
    "- Move the pointer (ptr1 or ptr2) from which the smaller value was taken to its next node.\n",
    "- Repeat steps 4-6 until reaching the end of either of the input lists.\n",
    "- Attach the remaining nodes of the non-empty list to the end of the merged list.\n",
    "- Return the head of the merged list (excluding the dummy node)."
   ]
  },
  {
   "cell_type": "code",
   "execution_count": 35,
   "id": "3bd1e856",
   "metadata": {},
   "outputs": [
    {
     "name": "stdout",
     "output_type": "stream",
     "text": [
      "2 3 5 10 15 20 "
     ]
    }
   ],
   "source": [
    "# Define the Node class\n",
    "class Node:\n",
    "    def __init__(self, data=None):\n",
    "        self.data = data\n",
    "        self.next = None\n",
    "\n",
    "# Function to merge two sorted linked lists\n",
    "def merge_sorted_lists(a, b):\n",
    "    # Base cases\n",
    "    if a is None:\n",
    "        return b\n",
    "    if b is None:\n",
    "        return a\n",
    "    \n",
    "    # Initialize a dummy node as the head of the merged list\n",
    "    dummy = Node()\n",
    "    \n",
    "    # Pointer to track the current node in the merged list\n",
    "    current = dummy\n",
    "    \n",
    "    # Traverse both lists and compare nodes to merge them\n",
    "    while a is not None and b is not None:\n",
    "        if a.data <= b.data:\n",
    "            current.next = a\n",
    "            a = a.next\n",
    "        else:\n",
    "            current.next = b\n",
    "            b = b.next\n",
    "        current = current.next\n",
    "    \n",
    "    # Append the remaining nodes of list a, if any\n",
    "    if a is not None:\n",
    "        current.next = a\n",
    "    \n",
    "    # Append the remaining nodes of list b, if any\n",
    "    if b is not None:\n",
    "        current.next = b\n",
    "    \n",
    "    # Return the head of the merged list (excluding the dummy node)\n",
    "    return dummy.next\n",
    "\n",
    "# Create the first linked list\n",
    "a = Node(5)\n",
    "a.next = Node(10)\n",
    "a.next.next = Node(15)\n",
    "\n",
    "# Create the second linked list\n",
    "b = Node(2)\n",
    "b.next = Node(3)\n",
    "b.next.next = Node(20)\n",
    "\n",
    "# Call the function to merge the two lists\n",
    "merged = merge_sorted_lists(a, b)\n",
    "\n",
    "# Print the elements of the merged list\n",
    "current = merged\n",
    "while current is not None:\n",
    "    print(current.data, end=\" \")\n",
    "    current = current.next\n"
   ]
  },
  {
   "cell_type": "markdown",
   "id": "f8237a67",
   "metadata": {},
   "source": [
    "- Time Complexity: The time complexity of this algorithm is O(N + M), where N and M are the lengths of the two input linked lists. We traverse both lists once to merge them.\n",
    "\n",
    "- Space Complexity: The space complexity is O(1) because we only use a constant amount of additional space to store pointers and temporary variables."
   ]
  },
  {
   "cell_type": "markdown",
   "id": "37eef789",
   "metadata": {},
   "source": [
    "# Question_7"
   ]
  },
  {
   "cell_type": "markdown",
   "id": "6b5713c7",
   "metadata": {},
   "source": [
    "Given a **Doubly Linked List**, the task is to reverse the given Doubly Linked List.\n",
    "\n",
    "**Example:**\n",
    "Original Linked list 10 8 4 2\n",
    "Reversed Linked list 2 4 8 10"
   ]
  },
  {
   "cell_type": "markdown",
   "id": "4123260f",
   "metadata": {},
   "source": [
    "# Algo"
   ]
  },
  {
   "cell_type": "markdown",
   "id": "5ca5b206",
   "metadata": {},
   "source": [
    "- Initialize three pointers: current pointing to the head of the linked list, previous initially set to None, and next_node to None.\n",
    "- Traverse the linked list using the current pointer until it becomes None.\n",
    "- Inside the loop, store the next node of the current node in the next_node pointer.\n",
    "- Reverse the links of the current node by setting its next pointer to the previous node and its prev pointer to the next_node node.\n",
    "- Update the previous pointer to the current node and move the current pointer to the next node (stored in next_node).\n",
    "- After the loop, update the head pointer to the last node (stored in the previous pointer)."
   ]
  },
  {
   "cell_type": "code",
   "execution_count": 37,
   "id": "829ff2c3",
   "metadata": {},
   "outputs": [
    {
     "name": "stdout",
     "output_type": "stream",
     "text": [
      "Original Linked List: 10 8 4 2 \n",
      "Reversed Linked List: 2 4 8 10 \n"
     ]
    }
   ],
   "source": [
    "class Node:\n",
    "    def __init__(self, data):\n",
    "        self.data = data\n",
    "        self.next = None\n",
    "        self.prev = None\n",
    "\n",
    "def reverse_doubly_linked_list(head):\n",
    "    if not head:\n",
    "        return None\n",
    "\n",
    "    current = head\n",
    "    previous = None\n",
    "\n",
    "    while current:\n",
    "        next_node = current.next\n",
    "        current.next = previous\n",
    "        current.prev = next_node\n",
    "        previous = current\n",
    "        current = next_node\n",
    "\n",
    "    head = previous\n",
    "    return head\n",
    "\n",
    "# Create the original linked list: 10 -> 8 -> 4 -> 2\n",
    "head = Node(10)\n",
    "node2 = Node(8)\n",
    "node3 = Node(4)\n",
    "node4 = Node(2)\n",
    "\n",
    "head.next = node2\n",
    "node2.prev = head\n",
    "node2.next = node3\n",
    "node3.prev = node2\n",
    "node3.next = node4\n",
    "node4.prev = node3\n",
    "\n",
    "# Print the original linked list\n",
    "current = head\n",
    "print(\"Original Linked List:\", end=\" \")\n",
    "while current:\n",
    "    print(current.data, end=\" \")\n",
    "    current = current.next\n",
    "print()\n",
    "\n",
    "# Reverse the linked list\n",
    "head = reverse_doubly_linked_list(head)\n",
    "\n",
    "# Print the reversed linked list\n",
    "current = head\n",
    "print(\"Reversed Linked List:\", end=\" \")\n",
    "while current:\n",
    "    print(current.data, end=\" \")\n",
    "    current = current.next\n",
    "print()\n"
   ]
  },
  {
   "cell_type": "markdown",
   "id": "f619601c",
   "metadata": {},
   "source": [
    "- The time complexity of this algorithm is O(N), where N is the number of nodes in the doubly linked list, as we need to traverse the entire list once. \n",
    "- The space complexity is O(1) as we are using a constant amount of extra space for the pointers."
   ]
  },
  {
   "cell_type": "markdown",
   "id": "6e910859",
   "metadata": {},
   "source": [
    "# Question_8"
   ]
  },
  {
   "cell_type": "markdown",
   "id": "b550bb92",
   "metadata": {},
   "source": [
    "Given a doubly linked list and a position. The task is to delete a node from given position in a doubly linked list.\n",
    "\n",
    "**Example 1:**\n",
    "\n",
    "```\n",
    "Input:\n",
    "LinkedList = 1 <--> 3 <--> 4\n",
    "x = 3\n",
    "Output:1 3\n",
    "Explanation:After deleting the node at\n",
    "position 3 (position starts from 1),\n",
    "the linked list will be now as 1->3.\n",
    "\n",
    "```\n",
    "\n",
    "**Example 2:**\n",
    "Input:\n",
    "LinkedList = 1 <--> 5 <--> 2 <--> 9\n",
    "x = 1\n",
    "Output:5 2 9"
   ]
  },
  {
   "cell_type": "markdown",
   "id": "c30a3d84",
   "metadata": {},
   "source": [
    "# Algo"
   ]
  },
  {
   "cell_type": "markdown",
   "id": "8a048bfd",
   "metadata": {},
   "source": [
    "- If the given position is 1 (head position), update the head pointer to the next node and make the new head's prev pointer None.\n",
    "- Traverse the doubly linked list to reach the node at the given position.\n",
    "- Connect the prev node of the node to be deleted with the next node of the node to be deleted.\n",
    "- If the node to be deleted is not the last node, update the prev pointer of the next node to the prev node of the node to be deleted.\n",
    "- Delete the node from memory."
   ]
  },
  {
   "cell_type": "code",
   "execution_count": 38,
   "id": "3459afe4",
   "metadata": {},
   "outputs": [
    {
     "name": "stdout",
     "output_type": "stream",
     "text": [
      "Original Linked list:\n",
      "1 3 4 \n",
      "Linked list after deleting node at position 2\n",
      "1 4 "
     ]
    }
   ],
   "source": [
    "# Define the Node class\n",
    "class Node:\n",
    "    def __init__(self, data=None):\n",
    "        self.data = data\n",
    "        self.prev = None\n",
    "        self.next = None\n",
    "\n",
    "# Function to delete a node from a doubly linked list\n",
    "def deleteNode(head, position):\n",
    "    # If list is empty\n",
    "    if head is None:\n",
    "        return head\n",
    "    \n",
    "    # If position is 1, update head pointer\n",
    "    if position == 1:\n",
    "        new_head = head.next\n",
    "        if new_head:\n",
    "            new_head.prev = None\n",
    "        return new_head\n",
    "    \n",
    "    # Traverse to the node at the given position\n",
    "    current = head\n",
    "    for _ in range(1, position):\n",
    "        if current is None:\n",
    "            return head\n",
    "        current = current.next\n",
    "    \n",
    "    # Connect the prev and next nodes of the node to be deleted\n",
    "    if current.prev:\n",
    "        current.prev.next = current.next\n",
    "    if current.next:\n",
    "        current.next.prev = current.prev\n",
    "    \n",
    "    # Delete the node from memory\n",
    "    del current\n",
    "    \n",
    "    return head\n",
    "\n",
    "# Create the doubly linked list\n",
    "head = Node(1)\n",
    "node2 = Node(3)\n",
    "node3 = Node(4)\n",
    "head.next = node2\n",
    "node2.prev = head\n",
    "node2.next = node3\n",
    "node3.prev = node2\n",
    "\n",
    "# Print the original list\n",
    "print(\"Original Linked list:\")\n",
    "current = head\n",
    "while current is not None:\n",
    "    print(current.data, end=\" \")\n",
    "    current = current.next\n",
    "\n",
    "# Delete a node at position 2\n",
    "position = 2\n",
    "head = deleteNode(head, position)\n",
    "\n",
    "# Print the modified list\n",
    "print(\"\\nLinked list after deleting node at position\", position)\n",
    "current = head\n",
    "while current is not None:\n",
    "    print(current.data, end=\" \")\n",
    "    current = current.next\n"
   ]
  },
  {
   "cell_type": "markdown",
   "id": "26dd91d2",
   "metadata": {},
   "source": [
    "- The time complexity of the deleteNode function is O(position), where position is the given position at which the node needs to be deleted. In the worst case, the function needs to traverse the linked list up to the given position.\n",
    "\n",
    "- The space complexity of the deleteNode function is O(1) because it does not require any additional data structures that grow with the size of the input."
   ]
  },
  {
   "cell_type": "markdown",
   "id": "b9b0fce1",
   "metadata": {},
   "source": []
  }
 ],
 "metadata": {
  "kernelspec": {
   "display_name": "Python 3 (ipykernel)",
   "language": "python",
   "name": "python3"
  },
  "language_info": {
   "codemirror_mode": {
    "name": "ipython",
    "version": 3
   },
   "file_extension": ".py",
   "mimetype": "text/x-python",
   "name": "python",
   "nbconvert_exporter": "python",
   "pygments_lexer": "ipython3",
   "version": "3.11.3"
  }
 },
 "nbformat": 4,
 "nbformat_minor": 5
}
